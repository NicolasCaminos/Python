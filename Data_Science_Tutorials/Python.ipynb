{
  "cells": [
    {
      "cell_type": "markdown",
      "metadata": {
        "colab_type": "text",
        "id": "view-in-github"
      },
      "source": [
        "<a href=\"https://colab.research.google.com/github/NicolasCaminos/Python/blob/v0.1/Data_Science_Tutorials/Python.ipynb\" target=\"_parent\"><img src=\"https://colab.research.google.com/assets/colab-badge.svg\" alt=\"Open In Colab\"/></a>"
      ]
    },
    {
      "cell_type": "markdown",
      "metadata": {
        "id": "Jj9APqZS_JHF"
      },
      "source": [
        "# Hola Pyhton\n"
      ]
    },
    {
      "cell_type": "markdown",
      "metadata": {
        "id": "eq4wdJS_C3vB"
      },
      "source": [
        "## Índice\n",
        "\n",
        "- [¿Qué es Python?](#qué-es-python)\n",
        "  - [¿Qué es un programa?](#qué-es-un-programa)\n",
        "  - [Mi Primer Programa](#mi-primer-programa)\n",
        "- [Tipos de datos](#tipos-de-datos)\n",
        "  - [Cadenas de texto](#cadenas-de-texto)\n",
        "  - [¿Qué es print?](#qué-es-print)\n",
        "  - [Comentarios](#comentarios)\n",
        "- [Colecciones](#colecciones)\n",
        "  - [Listas](#listas)\n",
        "  - [Tuplas](#tuplas)\n",
        "  - [Diccionarios](#diccionarios)\n",
        "- [Operadores](#operadores)\n",
        "  - [Operadores Aritméticos](#operadores-aritméticos)\n",
        "  - [Mi Primer Programa](#mi-primer-programa)\n",
        "- [Control de flujo](#control-de-flujo)\n",
        "- [Métodos de Colección](#métodos-de-colección)\n",
        "  - [Métodos de Cadenas de Texto](#métodos-de-cadenas-de-texto)\n",
        "  - [Métodos de listas](#métodos-de-listas)\n",
        "  - [Ejecicios](#ejecicioss)\n",
        "  - [Métodos de Colecciones](#métodos-de-colecciones)\n",
        "- [Funciones](#funciones)\n"
      ]
    },
    {
      "cell_type": "markdown",
      "metadata": {
        "id": "GWPE8oRW_NVa"
      },
      "source": [
        "## ¿Qué es python?\n"
      ]
    },
    {
      "cell_type": "markdown",
      "metadata": {
        "id": "hEwkHNqy_ZcH"
      },
      "source": [
        "Python es un lenguaje de programación de alto nivel, interpretado y multipropósito. Aquí tienes una definición más detallada:\n",
        "\n",
        "**Lenguaje de programación**: Python es un conjunto de reglas y sintaxis que permite a los programadores dar instrucciones a una computadora. Estas instrucciones se escriben en forma de código fuente.\n",
        "\n",
        "**Alto nivel**: Python se considera un lenguaje de alto nivel porque utiliza una sintaxis más cercana al lenguaje humano que a la máquina. Esto significa que es más fácil de aprender y de leer que los lenguajes de bajo nivel, como el lenguaje ensamblador.\n",
        "\n",
        "**Interpretado**: En lugar de compilar el código en un archivo ejecutable antes de ejecutarlo, como se hace en lenguajes compilados como C++ o Java, Python se interpreta línea por línea en tiempo real. Esto facilita la escritura y la depuración de código, pero a veces puede hacer que Python sea más lento en comparación con lenguajes compilados.\n",
        "\n",
        "**Multipropósito**: Python es versátil y se utiliza en una amplia variedad de aplicaciones, desde desarrollo web y científico hasta automatización de tareas y desarrollo de videojuegos. Su amplia gama de bibliotecas y módulos hace que sea adecuado para una amplia variedad de proyectos.\n",
        "\n",
        "Python es conocido por su legibilidad y facilidad de uso, lo que lo convierte en un lenguaje popular para principiantes en la programación. Además, su comunidad activa y su abundante documentación hacen que sea una elección sólida tanto para principiantes como para desarrolladores experimentados.\n"
      ]
    },
    {
      "cell_type": "markdown",
      "metadata": {
        "id": "bZHffNudBbt3"
      },
      "source": [
        "### ¿Qué es un programa?\n"
      ]
    },
    {
      "cell_type": "markdown",
      "metadata": {
        "id": "oq-4GDwMA4rv"
      },
      "source": [
        "**Programa**: Conjunto de instrucciones que entiende una computadora para realizar una actividad.\n",
        "Todo programa tiene un objetivo bien definido: un procesador de texto es un programa que permite cargar, modificar e imprimir textos, un programa de ajedrez permite jugar al ajedrez contra el ordenador u otro contrincante humano.\n",
        "La actividad fundamental del programador es resolver problemas empleando el ordenador como herramienta fundamental.\n",
        "\n",
        "Para la resolución de un problema hay que plantear un algoritmo.\n",
        "\n",
        "**Algoritmo**: Son los pasos a seguir para resolver un problema.\n",
        "\n",
        "**Variable**: Es un depósito donde hay un valor. Consta de un nombre y pertenece a un tipo de dato.\n",
        "\n",
        "En Python usamos \"Snake_case\" para nombrar las variables, es una de las convenciones de nomenclatura que se consideran una buena práctica para nombrar variables y otros identificadores en programación, especialmente en Python. Aquí te presento algunas buenas prácticas de nombrado de variables junto con ejemplos en \"snake_case\":\n",
        "\n",
        "1.  **Utiliza nombres descriptivos**: Elige nombres que reflejen claramente el propósito y el contenido de la variable. Los nombres descriptivos hacen que el código sea más legible y comprensible.\n",
        "2.  **Sigue las convenciones de nomenclatura del lenguaje**: En Python, la convención preferida es \"snake*case\". Las palabras se escriben en minúsculas y se separan por guiones bajos (*).\n",
        "3.  **Usa nombres en inglés**: Siempre es una buena práctica utilizar nombres en inglés para variables y otros identificadores, ya que es un estándar ampliamente aceptado en la programación.\n",
        "4.  **Sé consistente**: Mantén la consistencia en tus nombres de variables a lo largo de tu código. Utiliza un estilo y una convención de nomenclatura coherentes en todo tu proyecto.\n",
        "5.  **Evita nombres demasiado cortos o genéricos**: Evita nombres de una sola letra o nombres genéricos que no proporcionen información sobre el contenido de la variable.\n",
        "6.  **Usa nombres en inglés**: Siempre es una buena práctica utilizar nombres en inglés\n",
        "\n",
        "En Data Sciencia y Machine Learning tenemos la posibilidad de usar distintas librerías:\n",
        "\n",
        "- Pandas\n",
        "- Scikit-Learn\n",
        "- TensorFlow\n",
        "- Numpy\n",
        "- etc\n"
      ]
    },
    {
      "cell_type": "markdown",
      "metadata": {
        "id": "ry2EG78r_7R9"
      },
      "source": [
        "### Mi Primer Programa\n"
      ]
    },
    {
      "cell_type": "markdown",
      "metadata": {
        "id": "E_TJHHJWAOD5"
      },
      "source": [
        "Se prodecerá a realizar un programa de consola, la misma deberá mostrarnos en consola un texto. En este caso el elegido para el mismo es \"Hola Mundo\n"
      ]
    },
    {
      "cell_type": "code",
      "execution_count": null,
      "metadata": {
        "colab": {
          "base_uri": "https://localhost:8080/"
        },
        "id": "qtBQ40eh_Urt",
        "outputId": "5ea618b0-4654-4637-d67f-7797f3ded17c"
      },
      "outputs": [
        {
          "name": "stdout",
          "output_type": "stream",
          "text": [
            "Hola Mundo\n",
            "<class 'str'>\n"
          ]
        }
      ],
      "source": [
        "hello_world = \"Hola Mundo\"  # Creamos una variable y le asignamos un valor de texto\n",
        "\n",
        "print(hello_world)  # Hola Mundo\n",
        "\n",
        "# <class 'str'> Esto indica que el tipo de la variable es de clase string, es decir de texto.\n",
        "print(type(hello_world))"
      ]
    },
    {
      "cell_type": "markdown",
      "metadata": {
        "id": "bF2gZ8eLE1FN"
      },
      "source": [
        "## Tipos de datos\n"
      ]
    },
    {
      "cell_type": "markdown",
      "metadata": {
        "id": "wPOJu2bFFEFA"
      },
      "source": [
        "Python admite varios tipos de datos que se utilizan para representar diferentes tipos de valores. Aquí tienes una lista de los tipos de datos más comunes en Python:\n",
        "\n",
        "**Enteros (int)**: Representan números enteros sin decimales. Ejemplos: -5, 0, 42.\n",
        "\n",
        "**Flotantes (float)**: Representan números con decimales. Ejemplos: -3.14, 0.0, 3.14159.\n",
        "\n",
        "**Cadenas de texto (str)**: Representan secuencias de caracteres. Ejemplos: \"Hola, mundo\", 'Python', \"123\".\n",
        "\n",
        "**Booleanos (bool):** Representan valores verdaderos o falsos. Solo pueden tener dos valores posibles: True o False.\n",
        "\n",
        "**Listas**: Son secuencias ordenadas de elementos que pueden ser de cualquier tipo. Se definen con corchetes []. Ejemplo: [1, 2, 3, 4].\n",
        "\n",
        "**Tuplas:** Son secuencias ordenadas de elementos similares a las listas, pero son inmutables, lo que significa que no se pueden modificar una vez creadas. Se definen con paréntesis (). Ejemplo: (1, 2, 3).\n",
        "\n",
        "**Conjuntos (set):** Son colecciones desordenadas de elementos únicos. Se definen con llaves {} o con el constructor set(). Ejemplo: {1, 2, 3}.\n",
        "\n",
        "**Diccionarios:** Son colecciones de pares clave-valor. Cada elemento tiene una clave única y un valor asociado. Se definen con llaves {} y pares clave-valor separados por dos puntos :. Ejemplo: {'nombre': 'Juan', 'edad': 30}.\n",
        "\n",
        "**None:** Representa la ausencia de un valor o un valor nulo. Especialmente útil para inicializar variables sin asignarles un valor específico.\n",
        "\n",
        "Estos son los tipos de datos más básicos en Python, pero puedes crear tipos de datos personalizados utilizando clases. Además, Python es un lenguaje de tipado dinámico, lo que significa que no es necesario declarar explícitamente el tipo de una variable; Python lo infiere automáticamente en tiempo de ejecución.\n",
        "\n",
        "Puedes utilizar las funciones type() para conocer el tipo de una variable y isinstance() para verificar si una variable es de un tipo específico. Por ejemplo:\n"
      ]
    },
    {
      "cell_type": "code",
      "execution_count": null,
      "metadata": {
        "colab": {
          "base_uri": "https://localhost:8080/"
        },
        "id": "HDUAi_3BZRnu",
        "outputId": "73dc93e6-e9c0-45fa-f649-fcf72df68534"
      },
      "outputs": [
        {
          "name": "stdout",
          "output_type": "stream",
          "text": [
            "True False\n",
            "<class 'bool'>\n",
            "None\n",
            "<class 'NoneType'>\n",
            "2.3\n",
            "<class 'float'>\n",
            "<class 'int'>\n",
            "<class 'int'>\n",
            "<class 'str'>\n",
            "<class 'list'>\n",
            "True\n"
          ]
        }
      ],
      "source": [
        "# Booleanos\n",
        "variable_true = True  # verdadero\n",
        "variable_false = False  # falso\n",
        "print(variable_true, variable_false)  # True False\n",
        "print(type(variable_false))  # <class 'bool'>\n",
        "\n",
        "# None\n",
        "variable_none = None\n",
        "print(variable_none)  # None\n",
        "print(type(variable_none))  # <class 'NoneType'>\n",
        "\n",
        "# Float\n",
        "variable_float = 2.3\n",
        "print(variable_float)  # 2.3\n",
        "print(type(variable_float))  # <class 'float'>\n",
        "\n",
        "# Long\n",
        "# En python 2X sería un número Long(Largo) y se representaba así: 1L, eso cambio desde la versión 3x en adelante.ya los toma como enteros ahora\n",
        "variable_long = 123_456_789_012_345_678_901_234_567_890_123_456_7890\n",
        "# _ se usan para hacer mas legible a los números largos.\n",
        "print(type(variable_long))\n",
        "\n",
        "# entero\n",
        "variable_entero = 42  # 42\n",
        "print(type(variable_entero))  # <class 'int'>\n",
        "\n",
        "# Texto/ String\n",
        "variable_string = \"Hola\"  # Hola\n",
        "print(type(variable_string))  # <class 'str'>\n",
        "\n",
        "# Listas\n",
        "variable_list = [1, 2, 3]  # [1, 2, 3]\n",
        "print(type(variable_list))  # <class 'list'>\n",
        "print(isinstance(variable_list, list))  # True"
      ]
    },
    {
      "cell_type": "markdown",
      "metadata": {
        "id": "rKMNJwJwIuRz"
      },
      "source": [
        "#### Cadenas de texto\n"
      ]
    },
    {
      "cell_type": "markdown",
      "metadata": {
        "id": "wJTd4zptGBU4"
      },
      "source": [
        "#### ¿Qué es print?\n"
      ]
    },
    {
      "cell_type": "markdown",
      "metadata": {
        "id": "QmlHFC2XGIJo"
      },
      "source": [
        "Es una palabra reservada a una función de Phyton, la significa IMPRIMIR.\n"
      ]
    },
    {
      "cell_type": "code",
      "execution_count": null,
      "metadata": {
        "colab": {
          "base_uri": "https://localhost:8080/"
        },
        "id": "0dKRMca5GuaY",
        "outputId": "d594270e-36d6-4574-ba7e-5a820027a304"
      },
      "outputs": [
        {
          "name": "stdout",
          "output_type": "stream",
          "text": [
            "C:\\nombre\\nicolas\\directorio\n"
          ]
        }
      ],
      "source": [
        "# C:\\nombre\\directorio\\nicolas\\directorio\n",
        "print(r'C:\\nombre\\nicolas\\directorio')"
      ]
    },
    {
      "cell_type": "code",
      "execution_count": null,
      "metadata": {
        "colab": {
          "base_uri": "https://localhost:8080/"
        },
        "id": "durzmBpDG7HE",
        "outputId": "8835a45c-441a-4877-8c24-79eac586fd84"
      },
      "outputs": [
        {
          "name": "stdout",
          "output_type": "stream",
          "text": [
            "Cadena 1\n",
            "Cadena 2\n",
            "Candena 3\n",
            "\n"
          ]
        }
      ],
      "source": [
        "# Si vemos mantiene los saltos de línea al imprimir\n",
        "print(\"\"\"Cadena 1\n",
        "Cadena 2\n",
        "Candena 3\n",
        "\"\"\")\n",
        "# Cadena 1\n",
        "# Cadena 2\n",
        "# Candena 3"
      ]
    },
    {
      "cell_type": "markdown",
      "metadata": {
        "id": "MZS7ZLmxJBYl"
      },
      "source": [
        "Las secuencias de escape son combinaciones de caracteres que se utilizan en cadenas de texto y otros contextos para representar caracteres especiales o para controlar el formato y el comportamiento del texto. Estas secuencias de escape generalmente comienzan con el carácter de escape, que en muchos lenguajes de programación es la barra invertida \\. Algunas secuencias de escape comunes incluyen:\n",
        "\n",
        "**\\n**: Representa un carácter de nueva línea, que provoca un salto de línea en el texto.\n",
        "\n",
        "**\\t**: Representa un carácter de tabulación, que inserta un espacio en blanco equivalente al ancho de una tabulación.\n",
        "\n",
        "**\\r**: Representa un carácter de retorno de carro, que hace que el cursor de texto se mueva al principio de la línea actual.\n",
        "\n",
        "**\\\\**: Representa un carácter de barra invertida literal, ya que la barra invertida se utiliza como carácter de escape en sí misma.\n",
        "\n",
        "**\\'**: Representa una comilla simple (apóstrofe) dentro de una cadena delimitada por comillas simples.\n",
        "\n",
        "**\\\"**: Representa una comilla doble dentro de una cadena delimitada por comillas dobles.\n",
        "\n",
        "**\\b**: Representa un carácter de retroceso (backspace), que borra el carácter a la izquierda del cursor.\n",
        "\n",
        "**\\f**: Representa un carácter de avance de página, que se utiliza en algunos contextos para avanzar a la siguiente página o área de texto.\n",
        "\n",
        "**\\v**: Representa un carácter de tabulación vertical, que se utiliza en algunos contextos para avanzar verticalmente.\n"
      ]
    },
    {
      "cell_type": "code",
      "execution_count": null,
      "metadata": {
        "colab": {
          "base_uri": "https://localhost:8080/"
        },
        "id": "RKHrSgLXIJ_c",
        "outputId": "1b2ae4d2-d232-4c6c-c65e-93d5ec24d4d3"
      },
      "outputs": [
        {
          "name": "stdout",
          "output_type": "stream",
          "text": [
            "Hola\n",
            "Mundo\n"
          ]
        }
      ],
      "source": [
        "print('Hola\\nMundo')  # Otra forma de realizar saltos de líneas"
      ]
    },
    {
      "cell_type": "code",
      "execution_count": null,
      "metadata": {
        "id": "4Dyvwu9jIfiU"
      },
      "outputs": [],
      "source": [
        "print('Hola\\tMundo')  # Una manera de hacer tabulación"
      ]
    },
    {
      "cell_type": "code",
      "execution_count": null,
      "metadata": {
        "colab": {
          "base_uri": "https://localhost:8080/"
        },
        "id": "pCaeTXygJRdq",
        "outputId": "1f5d3d8f-a744-4f30-f659-3636fddf8eff"
      },
      "outputs": [
        {
          "name": "stdout",
          "output_type": "stream",
          "text": [
            "Texto después del retorno de carro.\n"
          ]
        }
      ],
      "source": [
        "print(\"Texto antes del retorno de carro.\\rTexto después del retorno de carro.\")"
      ]
    },
    {
      "cell_type": "code",
      "execution_count": null,
      "metadata": {
        "colab": {
          "base_uri": "https://localhost:8080/"
        },
        "id": "QYoPsADSJTQu",
        "outputId": "ab5f3594-9bd1-43c3-e390-46680f5dbc6d"
      },
      "outputs": [
        {
          "name": "stdout",
          "output_type": "stream",
          "text": [
            "Esto es una barra invertida: \\\n"
          ]
        }
      ],
      "source": [
        "print(\"Esto es una barra invertida: \\\\\")"
      ]
    },
    {
      "cell_type": "code",
      "execution_count": null,
      "metadata": {
        "colab": {
          "base_uri": "https://localhost:8080/"
        },
        "id": "BPdyzcsqJVuz",
        "outputId": "04602c85-77d8-4a5c-e27e-93723d2e34ea"
      },
      "outputs": [
        {
          "name": "stdout",
          "output_type": "stream",
          "text": [
            "Esto es una comilla simple: '\n"
          ]
        }
      ],
      "source": [
        "print('Esto es una comilla simple: \\'')"
      ]
    },
    {
      "cell_type": "code",
      "execution_count": null,
      "metadata": {
        "colab": {
          "base_uri": "https://localhost:8080/",
          "height": 90
        },
        "id": "W28UNuXmPdHo",
        "outputId": "8a58e60d-6481-4094-c735-582ae8b94295"
      },
      "outputs": [
        {
          "name": "stdout",
          "output_type": "stream",
          "text": [
            "Nombre\tEdad\tCiudad\n",
            "Juan\t30\tMadrid\n",
            "María\t25\tBarcelona\n"
          ]
        }
      ],
      "source": [
        "print(\"Nombre\\tEdad\\tCiudad\")\n",
        "print(\"Juan\\t30\\tMadrid\")\n",
        "print(\"María\\t25\\tBarcelona\")\n",
        "\n",
        "# Comentario del resultado de consola\n",
        "\n",
        "# Nombre edad Cidudad\n",
        "# Juan   30   Madrid\n",
        "# Maria  25   Barcelona"
      ]
    },
    {
      "cell_type": "code",
      "execution_count": null,
      "metadata": {
        "colab": {
          "base_uri": "https://localhost:8080/"
        },
        "id": "CY392xUZJXrn",
        "outputId": "d79272bc-06fd-4a6f-a16e-0cb02bd0bcc9"
      },
      "outputs": [
        {
          "name": "stdout",
          "output_type": "stream",
          "text": [
            "Texto con retroceso:\n"
          ]
        }
      ],
      "source": [
        "print(\"Texto con retroceso: \\b\")"
      ]
    },
    {
      "cell_type": "code",
      "execution_count": null,
      "metadata": {
        "colab": {
          "base_uri": "https://localhost:8080/"
        },
        "id": "uKY9JfZ_KfPM",
        "outputId": "60d9d73c-ffd9-4106-824c-63b4abc9fb03"
      },
      "outputs": [
        {
          "name": "stdout",
          "output_type": "stream",
          "text": [
            "Nicolas eres mayor a 18 años, indicaste que tenes: 35 años\n"
          ]
        }
      ],
      "source": [
        "name_user = input('Ingrese nombre: ')\n",
        "# Transformo el valor Edad a un valor entero(Numérico sin decimal), ya que sino no podre usarlo en el condicional\n",
        "year = int(input('Ingrese Edad: '))\n",
        "\n",
        "# Condicional\n",
        "if (year >= 18):  # Si Edad es mayor o igual a 18\n",
        "    # imprimir: {Nombre} eres mayor a 18 años, indicaste que tenes: {Edad}\n",
        "    print(f'{name_user} eres mayor a 18 años, indicaste que tenes: {year} años')\n",
        "else:  # sino cumplis la condición\n",
        "    print(f'{name_user} eres menor')  # imprimir: {Nombre} eres menor"
      ]
    },
    {
      "cell_type": "markdown",
      "metadata": {
        "id": "5PyDi-KrNpOq"
      },
      "source": [
        "#### Comentarios\n"
      ]
    },
    {
      "cell_type": "markdown",
      "metadata": {
        "id": "if3e7O2uNrNl"
      },
      "source": [
        "En Python, puedes agregar comentarios a tu código **para hacerlo más legible y para proporcionar explicaciones sobre lo que hace el código**. Los comentarios son líneas de texto que Python ignora al ejecutar el programa. Aquí tienes cómo crear comentarios en Python:\n",
        "\n",
        "**Comentarios de una línea:** Utiliza el símbolo # para iniciar un comentario de una sola línea. Todo lo que siga a # en esa línea se considera un comentario.\n",
        "\n",
        "Los comentarios son una práctica útil para explicar la lógica de tu código, proporcionar documentación y hacer que el código sea más comprensible para ti y para otros programadores que puedan leerlo. Es importante utilizar comentarios de manera efectiva para que el código sea más mantenible y colaborativo.\n",
        "\n",
        "**UN CóDIGO LEGIBLE NO NECESITA MUCHO COMENTARIOS PARA EXPLICARLO**\n"
      ]
    },
    {
      "cell_type": "code",
      "execution_count": null,
      "metadata": {
        "id": "arG0Her3N79u"
      },
      "outputs": [],
      "source": [
        "# Esto es un comentario de una línea\n",
        "\n",
        "'''\n",
        "Este es un comentario\n",
        "de varias líneas.\n",
        "'''\n",
        "\n",
        "\"\"\"\n",
        "Este también es un comentario\n",
        "de varias líneas.\n",
        "\"\"\"\n",
        "\n",
        "\n",
        "def mi_funcion():\n",
        "    \"\"\"\n",
        "    Esta es una docstring que describe la función.\n",
        "    \"\"\"\n",
        "    pass"
      ]
    },
    {
      "cell_type": "markdown",
      "metadata": {
        "id": "ZIRsdtkfhp-r"
      },
      "source": [
        "<h4> Actividad 1</h4>\n"
      ]
    },
    {
      "cell_type": "markdown",
      "metadata": {
        "id": "u-NBhNwtjh3j"
      },
      "source": [
        "Trabajas en Coderhouse y te piden crear un programa que calcule la nota final de estudiantes de Python. La nota final se calcula basándonos en tres notas previas de las cuales, cada una corresponde un porcentaje distinto de la nota final. Los porcentajes se detallan a continuación:\n",
        "\n",
        "1. nota_1 cuenta como el 20% de la nota final\n",
        "2. nota_2 cuenta como el 30% de la nota final\n",
        "3. nota_3 cuenta como el 50% de la nota final\n",
        "\n",
        "- Tener en cuenta los temas vistos: Números, print, variables, operaciones\n",
        "  matemáticas, cadenas de texto.\n",
        "- Los datos deben guardarse en variables y deben ser dinámicos por medio de input\n"
      ]
    },
    {
      "cell_type": "markdown",
      "metadata": {
        "id": "Jjxul5vukvAQ"
      },
      "source": [
        "Respuesta:\n"
      ]
    },
    {
      "cell_type": "code",
      "execution_count": null,
      "metadata": {
        "colab": {
          "base_uri": "https://localhost:8080/"
        },
        "id": "BMH-Nxpfh1hK",
        "outputId": "31273182-8404-4f7e-f103-6088355e4988"
      },
      "outputs": [
        {
          "name": "stdout",
          "output_type": "stream",
          "text": [
            "Hola, te doy la bienvenida al sistema de notas Infinity war.\n",
            "El calculo de tu primera nota es: 2.0\n",
            "El calculo de tu segunda nota es: 1.8\n",
            "El calculo de tu tercer nota es: 2.5\n",
            "\n",
            "El calculo final de la nota para el alumno Nicolas es: 6.3\n"
          ]
        }
      ],
      "source": [
        "'''En este caso evaluamos con el while que si no se ingresan datos\n",
        "y reiniciamos todo el pedido para que finalizce el programa. Caso contrario el bucle reinicia el programa.\n",
        "'''\n",
        "\n",
        "print('Hola, te doy la bienvenida al sistema de notas Infinity war.')\n",
        "\n",
        "while True:\n",
        "    try:\n",
        "        name_student = input('Ingrese nombre: ')\n",
        "\n",
        "        if name_student != \"\":\n",
        "            note_one = int(input('Ingrese primera nota: '))\n",
        "\n",
        "            if 0 < note_one <= 10:\n",
        "                note_two = int(input('Ingrese segunda nota: '))\n",
        "\n",
        "                if 0 < note_two <= 10:\n",
        "                    note_three = int(input('Ingrese tercer nota: '))\n",
        "\n",
        "                    if 0 < note_three <= 10:\n",
        "                        note_one = note_one * 0.20\n",
        "                        note_one = round(note_one, 2)\n",
        "                        print(f'El calculo de tu primera nota es: {note_one}')\n",
        "\n",
        "                        note_two = note_two * 0.30\n",
        "                        note_two = round(note_two, 2)\n",
        "                        print(f'El calculo de tu segunda nota es: {note_two}')\n",
        "\n",
        "                        note_three = note_three * 0.50\n",
        "                        note_three = round(note_three, 2)\n",
        "                        print(\n",
        "                            f'El calculo de tu tercer nota es: {note_three}\\n')\n",
        "\n",
        "                        final_note = note_one + note_two + note_three\n",
        "                        final_note = round(final_note, 2)\n",
        "                        print(\n",
        "                            f'El calculo final de la nota para el alumno {name_student} es: {final_note}')\n",
        "                        break\n",
        "                    else:\n",
        "                        print(\n",
        "                            f'Ingresaste {note_three} y no es válida. Las notas deben estar entre 0 y 10.')\n",
        "                else:\n",
        "                    print(\n",
        "                        f'Ingresaste {note_two} y no es válida. Las notas deben estar entre 0 y 10.')\n",
        "            else:\n",
        "                print(\n",
        "                    f'Ingresaste {note_one} y no es válida. Las notas deben estar entre 0 y 10.')\n",
        "        else:\n",
        "            print('El nombre no puede estar vacío. Por favor, ingresa un nombre válido.')\n",
        "    except ValueError:\n",
        "        print('Ingresaste datos no válidos.')"
      ]
    },
    {
      "cell_type": "markdown",
      "metadata": {
        "id": "5U2qXclZC3vZ"
      },
      "source": [
        "## Colecciones\n"
      ]
    },
    {
      "cell_type": "markdown",
      "metadata": {
        "id": "ooflk1I-C3va"
      },
      "source": [
        "### Listas\n"
      ]
    },
    {
      "cell_type": "markdown",
      "metadata": {
        "id": "cmK_EHz5C3va"
      },
      "source": [
        "Una lista es una colección de elementos ordenados y mutables. A diferencia de las tuplas, las listas permiten modificar su contenido, lo que significa que puedes agregar, eliminar o cambiar elementos después de crear la lista. Las listas se utilizan comúnmente para almacenar colecciones de datos que pueden cambiar durante la ejecución del programa.\n",
        "\n",
        "Las características clave de las listas en Python son:\n",
        "\n",
        "Ordenadas: Los elementos en una lista se mantienen en un orden específico y se acceden por índice.\n",
        "\n",
        "Mutables: Puedes modificar los elementos individuales de una lista después de crearla.\n",
        "\n",
        "Pueden contener elementos de diferentes tipos: Al igual que las tuplas, las listas pueden contener elementos de diferentes tipos.\n",
        "\n",
        "Sintaxis: Las listas se crean utilizando corchetes [] o utilizando la función list().\n"
      ]
    },
    {
      "cell_type": "markdown",
      "metadata": {
        "id": "KXTlJuikC3va"
      },
      "source": [
        "<h4> Ejercicios</h4>\n"
      ]
    },
    {
      "cell_type": "code",
      "execution_count": null,
      "metadata": {
        "id": "GIpBH2nmC3va",
        "outputId": "8c6319a8-e461-4b4b-ffad-5ee106bc7f34"
      },
      "outputs": [
        {
          "name": "stdout",
          "output_type": "stream",
          "text": [
            "['Argentina', 'Brasil', 'Colombia', 'Nicaragua', 'Bolivia']\n",
            "Argentina\n",
            "['Brasil', 'Colombia', 'Nicaragua', 'Bolivia']\n",
            "['Argentina', 'Brasil']\n",
            "['Argentina', 'Brasil']\n",
            "2\n",
            "['Argentina', 'Brasil', 'Bolivia', 'Bolivias']\n",
            "['Argentina', 'Alemania', 'Bolivia', 'Bolivias']\n",
            "['España', 'Argentina', 'Alemania', 'Bolivia', 'Bolivias']\n",
            "[0, 1, 2, 3, 4, 5, 1]\n",
            "[0, 1, 2, 3, 4, 5, 1, 7]\n",
            "[0, 1, 2, 3, 4, 5, 1, 7, 8, 9]\n"
          ]
        }
      ],
      "source": [
        "# creamos lista.\n",
        "paises = ['Argentina', 'Brasil', 'Colombia', 'Nicaragua', 'Bolivia']\n",
        "print(paises)  # Imprimimos toda la lista.\n",
        "print(paises[0])  # Imprimimos el valor 0 de la lista.\n",
        "print(paises[1:])  # Imprimimos paises desde la posición Argentina en adelante.\n",
        "print(paises[:-3])  # imprimos desde la posición 3 para atras.\n",
        "# Borramos datos de la lísta desde la posición 2 en adelante con slicing.\n",
        "paises[2:] = []\n",
        "print(paises)  # vemos la nueva lista formada.\n",
        "print(len(paises))  # vemos la cantidad de datos en la lista que sería 1.\n",
        "paises.append('Bolivia')  # Agregamos el valor Bolivia.\n",
        "paises.append('Bolivias')  # Agregamos el valor Bolivia.\n",
        "\n",
        "print(paises)\n",
        "paises[1] = 'Alemania'  # Modificamos Brasil por Alemania.\n",
        "print(paises)\n",
        "paises.insert(0, 'España')  # Agregamos el valor España en la posición 0.\n",
        "print(paises)\n",
        "\n",
        "\n",
        "numeros = [0, 1, 2, 3, 4, 5, 1]\n",
        "# Con el método Count podemos contar la cantidad de veces que se repite un valor en la lista.\n",
        "numeros.count(1)\n",
        "print(numeros)\n",
        "numeros.append(7)  # Con el método Appende podemos agregar datos a una línea.\n",
        "print(numeros)\n",
        "# El método extend sirve para extender una lista creada.\n",
        "numeros.extend((8, 9))\n",
        "print(numeros)"
      ]
    },
    {
      "cell_type": "markdown",
      "metadata": {
        "id": "QAjkSZOlC3vb"
      },
      "source": [
        "### Tuplas\n"
      ]
    },
    {
      "cell_type": "markdown",
      "metadata": {
        "id": "aRZ3gvCAC3vg"
      },
      "source": [
        "Una tupla es una colección de elementos ordenados e inmutables. Esto significa que una vez que defines una tupla, no puedes modificar su contenido (agregar, eliminar o cambiar elementos). Las tuplas se utilizan para almacenar una colección de elementos cuando se quiere asegurar que los datos no sean modificados accidentalmente durante la ejecución del programa.\n",
        "\n",
        "Las características clave de las tuplas en Python son:\n",
        "\n",
        "1. **Ordenadas**: Los elementos en una tupla mantienen un orden específico, lo que significa que puedes acceder a ellos por su índice.\n",
        "\n",
        "2. **Inmutables**: No puedes modificar los elementos individuales de una tupla después de crearla. Esto las hace útiles para datos que no deben cambiar durante la ejecución del programa.\n",
        "\n",
        "3. **Pueden contener elementos de diferentes tipos**: Puedes tener elementos de diferentes tipos en una misma tupla.\n",
        "\n",
        "4. **Sintaxis**: Las tuplas se crean utilizando paréntesis `()` o simplemente separando los elementos con comas `,`.\n"
      ]
    },
    {
      "cell_type": "markdown",
      "metadata": {
        "id": "BzkNYK1kC3vg"
      },
      "source": [
        "<h4> Ejercicios</h4>\n"
      ]
    },
    {
      "cell_type": "code",
      "execution_count": null,
      "metadata": {
        "id": "OAzLMqMlC3vg",
        "outputId": "3745f061-8be7-42c7-c935-715d3c94f807"
      },
      "outputs": [
        {
          "name": "stdout",
          "output_type": "stream",
          "text": [
            "(1, 'hola', [1, 2, 3, 4], 2.0)\n",
            "2\n"
          ]
        }
      ],
      "source": [
        "tupla = (1, \"hola\", [1, 2, 3, 4], 2.0)\n",
        "print(tupla)\n",
        "# Accedemos al array y elegimos el valor por posición.\n",
        "tupla_posicion = tupla[2][1]\n",
        "print(tupla_posicion)\n",
        "\n",
        "lista_vacia = list()  # Creamos Lista Vacia."
      ]
    },
    {
      "cell_type": "code",
      "execution_count": null,
      "metadata": {
        "id": "oNbsLmz-C3vh",
        "outputId": "f5256218-0591-4e91-ddb0-9a80b74ce0b4"
      },
      "outputs": [
        {
          "name": "stdout",
          "output_type": "stream",
          "text": [
            "(1,)\n",
            "()\n"
          ]
        }
      ],
      "source": [
        "# Tupla de un valor\n",
        "tupla_de_uno = 1,  # Creamos una tupla de un solo valor.\n",
        "print(tupla_de_uno)\n",
        "\n",
        "# tupla vacia\n",
        "\n",
        "tupla_vacia = tuple()  # El método tuple() no dejará crear una tupla vacia\n",
        "print(tupla_vacia)"
      ]
    },
    {
      "cell_type": "code",
      "execution_count": null,
      "metadata": {
        "id": "oich3U7rC3vi",
        "outputId": "17245e69-e33f-4b11-d384-ded9950de9f2"
      },
      "outputs": [
        {
          "name": "stdout",
          "output_type": "stream",
          "text": [
            "(1, 2, 4)\n",
            "(1, 2, 4, 5)\n",
            "(1, 2, 3, 4, 5)\n"
          ]
        }
      ],
      "source": [
        "tupla_original = (1, 2, 3)\n",
        "elemento_modificado = 4  # posición\n",
        "tupla_modificada = tupla_original[:2] + \\\n",
        "    (elemento_modificado,) + tupla_original[2+1:]\n",
        "# Como una tupla es inmutable,debemos crear una nueva.\n",
        "# Por tal motivo de la tupla original, decimos por slicing que nos agarre el valor 1, 2, agrege el nuevo valor 4\n",
        "\n",
        "print(tupla_modificada)  # Imprime (1, 2, 4)\n",
        "\n",
        "tupla_original = (1, 2, 3, 4, 5)\n",
        "indice_a_eliminar = 2\n",
        "tupla_sin_elemento = tupla_original[:indice_a_eliminar] + \\\n",
        "    tupla_original[indice_a_eliminar+1:]\n",
        "\n",
        "print(tupla_sin_elemento)  # Imprime (1, 2, 4, 5)\n",
        "\n",
        "tupla_original = (1, 2, 3, 5)\n",
        "elemento_insertado = 4\n",
        "indice_de_insercion = 3\n",
        "tupla_con_elemento_insertado = (\n",
        "    tupla_original[:indice_de_insercion] +\n",
        "    (elemento_insertado,) +\n",
        "    tupla_original[indice_de_insercion:]\n",
        ")\n",
        "\n",
        "print(tupla_con_elemento_insertado)  # Imprime (1, 2, 3, 4, 5)"
      ]
    },
    {
      "cell_type": "markdown",
      "metadata": {
        "id": "NbNM_JZCC3vi"
      },
      "source": [
        "### Diccionarios\n"
      ]
    },
    {
      "cell_type": "markdown",
      "metadata": {
        "id": "pyINhgxrC3vi"
      },
      "source": [
        "Un diccionario es una estructura de datos que permite almacenar y organizar datos de manera eficiente en forma de pares clave-valor. Cada elemento en un diccionario consta de una clave única y su correspondiente valor asociado. Los diccionarios son mutables, lo que significa que puedes agregar, modificar y eliminar elementos de ellos de manera dinámica.\n",
        " \n",
        " \n",
        "Las características clave de los diccionarios en Python son:\n",
        "\n",
        "- Clave única: Cada clave en un diccionario es única, lo que significa que no puede haber duplicados de claves en el mismo diccionario.\n",
        "\n",
        "- Asociación clave-valor: Cada clave en un diccionario está asociada a un valor. Los valores pueden ser de cualquier tipo de datos, incluyendo números, cadenas, listas, otros diccionarios e incluso objetos personalizados.\n",
        "\n",
        "- No ordenados: Hasta Python 3.6, los diccionarios no garantizaban un orden específico para sus elementos. A partir de Python 3.7, la implementación estándar de Python preserva el orden de inserción de los elementos en un diccionario.\n",
        "\n",
        "- Mutable: Los diccionarios pueden modificarse, lo que significa que puedes agregar, eliminar o modificar pares clave-valor después de crear el diccionario.\n",
        "\n",
        "- Sintaxis de creación: Los diccionarios se crean utilizando llaves {} y pares clave-valor separados por dos puntos : .\n",
        "\n",
        "La diferencia principal entre los diccionarios y las listas o las tuplas es\n",
        "que a los valores almacenados en un diccionario se les accede no por su\n",
        "índice, porque de hecho no tienen orden, sino por su clave, utilizando\n",
        "de nuevo el operador [].\n"
      ]
    },
    {
      "cell_type": "code",
      "execution_count": null,
      "metadata": {
        "id": "6uRMdW9gC3vj",
        "outputId": "092348e7-9f78-4428-ea4b-8d4d272bbd4c"
      },
      "outputs": [
        {
          "name": "stdout",
          "output_type": "stream",
          "text": [
            "Tarantino\n",
            "Richard Curtis\n",
            "{'Love Actually': 'Richard Curtis', 'Kill Bill': 'Tarantino', 'Amélie': 'Jean-Pierre Jeunet'}\n",
            "{'Love Actually': 'Richard Curtis', 'Kill Bill': 'Tarantino'}\n",
            "{'Love Actually': 'Richard Curtis', 'Kill Bill': 'Tarantino', 'Marvel': 'Iron Man'}\n",
            "{'Love Actually': 'Richard Curtis', 'Kill Bill': 'Tarantino', 'Marvel': 'Spiderman'}\n"
          ]
        }
      ],
      "source": [
        "mi_diccionario = {\"Love Actually\": \"Richard Curtis\",\n",
        "                  \"Kill Bill\": \"Tarantino\", \"Amélie\": \"Jean-Pierre Jeunet\"}\n",
        "\n",
        "# Imprime el valor asociado a la clave \"Kill Bill\"\n",
        "print(mi_diccionario[\"Kill Bill\"])\n",
        "\n",
        "# Si deseas almacenar el valor en una variable:\n",
        "valor_love_actually = mi_diccionario[\"Love Actually\"]\n",
        "print(valor_love_actually)  # Imprime el valor almacenado en la variable\n",
        "\n",
        "# El diccionario original no se ha modificado:\n",
        "print(mi_diccionario)  # Imprime el diccionario original\n",
        "\n",
        "# Eliminamos\n",
        "del mi_diccionario[\"Amélie\"]\n",
        "print(mi_diccionario)\n",
        "\n",
        "# Agregamos vamor al diccionario\n",
        "\n",
        "mi_diccionario[\"Marvel\"] = \"Iron Man\"\n",
        "print(mi_diccionario)\n",
        "\n",
        "# Modificamos nuestro diccionario\n",
        "mi_diccionario[\"Marvel\"] = \"Spiderman\"\n",
        "print(mi_diccionario)"
      ]
    },
    {
      "cell_type": "markdown",
      "metadata": {
        "id": "DgmX7iFZC3vj"
      },
      "source": [
        "## Operadores\n"
      ]
    },
    {
      "cell_type": "markdown",
      "metadata": {
        "id": "EMJPfmEDC3vk"
      },
      "source": [
        "### Operadores Aritméticos\n"
      ]
    },
    {
      "cell_type": "code",
      "execution_count": null,
      "metadata": {
        "id": "Zll1UBrWC3vk",
        "outputId": "8d6892b2-6bf1-4426-c9c1-af28bf254a87"
      },
      "outputs": [
        {
          "name": "stdout",
          "output_type": "stream",
          "text": [
            "Requirement already satisfied: tabulate in c:\\python311\\lib\\site-packages (0.9.0)\n",
            "Note: you may need to restart the kernel to use updated packages.\n",
            "+-----------------+-----------+--------------------+---------------------------------------------------------------------------------------------------------------------+\n",
            "| Nombre          | Simbolo   | Tipo de Operador   | Tipo de uso                                                                                                         |\n",
            "+=================+===========+====================+=====================================================================================================================+\n",
            "| Suma            | +         | Aritmético         | Permite realizar una suma de valores                                                                                |\n",
            "+-----------------+-----------+--------------------+---------------------------------------------------------------------------------------------------------------------+\n",
            "| Resta           | -         | Aritmético         | Permite realizar una resta de valores                                                                               |\n",
            "+-----------------+-----------+--------------------+---------------------------------------------------------------------------------------------------------------------+\n",
            "| Multiplicación  | *         | Aritmético         | Permite realizar una multiplicación de valores                                                                      |\n",
            "+-----------------+-----------+--------------------+---------------------------------------------------------------------------------------------------------------------+\n",
            "| División        | /         | Aritmético         | Permite realizar una división de valores EJ: 3.5//2= sería igual a 1.75                                             |\n",
            "+-----------------+-----------+--------------------+---------------------------------------------------------------------------------------------------------------------+\n",
            "| División entera | //        | Aritmético         | Obtiene el resultado solola parte entera EJ: 3.5//2= sería igual a 1.0                                              |\n",
            "+-----------------+-----------+--------------------+---------------------------------------------------------------------------------------------------------------------+\n",
            "| Exponente       | **        | Aritmético         | Permite realizar calcular la potencia de un número elevado a otro número                                            |\n",
            "+-----------------+-----------+--------------------+---------------------------------------------------------------------------------------------------------------------+\n",
            "| Módulo          | %         | Aritmético         | s el resto de la división entre los dos operandos. En el ejemplo, 7/2 sería 3, con 1 de resto, luego el módulo es 1 |\n",
            "+-----------------+-----------+--------------------+---------------------------------------------------------------------------------------------------------------------+\n",
            "| Negación        | -         | Aritmético         | Permite negar un número, se utiliza el signo menos antes del número a negar. EJ: -7                                 |\n",
            "+-----------------+-----------+--------------------+---------------------------------------------------------------------------------------------------------------------+\n"
          ]
        }
      ],
      "source": [
        "'''pip es una herramienta de línea de comandos que se utiliza para instalar paquetes de Python desde el índice de paquetes de Python (PyPI) u otros repositorios. Puedes utilizarlo para instalar bibliotecas, módulos y aplicaciones escritas en Python.En este caso le pedimos a python que instale la libreria tabulate para crear tablas. '''\n",
        "\n",
        "%pip install tabulate\n",
        "\n",
        "from tabulate import tabulate\n",
        "\n",
        "header_table= ['Nombre', 'Simbolo', 'Tipo de Operador', 'Tipo de uso']\n",
        "data_table=[\n",
        "    ['Suma','+','Aritmético', 'Permite realizar una suma de valores'],\n",
        "    ['Resta','-','Aritmético','Permite realizar una resta de valores'],\n",
        "    ['Multiplicación','*','Aritmético','Permite realizar una multiplicación de valores'],\n",
        "    ['División','/','Aritmético','Permite realizar una división de valores EJ: 3.5//2= sería igual a 1.75'],\n",
        "    ['División entera','//','Aritmético','Obtiene el resultado solola parte entera EJ: 3.5//2= sería igual a 1.0'],\n",
        "    ['Exponente','**','Aritmético','Permite realizar calcular la potencia de un número elevado a otro número'],\n",
        "    ['Módulo','%','Aritmético','s el resto de la división entre los dos operandos. En el ejemplo, 7/2 sería 3, con 1 de resto, luego el módulo es 1'],\n",
        "    ['Negación','-','Aritmético','Permite negar un número, se utiliza el signo menos antes del número a negar. EJ: -7'],\n",
        "\n",
        "]\n",
        "\n",
        "# Utiliza la función tabulate para crear la tabla\n",
        "tabla = tabulate(data_table, header_table, tablefmt=\"grid\")\n",
        "\n",
        "# Imprime la tabla\n",
        "print(tabla)"
      ]
    },
    {
      "cell_type": "code",
      "execution_count": null,
      "metadata": {
        "id": "0STwMTWEC3vl",
        "outputId": "4da0d72e-9632-46e6-d01c-416e9fb699c4"
      },
      "outputs": [
        {
          "name": "stdout",
          "output_type": "stream",
          "text": [
            "2\n",
            "3\n",
            "9\n",
            "2.0\n",
            "2\n",
            "8\n",
            "1\n",
            "-7\n"
          ]
        }
      ],
      "source": [
        "# SUMA\n",
        "result_variable = 1 + 1\n",
        "print(result_variable)\n",
        "\n",
        "# RESTA\n",
        "result_resta = 4-1\n",
        "print(result_resta)\n",
        "\n",
        "# MULTIPLICACIÓN\n",
        "result_multiplicacion = 3*3\n",
        "print(result_multiplicacion)\n",
        "\n",
        "# DIVISION\n",
        "result_division = 6/3\n",
        "print(result_division)\n",
        "\n",
        "# DIVISION ENTERA\n",
        "result_div_entera = 7//3\n",
        "print(result_div_entera)\n",
        "\n",
        "# EXPONENTE\n",
        "result_exponente = 2**3\n",
        "print(result_exponente)\n",
        "\n",
        "# MODULO\n",
        "result_modulo = 7 % 3\n",
        "print(result_modulo)\n",
        "\n",
        "# NEGACION\n",
        "negacion = -7\n",
        "print(negacion)"
      ]
    },
    {
      "cell_type": "markdown",
      "metadata": {
        "id": "hxlf9YDvC3vl"
      },
      "source": [
        "### Operadores Relacionales\n"
      ]
    },
    {
      "cell_type": "markdown",
      "metadata": {
        "id": "GeIjoO-pC3vl"
      },
      "source": [
        "En programacións son utilizados para comparar dos valores y determinar la relación entre ellos. Estos operadores evalúan si una condición es verdadera o falsa.\n",
        "Entre ellas tenemos:\n",
        "\n",
        "1. Igual a (==)\n",
        "2. Diferente de (!=)\n",
        "3. Mayor que (>)\n",
        "4. Menor que (<):\n",
        "5. Mayor o igual que (>=)\n",
        "6. Menor o igual que (<=)\n"
      ]
    },
    {
      "cell_type": "code",
      "execution_count": null,
      "metadata": {
        "id": "81pxZDYHC3vm",
        "outputId": "3570c980-5c66-4ca6-f656-831a7836e7a0"
      },
      "outputs": [
        {
          "name": "stdout",
          "output_type": "stream",
          "text": [
            "False\n",
            "True\n",
            "True\n",
            "False\n",
            "False\n"
          ]
        }
      ],
      "source": [
        "a = 5\n",
        "b = 10\n",
        "resultado = a == b  # resultado es True\n",
        "print(resultado)\n",
        "\n",
        "a = 5\n",
        "b = 10\n",
        "resultado = a != b  # resultado es True\n",
        "print(resultado)\n",
        "\n",
        "a = 5\n",
        "b = 10\n",
        "resultado = a < b  # resultado es True\n",
        "print(resultado)\n",
        "\n",
        "a = 10\n",
        "b = 65\n",
        "resultado = a >= b  # resultado es True\n",
        "print(resultado)\n",
        "\n",
        "a = 35\n",
        "b = 10\n",
        "resultado = a <= b  # resultado es True\n",
        "print(resultado)"
      ]
    },
    {
      "cell_type": "markdown",
      "metadata": {
        "id": "BF2_HjVdC3vn"
      },
      "source": [
        "### Operadores Lógicos\n"
      ]
    },
    {
      "cell_type": "markdown",
      "metadata": {
        "id": "pvA0rjhFC3vn"
      },
      "source": [
        "Son utilizados para realizar operaciones lógicas en expresiones booleanas.\n",
        "Las expresiones booleanas, en programación y matemáticas, son declaraciones o combinaciones de valores que pueden tener solo dos posibles resultados: Verdadero **(True)** o Falso **(False)**.\n",
        "Estas expresiones se utilizan para representar condiciones lógicas y se evalúan en función de si la afirmación es verdadera o falsa.\n",
        "\n",
        "En programación, las expresiones booleanas son fundamentales para controlar el flujo de un programa, tomar decisiones y realizar pruebas de condición. Se utilizan en estructuras de control como instrucciones condicionales (if, bucles while y for), y en operaciones lógicas en general.\n",
        "\n",
        "- AND (Y): Representado por el símbolo \"&&\" o la palabra clave \"y\". Devuelve verdadero si ambas expresiones son verdaderas.\n",
        "- OR (O): Representado por el símbolo \"||\" o la palabra clave \"o\". Devuelve verdadero si al menos una de las expresiones es verdadera.\n",
        "- NOT (NO): Representado por el símbolo \"!\" o la palabra clave \"no\". Invierte el valor de una expresión lógica, es decir, si la expresión es verdadera, devuelve falso, y si la expresión es falsa, devuelve verdadero.\n"
      ]
    },
    {
      "cell_type": "code",
      "execution_count": null,
      "metadata": {
        "id": "QoEQSGSAC3vn",
        "outputId": "f6326aea-d1a6-4b97-9bb8-ae227a861c6b"
      },
      "outputs": [
        {
          "name": "stdout",
          "output_type": "stream",
          "text": [
            "Operador AND \n",
            "Ambas variables son mayores que cero\n",
            "Al menos una de las variables no cumple la condición \n",
            "\n",
            "Operador OR \n",
            "Al menos una de las variables es mayor que diez\n",
            "Al menos una de las variables cumple la condición\n",
            "\n",
            "\n",
            "Operador NOT \n",
            "La variable q es falsa\n"
          ]
        }
      ],
      "source": [
        "print(\"Operador AND \")\n",
        "first_number = 5\n",
        "second_number = 10\n",
        "third_number = 7\n",
        "\n",
        "if first_number > 0 and second_number > 0:\n",
        "    print(\"Ambas variables son mayores que cero\")\n",
        "\n",
        "if first_number < 10 and third_number < 5:\n",
        "    print(\"Ambas variables cumplen las condiciones\")\n",
        "else:\n",
        "    print(\"Al menos una de las variables no cumple la condición \\n\")\n",
        "\n",
        "print(\"Operador OR \")\n",
        "variable_x = 15\n",
        "variable_y = 3\n",
        "variable_z = 8\n",
        "\n",
        "if variable_x > 10 or variable_y > 10:\n",
        "    print(\"Al menos una de las variables es mayor que diez\")\n",
        "\n",
        "if variable_y < 5 or variable_z < 5:\n",
        "    print(\"Al menos una de las variables cumple la condición\")\n",
        "else:\n",
        "    print(\"Ninguna de las variables cumple la condición \\n\\n\")\n",
        "\n",
        "print(\"\\n\")\n",
        "print(\"Operador NOT \")\n",
        "variable_p = True\n",
        "variable_q = False\n",
        "\n",
        "if not variable_p:\n",
        "    print(\"La variable p es falsa\")\n",
        "\n",
        "if not variable_q:\n",
        "    print(\"La variable q es falsa\")"
      ]
    },
    {
      "cell_type": "code",
      "execution_count": null,
      "metadata": {
        "id": "xUgyGl7vC3vo",
        "outputId": "2154b1a4-1ed2-4f08-9dc9-1910132d9fcc"
      },
      "outputs": [
        {
          "name": "stdout",
          "output_type": "stream",
          "text": [
            "Tabla de verdad AND\n",
            "+-----------+-----------+----------------------+\n",
            "| Valor 1   | Valor 2   | Resultado            |\n",
            "+===========+===========+======================+\n",
            "| True      | True      | True & True = True   |\n",
            "+-----------+-----------+----------------------+\n",
            "| True      | False     | True & False = False |\n",
            "+-----------+-----------+----------------------+\n",
            "| False     | True      | False & True = False |\n",
            "+-----------+-----------+----------------------+\n",
            "| False     | False     | True & True = False  |\n",
            "+-----------+-----------+----------------------+\n",
            "\n",
            "\n",
            "Tabla de verdad OR\n",
            "+-----------+-----------+----------------------+\n",
            "| Valor 1   | Valor 2   | Resultado            |\n",
            "+===========+===========+======================+\n",
            "| True      | True      | True or True = True  |\n",
            "+-----------+-----------+----------------------+\n",
            "| True      | False     | True or False = True |\n",
            "+-----------+-----------+----------------------+\n",
            "| False     | True      | False or True = True |\n",
            "+-----------+-----------+----------------------+\n",
            "| False     | False     | True or True = False |\n",
            "+-----------+-----------+----------------------+\n"
          ]
        }
      ],
      "source": [
        "print(\"Tabla de verdad AND\")\n",
        "\n",
        "header_table2 = ['Valor 1', 'Valor 2', 'Resultado']\n",
        "data_table2 = [['True', 'True', 'True & True = True'],\n",
        "               ['True', 'False', 'True & False = False'],\n",
        "               ['False', 'True', 'False & True = False'],\n",
        "               ['False', 'False', 'True & True = False'],\n",
        "               ]\n",
        "# Utiliza la función tabulate para crear la tabla\n",
        "tabla2 = tabulate(data_table2, header_table2, tablefmt=\"grid\")\n",
        "\n",
        "# Imprime la tabla\n",
        "print(tabla2)\n",
        "print('\\n')\n",
        "print(\"Tabla de verdad OR\")\n",
        "\n",
        "header_table2 = ['Valor 1', 'Valor 2', 'Resultado']\n",
        "data_table2 = [['True', 'True', 'True or True = True'],\n",
        "               ['True', 'False', 'True or False = True'],\n",
        "               ['False', 'True', 'False or True = True'],\n",
        "               ['False', 'False', 'True or True = False'],\n",
        "               ]\n",
        "# Utiliza la función tabulate para crear la tabla\n",
        "tabla2 = tabulate(data_table2, header_table2, tablefmt=\"grid\")\n",
        "\n",
        "# Imprime la tabla\n",
        "print(tabla2)"
      ]
    },
    {
      "cell_type": "markdown",
      "metadata": {
        "id": "Q-gBstcuC3vo"
      },
      "source": [
        "<h4>Actividad</h4>\n"
      ]
    },
    {
      "cell_type": "code",
      "execution_count": null,
      "metadata": {
        "id": "Lqzq1_zzC3vo",
        "outputId": "953629a2-ef89-4a8c-b35a-43197dd8a24c"
      },
      "outputs": [
        {
          "name": "stdout",
          "output_type": "stream",
          "text": [
            "[False, True, True, True, False, True, False]\n",
            "\n",
            "\n",
            "Otra Expresión\n",
            "[True, True, False, True, True, False]\n"
          ]
        }
      ],
      "source": [
        "expresiones = [False == True, 10 >= 2*4, 33/3 == 11, True > False,\n",
        "               True*5 == 2.5**2, not False == True and 2 == 2, 3 == 2 | 3 == 1]\n",
        "print(expresiones)  # [False, True, True, True, False, True, False]\n",
        "print(\"\\n\")\n",
        "print(\"Otra Expresión\")\n",
        "otra_expresion = [not False, not 3 == 5, 33/3 == 11 & 5 > 2,\n",
        "                  True | False, True*5 | 123 >= 3, 12 > 7 & True < False]\n",
        "print(otra_expresion)  # [True, True, False, True, True, False]"
      ]
    },
    {
      "cell_type": "code",
      "execution_count": null,
      "metadata": {
        "id": "l0fSV4l6C3vp",
        "outputId": "8fffbda8-8a94-45ad-e5ee-d74b604dffb5"
      },
      "outputs": [
        {
          "name": "stdout",
          "output_type": "stream",
          "text": [
            "[True, False, True, True]\n",
            "False\n"
          ]
        }
      ],
      "source": [
        "nombre = input(\"Ingrese Nombre: \")\n",
        "edad = int(input(\"Ingrese edad: \"))\n",
        "\n",
        "evaluacion = [nombre != \"****\", edad > 5 and edad < 20,\n",
        "              len(nombre) >= 4 and len(nombre) < 8, edad*3 > 35]\n",
        "print(evaluacion)\n",
        "\n",
        "evaluacion_result = (nombre != \"****\") and (edad > 5 and edad <\n",
        "                                            20) and (len(nombre) >= 4 and len(nombre) < 8) and (edad * 3 > 35)\n",
        "print(evaluacion_result)"
      ]
    },
    {
      "cell_type": "markdown",
      "metadata": {
        "id": "-NrS0_0wC3vp"
      },
      "source": [
        "## Control de flujo\n"
      ]
    },
    {
      "cell_type": "markdown",
      "metadata": {
        "id": "Pzem_d_WC3vp"
      },
      "source": [
        "Los condicionales nos permiten controlar las condiciones en nuestro programa. Seguramente haz hecho click en un botón \"Aceptar\" y se produjo una secuencia del programa asociada a esa acción, o bien hiciste click en el botón \"Cancelar\" y se finalizo esa acción. Bueno... seguramente esa acción fue hecha por medio de un concional.\n",
        "En este control de flujo encontramos los siguentes condicionales:\n",
        "\n",
        "1. If (si)/ Else (sino)\n",
        "2. elif (si no, si )\n",
        "\n",
        "Una de las características de estos controles de flojo es que las condiciones también pueden anidarse con los operadores lógicos, de esta manera podemos hacer aplicaciones más complejas.\n"
      ]
    },
    {
      "cell_type": "markdown",
      "metadata": {
        "id": "eu7VKPxuC3vq"
      },
      "source": [
        "<h4>If / else</h4>\n",
        "\n",
        "Este condicional es el más simple que podemos encontrar en el mundo de la programación. **If** proviene de la palabra en inglés sí.\n",
        "La misma nos propone plantearnos un interrogante dentro de nuestro programa y que el mismo tome una decisión en caso de que cumpla una condición (True) o bien sino la cumple (False).\n",
        "En caso de no cumplirse ejecutrará la sentencia **Else**, la misma de proviene del inglés sino.\n",
        "\n",
        "Este último no siempre es obligatorio.\n",
        "\n",
        "Ahora en los siguientes ejemplos veremos como es su composición:\n"
      ]
    },
    {
      "cell_type": "code",
      "execution_count": null,
      "metadata": {
        "id": "1drEhAsuC3vq",
        "outputId": "41b297ba-1f40-4de3-bae6-c1334d027e3a"
      },
      "outputs": [
        {
          "name": "stdout",
          "output_type": "stream",
          "text": [
            "La condición es verdadera\n",
            "No no son iguales\n",
            "Es impar\n"
          ]
        }
      ],
      "source": [
        "variable_a = 30\n",
        "variable_b = 60\n",
        "variable_c = 20\n",
        "# Si variable_a es igual a 30, imprimi \"La condición es verdadera\"\n",
        "if variable_a == 30:\n",
        "    print(\"La condición es verdadera\")\n",
        "# Si variable_b es distinta a la variable_a, imprimi \"No no son iguales\"\n",
        "if variable_b != variable_a:\n",
        "    print(\"No no son iguales\")\n",
        "\n",
        "# Si l resto de numero es igual a cero, imprimi \"Es par\".\n",
        "numero = 7\n",
        "if numero % 2 == 0:\n",
        "    print(\"Es par\")\n",
        "# Sino imprimi \"Es impar\"\n",
        "else:\n",
        "    print(\"Es impar\")"
      ]
    },
    {
      "cell_type": "markdown",
      "metadata": {
        "id": "RY7jrCZ3C3vq"
      },
      "source": [
        "<h4>Elif</h4>\n"
      ]
    },
    {
      "cell_type": "markdown",
      "metadata": {
        "id": "FFhBDEcSC3vq"
      },
      "source": [
        "Es una abreviación de else/ if, la misma dan como resultado a la senticia elif. Esta palabra reservada podría traducirse como: si no, si\"La misma es un reemplazo del Swich/case de otros lenguajes de programación como C#, Java, etc.\n",
        "Esta sentencia siempre evalúa en primera instancia la condición del if. Si es cierta, se ejecuta su código y se continúa ejecutando el código posterior al condicional; si no se cumple, se evalúa la condición del elif. Si se cumple la condición del elif se ejecuta su código y se continua ejecutando el código posterior al condicional; si no se cumple y hay más de un elif se continúa con el siguiente en orden de aparición. Si no se cumple la condición del if ni de ninguno de los elif, se ejecuta el código del else.\n",
        "Ahora podrán ver su uso en un ejemplo práctico:\n"
      ]
    },
    {
      "cell_type": "code",
      "execution_count": null,
      "metadata": {
        "id": "xIp7EMneC3vr",
        "outputId": "814c6348-1a34-4df1-927b-04e6c16401ae"
      },
      "outputs": [
        {
          "name": "stdout",
          "output_type": "stream",
          "text": [
            "C\n"
          ]
        }
      ],
      "source": [
        "nota = 75\n",
        "# si nota es mayor o igual a 90, imprimi \"A\"\n",
        "if nota >= 90:\n",
        "    print(\"A\")\n",
        "# si no, si nota es mayor o igual a 80, imprimi \"B\"\n",
        "elif nota >= 80:\n",
        "    print(\"B\")\n",
        "# si no, si nota es mayor o igual a 70, imprimi \"C\"\n",
        "elif nota >= 70:\n",
        "    print(\"C\")\n",
        "# Sino nota es mayor o igual a 90, imprimi \"D\"\n",
        "else:\n",
        "    print(\"D\")"
      ]
    },
    {
      "cell_type": "markdown",
      "metadata": {
        "id": "wKjo_go3C3vr"
      },
      "source": [
        "<h4>Sugar Sintax en Python </h4>\n",
        "\n",
        "Aunque Python no utiliza el término \"sugar syntax\" de la misma manera que algunos otros lenguajes, se esfuerza por tener una sintaxis legible y expresiva que haga que el código sea más fácil de entender y escribir. Esto es parte de la filosofía de diseño de Python, que enfatiza la legibilidad del código y la simplicidad. Aquí tenemos un ejemplo:\n"
      ]
    },
    {
      "cell_type": "markdown",
      "metadata": {
        "id": "CidDHSeGC3vr"
      },
      "source": [
        "- List Comprehensions: Permiten crear listas de manera concisa. Por ejemplo:\n"
      ]
    },
    {
      "cell_type": "code",
      "execution_count": null,
      "metadata": {
        "id": "OPHnDNUCC3vr",
        "outputId": "6079f3d9-4753-4b9c-9209-ef2b5b6b7f7b"
      },
      "outputs": [
        {
          "name": "stdout",
          "output_type": "stream",
          "text": [
            "[0, 1, 4, 9, 16, 25, 36, 49, 64, 81]\n"
          ]
        }
      ],
      "source": [
        "squares = []\n",
        "for x in range(10):\n",
        "    squares.append(x ** 2)\n",
        "\n",
        "# Con list comprehension\n",
        "squares = [x ** 2 for x in range(10)]\n",
        "print(squares)"
      ]
    },
    {
      "cell_type": "markdown",
      "metadata": {
        "id": "eoEviG0nC3vs"
      },
      "source": [
        "- Sintaxis de asignación múltiple: Permite asignar valores a múltiples variables en una sola línea.\n"
      ]
    },
    {
      "cell_type": "code",
      "execution_count": null,
      "metadata": {
        "id": "SLrQcGIwC3vs",
        "outputId": "86828348-e697-4b5b-af6b-83d859a89e40"
      },
      "outputs": [
        {
          "name": "stdout",
          "output_type": "stream",
          "text": [
            "1 2\n"
          ]
        }
      ],
      "source": [
        "a, b = 1, 2\n",
        "print(a, b)"
      ]
    },
    {
      "cell_type": "markdown",
      "metadata": {
        "id": "4VlaGsW6C3vs"
      },
      "source": [
        "- Operador ternario: Permite escribir una expresión condicional de manera más compacta.\n"
      ]
    },
    {
      "cell_type": "code",
      "execution_count": null,
      "metadata": {
        "id": "wb1XC0ZAC3vt",
        "outputId": "2417920f-3337-4b99-c04a-50450f6853b3"
      },
      "outputs": [
        {
          "name": "stdout",
          "output_type": "stream",
          "text": [
            "Es impar\n"
          ]
        }
      ],
      "source": [
        "variable_num = 7\n",
        "variable_par = \"Es par\" if (variable_num == 0)else \"Es impar\"\n",
        "print(variable_par)"
      ]
    },
    {
      "cell_type": "markdown",
      "metadata": {
        "id": "QmndVC9sC3vt"
      },
      "source": [
        "<h4>Ejercicios</h4>\n",
        "\n",
        "<h5>Generación Digitales</h5>\n",
        "\n",
        "Escribir un programa que indique la generación correspondiente para un año de nacimiento indicado.\n"
      ]
    },
    {
      "cell_type": "code",
      "execution_count": null,
      "metadata": {
        "id": "jrsCN8riC3vt",
        "outputId": "a3c24acc-38ad-4070-ecec-5438927c267a"
      },
      "outputs": [
        {
          "name": "stdout",
          "output_type": "stream",
          "text": [
            "Nicolas, tu año de nacimiento es: 1989 y perteneces a la Generación Y\n"
          ]
        }
      ],
      "source": [
        "variable_nom = input(\"Ingrese su nombre: \")\n",
        "\n",
        "while True:\n",
        "    # Solicitamos el año de nacimiento y validamos si es numérico\n",
        "    try:\n",
        "        variable_edad = int(input(\"Ingrese su año de nacimiento: \"))\n",
        "        break  # Salimos del bucle si la entrada es numérica\n",
        "    except ValueError:\n",
        "        print(\"El año de nacimiento debe ser un valor numérico. Inténtelo nuevamente.\")\n",
        "\n",
        "while True:\n",
        "    if 1920 <= variable_edad <= 1940:\n",
        "        print(f\"{variable_nom}, tu año de nacimiento es: {variable_edad} y perteneces a la Generación Silenciosa\")\n",
        "    elif 1946 <= variable_edad <= 1964:\n",
        "        print(f\"{variable_nom}, tu año de nacimiento es: {variable_edad} y perteneces a la Generación Boomer\")\n",
        "    elif 1965 <= variable_edad <= 1979:\n",
        "        print(\n",
        "            f\"{variable_nom}, tu año de nacimiento es: {variable_edad} y perteneces a la Generación X\")\n",
        "    elif 1980 <= variable_edad <= 2000:\n",
        "        print(\n",
        "            f\"{variable_nom}, tu año de nacimiento es: {variable_edad} y perteneces a la Generación Y\")\n",
        "    elif 2001 <= variable_edad <= 2010:\n",
        "        print(\n",
        "            f\"{variable_nom}, tu año de nacimiento es: {variable_edad} y perteneces a la Generación Z\")\n",
        "    else:\n",
        "        print(\"No existe generación asociada\")\n",
        "\n",
        "    break  # Salimos del bucle después de imprimir el resultado"
      ]
    },
    {
      "cell_type": "markdown",
      "metadata": {
        "id": "akD6aTh9C3vu"
      },
      "source": [
        "Aprobación de Crédito Bancario:\n",
        "\n",
        "Para aprobar un crédito, el cliente debe ser mayor de edad. Además, debe tener una antigüedad en el sistema financiero de mínimo 3 años y un ingreso mayor a 2500 dólares. En caso no tenga la antigüedad suficiente, su ingreso mensual debe ser como mínimo 4000 dólares. Si no cumple ninguna de las condiciones, no se aprueba el crédito\n"
      ]
    },
    {
      "cell_type": "code",
      "execution_count": null,
      "metadata": {
        "id": "yPzK5MrEC3vu",
        "outputId": "538bf77c-24c9-4051-9ba1-d0baf872ee41"
      },
      "outputs": [
        {
          "name": "stdout",
          "output_type": "stream",
          "text": [
            "No se cumplen las condiciones\n"
          ]
        }
      ],
      "source": [
        "antigüedad = 10\n",
        "ingreso = 1500\n",
        "\n",
        "edad = int(input(\"Ingrese su edad:\"))\n",
        "\n",
        "if edad >= 18 and antigüedad < 2500 and ingreso <= 4000:\n",
        "    print(\"Credito aprobado\")\n",
        "else:\n",
        "    print(\"No se cumplen las condiciones\")"
      ]
    },
    {
      "cell_type": "markdown",
      "metadata": {
        "id": "hcTwqKx-C3vu"
      },
      "source": [
        "Marvel vs. CapCom\n",
        "\n",
        "Un curso se ha dividido en dos grupos diferentes: A y B de acuerdo al nombre y a una preferencia (Marvel o Capcom). El grupo A está formado por fans de Marvel con un nombre anterior a la M y los fans de Capcom con un nombre posterior a la N y el grupo B por el resto. Escribir un programa que pregunte al usuario su nombre y preferencia, y muestre por pantalla el grupo que le corresponde.\n"
      ]
    },
    {
      "cell_type": "code",
      "execution_count": null,
      "metadata": {
        "id": "juGUCtkqC3vu",
        "outputId": "dfdf6619-ba23-4741-9707-da9129c53d53"
      },
      "outputs": [
        {
          "name": "stdout",
          "output_type": "stream",
          "text": [
            "Nicolas Te pertenece el grupo B\n"
          ]
        }
      ],
      "source": [
        "variable_nombre = input(\"Ingrese su nombre: \")\n",
        "variable_fan = input(\"Ingresa si te gusta Marvel o Capcom: \")\n",
        "\n",
        "if (variable_nombre < \"M\" and variable_fan.lower() == \"marvel\" or variable_nombre > \"N\" and variable_fan.lower() == \"capcom\"):\n",
        "    print(f\"{variable_nombre} Sos del Grupo A\")\n",
        "else:\n",
        "    print(f\"{variable_nombre} Te pertenece el grupo B\")"
      ]
    },
    {
      "cell_type": "markdown",
      "metadata": {
        "id": "qmrSNN8EC3vv"
      },
      "source": [
        "#### Bucles\n"
      ]
    },
    {
      "cell_type": "markdown",
      "metadata": {
        "id": "BkKzd-OJC3vv"
      },
      "source": [
        "<h4>¿Qué es un bucle?</h4>\n",
        "\n",
        "Un bucle, en programación, es una estructura de control que permite ejecutar un conjunto de instrucciones repetidamente, mientras se cumpla una condición específica. Los bucles son fundamentales en la programación porque permiten automatizar tareas repetitivas y procesar datos de manera eficiente. Hay varios tipos de bucles, pero los dos más comunes son el bucle \"while\" y el bucle \"for\".\n"
      ]
    },
    {
      "cell_type": "markdown",
      "metadata": {
        "id": "KLzDyY4VC3vv"
      },
      "source": [
        "<h4>While</h4>\n",
        "\n",
        "Provivene de la palabra en inglés \"mientras\". Esta sentencia que es una palabra reservada, permite realizar una acción miestras la condición explicitada que se cumpla.\n",
        "Esto quiere decir que mientras sea verdadera se seguira repitiendo.\n",
        "\n",
        "Su estructura es la siguiente:\n",
        "\n",
        "- while: indicador de comienzo del bucle.\n",
        "- Condición: condición que debe de cumplirse para que siga repitiéndose la ejecución del bucle.\n",
        "- Bloque de Instrucciones: conjunto de instrucciones que se ejecutarán en cada iteración.\n"
      ]
    },
    {
      "cell_type": "code",
      "execution_count": null,
      "metadata": {
        "id": "_1R9ys_eC3vv",
        "outputId": "90ed86b8-9781-424b-a38b-e54ddce1ae34"
      },
      "outputs": [
        {
          "name": "stdout",
          "output_type": "stream",
          "text": [
            "N° de operación: 1, Resultado: 0\n",
            "N° de operación: 2, Resultado: 1\n",
            "N° de operación: 3, Resultado: 3\n",
            "N° de operación: 4, Resultado: 6\n",
            "N° de operación: 5, Resultado: 10\n",
            "N° de operación: 6, Resultado: 15\n",
            "N° de operación: 7, Resultado: 21\n",
            "N° de operación: 8, Resultado: 28\n",
            "N° de operación: 9, Resultado: 36\n",
            "N° de operación: 10, Resultado: 45\n",
            "N° de operación: 11, Resultado: 55\n",
            "N° de operación: 12, Resultado: 66\n",
            "N° de operación: 13, Resultado: 78\n",
            "N° de operación: 14, Resultado: 91\n",
            "N° de operación: 15, Resultado: 105\n",
            "N° de operación: 16, Resultado: 120\n",
            "N° de operación: 17, Resultado: 136\n",
            "N° de operación: 18, Resultado: 153\n",
            "N° de operación: 19, Resultado: 171\n",
            "N° de operación: 20, Resultado: 190\n"
          ]
        }
      ],
      "source": [
        "variable_edad = 0\n",
        "while edad < 18:\n",
        "    edad += 1\n",
        "    print(f\"Felicidades, tienes {edad}\")\n",
        "\n",
        "variable_numero = 0\n",
        "result = 0\n",
        "\n",
        "while variable_numero < 20:\n",
        "    result = result + variable_numero\n",
        "    variable_numero += 1\n",
        "    print(f\"N° de operación: {variable_numero}, Resultado: {result}\")"
      ]
    },
    {
      "cell_type": "markdown",
      "metadata": {
        "id": "JrDef2v5C3vw"
      },
      "source": [
        "<h4>For</h4>\n",
        "\n",
        "En Python for se utiliza como una forma genérica de iterar sobre una secuencia (una lista o una cadena de texto). Y como tal intenta facilitar su uso para este fin.\n",
        "\n",
        "La estructura de este ciclo es:\n",
        "\n",
        "- for: indicador de comienzo del bucle.\n",
        "- Variable: variable que almacena el elemento sobre el que se está iterando de Coleccion.\n",
        "- Iterable. in: indicador que se utiliza para definir el elemento iterable sobre el que se ejecutará el bucle for.\n",
        "- ColeccionIterable: elemento sobre el que se ejecuta el bucle. BloqueInstrucciones: conjunto de instrucciones que se ejecutarán en cada iteración\n"
      ]
    },
    {
      "cell_type": "code",
      "execution_count": null,
      "metadata": {
        "id": "FXYOWnCEC3vx",
        "outputId": "50039dbd-4a01-4c1f-caf8-1af6c1bfc15a"
      },
      "outputs": [
        {
          "name": "stdout",
          "output_type": "stream",
          "text": [
            "gato ,tiene 4 palabras\n",
            "ventana ,tiene 7 palabras\n",
            "perro ,tiene 5 palabras\n",
            "defenestrado ,tiene 12 palabras\n",
            "\n",
            "\n",
            "4950\n"
          ]
        }
      ],
      "source": [
        "variable_palabras = [\"gato\", \"ventana\", \"perro\", \"defenestrado\"]\n",
        "for secuencia in variable_palabras:\n",
        "    print(secuencia, f\",tiene {len(secuencia)} palabras\")\n",
        "\n",
        "print(\"\\n\")\n",
        "\n",
        "\n",
        "numero = range(1, 100)\n",
        "suma = 0\n",
        "\n",
        "for numeros in numero:\n",
        "    suma += numeros\n",
        "\n",
        "print(suma)"
      ]
    },
    {
      "cell_type": "markdown",
      "metadata": {
        "id": "BeX5HdWHC3vx"
      },
      "source": [
        "Como hemos dicho los for se utilizan en Python para recorrer secuencias, por lo que vamos a utilizar un tipo secuencia, como es la lista, para nuestro ejemplo.\n",
        "Leamos el primer ejempo de la cabecera del bucle como si de lenguaje natural se tratara:\n",
        "“para cada elemento en secuencia”.\n",
        "Y esto es exactamente lo que hace el bucle: para cada elemento que tengamos en la secuencia, ejecuta estas líneas de código.\n"
      ]
    },
    {
      "cell_type": "markdown",
      "metadata": {
        "id": "azZ_kIdkC3vx"
      },
      "source": [
        "<h4>Ejercicio: Me gustas tú</h4>\n",
        "Escribir la letra de la canción Me gusta de Manu Chao, utilizando la sentencia de iteración for:\n",
        " https://www.letras.com/manu-chao/7352/\n",
        "\n",
        "Importante: Deberán crear también una lista con los párrafos de la canción para poder imprimirlos correctamente por pantalla.\n"
      ]
    },
    {
      "cell_type": "code",
      "execution_count": null,
      "metadata": {
        "id": "DYz2uNUrC3vy"
      },
      "outputs": [],
      "source": [
        "var_primeraparte = [\"Me gustan los aviones\", \"Me gusta viajar\",\n",
        "                    \"Me gusta la mañana\", \"Me gusta el viento\", \"Me gusta soñar\", \"Me gusta la mar\"]\n",
        "var_segundaparte = [\"Me gusta la moto\", \"Me gusta correr\", \"Me gusta la lluvia\", \"Me gusta volver\",\n",
        "                    \"Me gusta marihuana\", \"Me gusta colombiana\", \"Me gusta la montaña\", \"Me gusta la noche \"]\n",
        "var_tercerparte = [\"Me gusta la cena\", \"Me gusta la vecina\", \"Me gusta su cocina\",\n",
        "                   \"Me gusta camelar\", \"Me gusta la guitarra\", \"Me gusta el reggae\"]\n",
        "var_cuartaparte = [\"Me gusta la canela\", \"Me gusta el fuego\", \"Me gusta menear\",\n",
        "                   \"Me gusta la Coruña\", \"Me gusta Malasaña\", \"Me gusta la castaña\", \"Me gusta Guatelmala\"]\n",
        "var_megustas_tu = \"Me gustas tú\"\n",
        "var_quehora = \"¿Qué horas son, mi corazón?\"\n",
        "var_quehacer = \"¿Qué voy a hacer?\"\n",
        "var_telodije = \"(Te lo dije bien clarito)\"\n",
        "var_zona = [\"(Doce de la noche en La Habana, Cuba)\",\n",
        "            \"(Once de la noche en San Salvador, El Salvador)\",\n",
        "            \"(Once de la noche en Managua, Nicaragua)\", \"(Doce, un minuto)\", \"(Cuatro de la mañana)\", \"(Cinco de la mañana)\"]\n",
        "var_alabim = \"A la bim, a la bam, a la bim bom bam\"\n",
        "var_obla = \"Obladí, obladá, obladidada\"\n",
        "var_otro = [\"(Radio Reloj)\", var_zona[5],\n",
        "            \"(No todo lo que es oro brilla)\", \"(Remedio chino e infalible)\"]\n",
        "var_jai = [\"Je ne sais pas\", \"Je ne sais plus\", \"Je suis perdu\"]\n",
        "\n",
        "\n",
        "def procesar_primeraparte():\n",
        "    for secuencia in var_primeraparte:\n",
        "        print(secuencia, \",\", f\"{var_megustas_tu}\")\n",
        "    print(\"\\n\")\n",
        "\n",
        "\n",
        "def procesar_segundaparte():\n",
        "    for secuencia in var_segundaparte:\n",
        "        print(secuencia, \",\", f\"{var_megustas_tu}\")\n",
        "    print(\"\\n\")\n",
        "\n",
        "\n",
        "def procesar_terceraparte():\n",
        "    for secuencia in var_tercerparte:\n",
        "        print(secuencia, \",\", f\"{var_megustas_tu}\")\n",
        "    print(\"\\n\")\n",
        "\n",
        "\n",
        "def procesar_cuartaparte():\n",
        "    for secuencia in var_cuartaparte:\n",
        "        print(secuencia, \",\", f\"{var_megustas_tu}\")\n",
        "    print(\"\\n\")\n",
        "\n",
        "\n",
        "def procesar_quehare_y_partes():\n",
        "    for hacer in range(3):\n",
        "        hacer += 1\n",
        "    for var_jaiss in var_jai:\n",
        "        print(f\"{var_quehacer},{var_jaiss}\")\n",
        "    print(var_quehora)\n",
        "    print(\"\\n\")\n",
        "\n",
        "\n",
        "def procesar_alabim_bom_bam():\n",
        "    for rango in range(2):\n",
        "        rango += 1\n",
        "        print(var_alabim)\n",
        "    print(var_obla)\n",
        "    print(var_alabim)\n",
        "    print(\"\\n\")\n",
        "\n",
        "\n",
        "def procesar_permanece():\n",
        "    for contador in range(2):\n",
        "        contador += 1\n",
        "        print('Permanece a la escucha')\n",
        "    print(\"\\n\")\n",
        "\n",
        "\n",
        "def procesar_zona():\n",
        "    nueva_zona = var_zona[:-3]\n",
        "    for zona in nueva_zona:\n",
        "        print(zona)\n",
        "    print(\"\\n\")\n",
        "\n",
        "\n",
        "def procesar_horario():\n",
        "    for hora in range(6):\n",
        "        hora += 1\n",
        "        print(var_quehora)\n",
        "    print(\"\\n\")\n",
        "\n",
        "\n",
        "def procesar_otro():\n",
        "    for otro in var_otro:\n",
        "        print(otro)\n",
        "    print(\"\\n\")"
      ]
    },
    {
      "cell_type": "code",
      "execution_count": null,
      "metadata": {
        "id": "zPJiEC59C3vy",
        "outputId": "9355218c-0017-4432-e4a2-7a7b4ac21338"
      },
      "outputs": [
        {
          "name": "stdout",
          "output_type": "stream",
          "text": [
            "¿Qué horas son, mi corazón?\n",
            "(Te lo dije bien clarito)\n",
            "\n",
            "\n",
            "Permanece a la escucha\n",
            "Permanece a la escucha\n",
            "\n",
            "\n",
            "(Doce de la noche en La Habana, Cuba)\n",
            "(Once de la noche en San Salvador, El Salvador)\n",
            "(Once de la noche en Managua, Nicaragua)\n",
            "\n",
            "\n",
            "Me gustan los aviones , Me gustas tú\n",
            "Me gusta viajar , Me gustas tú\n",
            "Me gusta la mañana , Me gustas tú\n",
            "Me gusta el viento , Me gustas tú\n",
            "Me gusta soñar , Me gustas tú\n",
            "Me gusta la mar , Me gustas tú\n",
            "\n",
            "\n",
            "¿Qué voy a hacer?,Je ne sais pas\n",
            "¿Qué voy a hacer?,Je ne sais plus\n",
            "¿Qué voy a hacer?,Je suis perdu\n",
            "¿Qué horas son, mi corazón?\n",
            "\n",
            "\n",
            "Me gusta la moto , Me gustas tú\n",
            "Me gusta correr , Me gustas tú\n",
            "Me gusta la lluvia , Me gustas tú\n",
            "Me gusta volver , Me gustas tú\n",
            "Me gusta marihuana , Me gustas tú\n",
            "Me gusta colombiana , Me gustas tú\n",
            "Me gusta la montaña , Me gustas tú\n",
            "Me gusta la noche  , Me gustas tú\n",
            "\n",
            "\n",
            "¿Qué voy a hacer?,Je ne sais pas\n",
            "¿Qué voy a hacer?,Je ne sais plus\n",
            "¿Qué voy a hacer?,Je suis perdu\n",
            "¿Qué horas son, mi corazón?\n",
            "\n",
            "\n",
            "(Doce, un minuto)\n",
            "\n",
            "\n",
            "Me gusta la cena , Me gustas tú\n",
            "Me gusta la vecina , Me gustas tú\n",
            "Me gusta su cocina , Me gustas tú\n",
            "Me gusta camelar , Me gustas tú\n",
            "Me gusta la guitarra , Me gustas tú\n",
            "Me gusta el reggae , Me gustas tú\n",
            "\n",
            "\n",
            "¿Qué voy a hacer?,Je ne sais pas\n",
            "¿Qué voy a hacer?,Je ne sais plus\n",
            "¿Qué voy a hacer?,Je suis perdu\n",
            "¿Qué horas son, mi corazón?\n",
            "\n",
            "\n",
            "Me gusta la canela , Me gustas tú\n",
            "Me gusta el fuego , Me gustas tú\n",
            "Me gusta menear , Me gustas tú\n",
            "Me gusta la Coruña , Me gustas tú\n",
            "Me gusta Malasaña , Me gustas tú\n",
            "Me gusta la castaña , Me gustas tú\n",
            "Me gusta Guatelmala , Me gustas tú\n",
            "\n",
            "\n",
            "¿Qué voy a hacer?,Je ne sais pas\n",
            "¿Qué voy a hacer?,Je ne sais plus\n",
            "¿Qué voy a hacer?,Je suis perdu\n",
            "¿Qué horas son, mi corazón?\n",
            "\n",
            "\n",
            "¿Qué voy a hacer?,Je ne sais pas\n",
            "¿Qué voy a hacer?,Je ne sais plus\n",
            "¿Qué voy a hacer?,Je suis perdu\n",
            "¿Qué horas son, mi corazón?\n",
            "\n",
            "\n",
            "¿Qué horas son, mi corazón?\n",
            "¿Qué horas son, mi corazón?\n",
            "¿Qué horas son, mi corazón?\n",
            "¿Qué horas son, mi corazón?\n",
            "¿Qué horas son, mi corazón?\n",
            "¿Qué horas son, mi corazón?\n",
            "\n",
            "\n",
            "(Cuatro de la mañana)\n",
            "\n",
            "\n",
            "A la bim, a la bam, a la bim bom bam\n",
            "A la bim, a la bam, a la bim bom bam\n",
            "Obladí, obladá, obladidada\n",
            "A la bim, a la bam, a la bim bom bam\n",
            "\n",
            "\n",
            "(Radio Reloj)\n",
            "(Cinco de la mañana)\n",
            "(No todo lo que es oro brilla)\n",
            "(Remedio chino e infalible)\n",
            "\n",
            "\n"
          ]
        }
      ],
      "source": [
        "print(var_quehora)\n",
        "print(var_telodije)\n",
        "print(\"\\n\")\n",
        "procesar_permanece()\n",
        "procesar_zona()\n",
        "procesar_primeraparte()\n",
        "procesar_quehare_y_partes()\n",
        "procesar_segundaparte()\n",
        "procesar_quehare_y_partes()\n",
        "print(var_zona[3])\n",
        "print(\"\\n\")\n",
        "procesar_terceraparte()\n",
        "procesar_quehare_y_partes()\n",
        "procesar_cuartaparte()\n",
        "procesar_quehare_y_partes()\n",
        "procesar_quehare_y_partes()\n",
        "procesar_horario()\n",
        "print(var_zona[4])\n",
        "print(\"\\n\")\n",
        "procesar_alabim_bom_bam()\n",
        "procesar_otro()"
      ]
    },
    {
      "cell_type": "markdown",
      "metadata": {
        "id": "oYAnC74QC3vy"
      },
      "source": [
        "<h4>Sentencias Break, Continue, Else y Pass</h4>\n",
        "\n",
        "La sentencia **BREAK** termina la ejecución de un For o un While.\n",
        "\n",
        "La sentencia **Continue** continúa con la siguiente iteración del ciclo.\n",
        "\n",
        "La sentencia **Else** el mismo es ejecutado cuando se agota la lista o bien la condición es falsa.\n",
        "\n",
        "La sentencia **Pass** no realiza nada, pero se usa cuando la sentencia es requerida por la sintaxis\n"
      ]
    },
    {
      "cell_type": "code",
      "execution_count": null,
      "metadata": {
        "id": "QJZQwrvQC3vy",
        "outputId": "87ff8d10-0536-40bd-b3f8-0e044409cae7"
      },
      "outputs": [
        {
          "name": "stdout",
          "output_type": "stream",
          "text": [
            "Es un número primo\n",
            "4 es igual a  2 * 2.0\n",
            "Es un número primo\n",
            "Es un número primo\n",
            "Es un número primo\n",
            "6 es igual a  2 * 3.0\n",
            "Es un número primo\n",
            "Es un número primo\n",
            "Es un número primo\n",
            "Es un número primo\n",
            "Es un número primo\n",
            "8 es igual a  2 * 4.0\n",
            "Es un número primo\n",
            "9 es igual a  3 * 3.0\n",
            "\n",
            "\n",
            "Encontre el número par 2\n",
            "Encontré un número 3\n",
            "Encontre el número par 4\n",
            "Encontré un número 5\n",
            "Encontre el número par 6\n",
            "Encontré un número 7\n",
            "Encontre el número par 8\n",
            "Encontré un número 9\n",
            "\n",
            "\n",
            "No esta vacia la variable.\n",
            "\n",
            "\n",
            "Encontre un número par\n",
            "Encontre un número impar: 3\n",
            "Encontre un número par\n",
            "Encontre un número impar: 5\n",
            "Encontre un número par\n",
            "Encontre un número impar: 7\n",
            "Encontre un número par\n",
            "Encontre un número impar: 9\n"
          ]
        }
      ],
      "source": [
        "for variable_n in range(2, 10):\n",
        "    for variable_x in range(2, variable_n):\n",
        "        if variable_n % variable_x == 0:\n",
        "            print(variable_n, 'es igual a ', variable_x,\n",
        "                  '*', variable_n/variable_x)\n",
        "            break\n",
        "        else:\n",
        "            print('Es un número primo')\n",
        "print('\\n')\n",
        "for variable_num in range(2, 10):\n",
        "    if variable_num % 2 == 0:\n",
        "        print(f'Encontre el número par {variable_num}')\n",
        "    else:\n",
        "        print(f'Encontré un número {variable_num}')\n",
        "print('\\n')\n",
        "\n",
        "\n",
        "# Definimos una variable llamada variable_paso y le asignamos el valor 'A'\n",
        "variable_paso = 'A'\n",
        "\n",
        "# Comenzamos un bloque condicional con la sentencia if\n",
        "# Evaluamos si variable_paso es igual a una cadena vacía ('')\n",
        "if variable_paso == \"\":\n",
        "    # Si la condición es verdadera, ejecutamos este bloque de código\n",
        "    # En este caso, la condición no se cumple (variable_paso no es una cadena vacía),\n",
        "    # por lo que este bloque no se ejecutará\n",
        "    print('Esta vacia la variable.')\n",
        "else:\n",
        "    # Si la condición del if no se cumple, ejecutamos este bloque de código\n",
        "    # Aquí tenemos la sentencia \"pass\", que es una instrucción nula y no hace nada\n",
        "    pass\n",
        "\n",
        "# Fuera del bloque condicional, siempre ejecutamos esta línea\n",
        "# No importa cuál rama del condicional se ejecutó, esta línea se ejecutará\n",
        "print('No esta vacia la variable.')\n",
        "\n",
        "print('\\n')\n",
        "\n",
        "for variable_num in range(2, 10):\n",
        "    if (variable_num % 2 == 0):\n",
        "        print(\"Encontre un número par\")\n",
        "        continue\n",
        "    print(f\"Encontre un número impar: {variable_num}\")"
      ]
    },
    {
      "cell_type": "markdown",
      "metadata": {
        "id": "LuOM5ha3C3vz"
      },
      "source": [
        "## Métodos de Colecciones\n"
      ]
    },
    {
      "cell_type": "markdown",
      "metadata": {
        "id": "7BRQtz8XC3vz"
      },
      "source": [
        "Primero, lo primero. Vamos a definir, ¿Qué son los métodos o qué significa?\n",
        "Los métodos en Python son funciones que están asociadas a objetos específicos y se utilizan para realizar operaciones relacionadas con esos objetos.\n",
        "Cada objeto en Python puede tener métodos que se aplican a ese tipo de objeto en particular. Los métodos son parte fundamental de la programación orientada a objetos en Python.\n"
      ]
    },
    {
      "cell_type": "markdown",
      "metadata": {
        "id": "4AjSiM-PC3vz"
      },
      "source": [
        "### Métodos de Cadenas de Texto\n"
      ]
    },
    {
      "cell_type": "markdown",
      "metadata": {
        "id": "lIzzZFt5C3vz"
      },
      "source": [
        "Los métodos de cadena de texto en Python son funciones integradas que se aplican a objetos de tipo cadena (str) para realizar operaciones específicas en cadenas de texto. Estos métodos permiten manipular y transformar las cadenas de diversas maneras. Aquí tienes algunos ejemplos de métodos de cadena de texto en Python:\n",
        "\n",
        "- Upper\n",
        "- Lower\n",
        "- isalnum\n",
        "- strip\n",
        "- split\n",
        "- replace\n",
        "- len\n",
        "- max\n",
        "- min\n",
        "- sum\n",
        "- isdigit\n",
        "- isupper\n",
        "- lstrip\n",
        "- swapcase\n",
        "- find\n",
        "- capitalize\n",
        "- rfind\n",
        "- join\n",
        "- title\n",
        "- count\n"
      ]
    },
    {
      "cell_type": "code",
      "execution_count": null,
      "metadata": {
        "id": "qA_7ncjcC3v0",
        "outputId": "84c0f3aa-2231-4c2a-a0ec-0ba1827e7ade"
      },
      "outputs": [
        {
          "name": "stdout",
          "output_type": "stream",
          "text": [
            "HOLA, MUNDO\n",
            "hola, mundo\n",
            "Hola, Mundo\n",
            "Hola, Mundo\n",
            "Hola, Python\n",
            "Hola, Python\n",
            "z\n",
            "a\n",
            "True\n",
            "False\n",
            "False\n",
            "True\n",
            "Hola, Mundo   \n",
            "hOLA, mUNDO\n",
            "Hola, mundo\n",
            "13\n",
            "Hola, Mundo, Python\n",
            "Hola Coder\n"
          ]
        },
        {
          "data": {
            "text/plain": [
              "3"
            ]
          },
          "execution_count": 13,
          "metadata": {},
          "output_type": "execute_result"
        }
      ],
      "source": [
        "variable_texto = \"Hola, Mundo\"\n",
        "variable_mayusculas = variable_texto.upper()\n",
        "variable_minusculas = variable_texto.lower()\n",
        "\n",
        "print(variable_mayusculas)  # \"HOLA, MUNDO\"\n",
        "print(variable_minusculas)  # \"hola, mundo\"\n",
        "\n",
        "cadena1 = \"Hola123\"\n",
        "cadena2 = \"Hola Mundo\"\n",
        "es_alnum1 = cadena1.isalnum()  # True\n",
        "es_alnum2 = cadena2.isalnum()  # False\n",
        "\n",
        "texto = \"   Hola, Mundo   \"\n",
        "limpio = texto.strip()\n",
        "\n",
        "print(limpio)  # \"Hola, Mundo\"\n",
        "\n",
        "texto = \"   Hola, Mundo   \"\n",
        "limpio = texto.strip()\n",
        "\n",
        "print(limpio)  # \"Hola, Mundo\"\n",
        "\n",
        "texto = \"Hola, mundo\"\n",
        "nuevo_texto = texto.replace(\"mundo\", \"Python\")  # \"Hola, Python\"\n",
        "print(nuevo_texto)\n",
        "texto = \"Hola, mundo\"\n",
        "nuevo_texto = texto.replace(\"mundo\", \"Python\")  # \"Hola, Python\"\n",
        "print(nuevo_texto)\n",
        "\n",
        "cadenaejemplo = \"abcdefghijklmnopqrstuvwxyz\"\n",
        "print(max(cadenaejemplo))\n",
        "print(min(cadenaejemplo))\n",
        "\n",
        "cadena1 = \"123\"\n",
        "cadena2 = \"HELLO\"\n",
        "es_digit1 = cadena1.isdigit()  # True\n",
        "es_digit2 = cadena2.isdigit()  # False\n",
        "print(es_digit1)\n",
        "print(es_digit2)\n",
        "\n",
        "es_mayusculas1 = cadena1.isupper()  # False\n",
        "es_mayusculas2 = cadena2.isupper()  # True\n",
        "\n",
        "print(es_mayusculas1)\n",
        "print(es_mayusculas2)\n",
        "\n",
        "texto = \"   Hola, Mundo   \"\n",
        "izquierda_limpia = texto.lstrip()\n",
        "\n",
        "print(izquierda_limpia)  # \"Hola, Mundo   \"\n",
        "\n",
        "texto = \"Hola, Mundo\"\n",
        "intercambiado = texto.swapcase()  # \"hOLA, mUNDO\"\n",
        "print(intercambiado)\n",
        "\n",
        "texto = \"hola, mundo\"\n",
        "capitalizado = texto.capitalize()  # \"Hola, mundo\"\n",
        "print(capitalizado)\n",
        "\n",
        "texto = \"Hola, Mundo, Mundo\"\n",
        "# 13 (posición del primer carácter de la última \"Mundo\")\n",
        "posicion = texto.rfind(\"Mundo\")\n",
        "print(posicion)\n",
        "\n",
        "\n",
        "palabras = [\"Hola\", \"Mundo\", \"Python\"]\n",
        "texto_unido = \", \".join(palabras)  # \"Hola, Mundo, Python\"\n",
        "print(texto_unido)\n",
        "\n",
        "cadena = \"hOLA Coder\"\n",
        "print(cadena.title())\n",
        "\n",
        "\"HoLa AmIgO\".title()\n",
        "\n",
        "variable_cadena = \"Hola Nirvana\"\n",
        "variable_cadena.count(\"a\")  # Cuenta la cantidad de a que tiene el texto"
      ]
    },
    {
      "cell_type": "markdown",
      "metadata": {
        "id": "E4WXhNvwC3v1"
      },
      "source": [
        "### Métodos de Listas\n"
      ]
    },
    {
      "cell_type": "markdown",
      "metadata": {
        "id": "UZTyQPMnC3v1"
      },
      "source": [
        "Los métodos de listas en Python son funciones integradas que se aplican a objetos de tipo list (list) para realizar operaciones específicas en listas. Estos métodos permiten manipular y transformar las listas de diversas maneras.\n",
        "Aquí tienes algunos ejemplos de métodos de listas en Python:\n",
        "\n",
        "- list.append(): Agrega un elemento al final de una lista.\n",
        "- list.extend(): Une una lista con otra.\n",
        "- list.insert(): Inserta un elemento en una posición específica.\n",
        "- list.remove(): Elimina la primera aparición de un elemento.\n",
        "- list.pop(): Elimina y devuelve el elemento en una posición específica.\n",
        "- list.sort(): Ordena los elementos de una lista.\n",
        "- list.reverse(): Invierte el orden de los elementos de una lista.\n",
        "- list.clear(): borra todo los valores de la lista.\n"
      ]
    },
    {
      "cell_type": "code",
      "execution_count": null,
      "metadata": {
        "id": "DwNfEXnFC3v2",
        "outputId": "2d60e005-76eb-4053-efd0-09ec7c33f547"
      },
      "outputs": [
        {
          "name": "stdout",
          "output_type": "stream",
          "text": [
            "[]\n"
          ]
        }
      ],
      "source": [
        "# list.clear\n",
        "variable_letras = ['a', 'b', 'c', 'd']\n",
        "variable_letras.clear()\n",
        "print(variable_letras)"
      ]
    },
    {
      "cell_type": "code",
      "execution_count": null,
      "metadata": {
        "id": "SybFTUHgC3v2",
        "outputId": "5d59e6c0-6f6a-4b46-afa1-99196c374cd6"
      },
      "outputs": [
        {
          "name": "stdout",
          "output_type": "stream",
          "text": [
            "['a', 'b', 'c', 'd', 'e']\n"
          ]
        }
      ],
      "source": [
        "# list.append()\n",
        "variable_letras = ['a', 'b', 'c', 'd']\n",
        "variable_letras.append('e')\n",
        "print(variable_letras)"
      ]
    },
    {
      "cell_type": "code",
      "execution_count": null,
      "metadata": {
        "id": "BToPdYLwC3v3",
        "outputId": "19d887c6-fd11-4489-a201-136bb3a2c4a0"
      },
      "outputs": [
        {
          "name": "stdout",
          "output_type": "stream",
          "text": [
            "['a', 'b', 'c', 'd', 'e', 'f', 'g', 'h']\n"
          ]
        }
      ],
      "source": [
        "# list.extend()\n",
        "variable_letras = ['a', 'b', 'c', 'd']\n",
        "variable_letras_dos = ['e', 'f', 'g', 'h']\n",
        "variable_letras.extend(variable_letras_dos)\n",
        "print(variable_letras)"
      ]
    },
    {
      "cell_type": "code",
      "execution_count": null,
      "metadata": {
        "id": "QIajYtfCC3v3",
        "outputId": "15a74f96-992d-4bff-b21c-c389b9e06351"
      },
      "outputs": [
        {
          "name": "stdout",
          "output_type": "stream",
          "text": [
            "['z', 'a', 'b', 'c', 'Hola', 'g', 'd']\n"
          ]
        }
      ],
      "source": [
        "# list.insert() y se llama de la siguiente manera:\n",
        "# lista.insert(posición, ítem).\n",
        "variable_letras = ['a', 'b', 'c', 'd']\n",
        "variable_letras = ['a', 'b', 'c', 'd']\n",
        "variable_letras_dos = ['e', 'f', 'g', 'h']\n",
        "variable_letras.insert(0, 'z')\n",
        "variable_letras.insert(-1, 'g')\n",
        "variable_letras.insert(4, 'Hola')\n",
        "print(variable_letras)"
      ]
    },
    {
      "cell_type": "code",
      "execution_count": null,
      "metadata": {
        "id": "8lUohc40C3v4",
        "outputId": "77a7f21b-c8eb-4111-953d-bfeae822dd46"
      },
      "outputs": [
        {
          "name": "stdout",
          "output_type": "stream",
          "text": [
            "['b', 'c', 'd']\n"
          ]
        }
      ],
      "source": [
        "# list.remove() y se llama de la siguiente manera:\n",
        "# lista.remove(item)\n",
        "\n",
        "variable_letras = ['a', 'b', 'c', 'd']\n",
        "variable_letras.remove('a')\n",
        "print(variable_letras)"
      ]
    },
    {
      "cell_type": "code",
      "execution_count": null,
      "metadata": {
        "id": "DZzgIuyxC3v4",
        "outputId": "bad50f3d-eaa4-4171-d9d4-eec1c9ac1c0a"
      },
      "outputs": [
        {
          "name": "stdout",
          "output_type": "stream",
          "text": [
            "['a', 'c', 'd']\n"
          ]
        }
      ],
      "source": [
        "# list.pop() y se llama de la siguiente manera:\n",
        "# lista.pop(posición)\n",
        "\n",
        "variable_letras = ['a', 'b', 'c', 'd']\n",
        "variable_letras.pop(1)\n",
        "print(variable_letras)"
      ]
    },
    {
      "cell_type": "code",
      "execution_count": null,
      "metadata": {
        "id": "18Ovi_zKC3v4",
        "outputId": "433d35de-d9e8-402e-f7d1-c10e700ddcdd"
      },
      "outputs": [
        {
          "name": "stdout",
          "output_type": "stream",
          "text": [
            "[-65, -10, 0, 5, 35, 100]\n",
            "[100, 35, 5, 0, -10, -65]\n"
          ]
        }
      ],
      "source": [
        "# list.sort() y se llama de la siguiente manera:\n",
        "# lista.sort() acomoda del menor al mayor.\n",
        "# Si le agregamos el argumento lista.sort(reverse=true), acomodará de mayor a menor la lista\n",
        "\n",
        "variable_letras = [5, -10, 35, 0, -65, 100]\n",
        "variable_letras.sort()\n",
        "print(variable_letras)\n",
        "\n",
        "variable_letras = [5, -10, 35, 0, -65, 100]\n",
        "variable_letras.sort(reverse=True)\n",
        "print(variable_letras)"
      ]
    },
    {
      "cell_type": "code",
      "execution_count": null,
      "metadata": {
        "id": "7jIhmcZ_C3v4",
        "outputId": "dcd09017-4771-407c-ed6a-7462621b414a"
      },
      "outputs": [
        {
          "name": "stdout",
          "output_type": "stream",
          "text": [
            "[100, -65, 0, 35, -10, 5]\n",
            "[]\n"
          ]
        }
      ],
      "source": [
        "# list.reverse() y se llama de la siguiente manera:\n",
        "# lista.reverse() acomodará del ultimo al primero de la lista\n",
        "\n",
        "variable_letras = [5, -10, 35, 0, -65, 100]\n",
        "variable_letras.reverse()\n",
        "print(variable_letras)\n",
        "\n",
        "# list.clear() y se llama de la siguiente manera:\n",
        "# lista.clear() vaciará la lísta y quedará vacia.\n",
        "variable_letras.clear()\n",
        "print(variable_letras)"
      ]
    },
    {
      "cell_type": "markdown",
      "metadata": {
        "id": "AXplIoXaC3v5"
      },
      "source": [
        "### Ejercicio\n"
      ]
    },
    {
      "cell_type": "markdown",
      "metadata": {
        "id": "jRKzcItxC3v5"
      },
      "source": [
        "Descripción de la actividad.\n",
        "\n",
        "- Utilizando todo lo que sabes sobre cadenas, listas y sus métodos internos, transforma este texto:\n",
        "  gordon lanzó su curva&strawberry ha fallado por un pie! gritó Joe Castiglione&dos pies -le corrigió Troop&strawberry menea la cabeza como disgustado… agrega el comentarista\n",
        "\n",
        "- Transforma el texto en:\n",
        "  Gordon lanzó su curva...\n",
        "\n",
        "* Strawberry ha fallado por un pie!\n",
        "* gritó Joe Castiglione.\n",
        "* Dos pies le corrigió Troop.\n",
        "* Strawberry menea la cabeza como disgustado…\n",
        "* agrega el comentarista.\n",
        "\n",
        "- Lo único prohibido es modificar directamente el texto\n"
      ]
    },
    {
      "cell_type": "code",
      "execution_count": null,
      "metadata": {
        "id": "YRxboHuMC3v5",
        "outputId": "faade150-a7ec-45db-b2c0-b55245bb8a6f"
      },
      "outputs": [
        {
          "name": "stdout",
          "output_type": "stream",
          "text": [
            "gordon lanzó su curva&strawberry ha fallado por un pie! -gritó Joe Castiglione&dos pies le corrigió Troop&strawberry menea la cabeza como disgustado… -agrega el comentarista\n",
            "['gordon lanzó su curva', 'strawberry ha fallado por un pie! -gritó Joe Castiglione', 'dos pies le corrigió Troop', 'strawberry menea la cabeza como disgustado… -agrega el comentarista']\n",
            "['Gordon lanzó su curva...', '- Strawberry ha fallado por un pie! -gritó joe castiglione.', '- Dos pies le corrigió troop.', '- Strawberry menea la cabeza como disgustado… -agrega el comentarista.']\n",
            "\n",
            "\n",
            "Gordon lanzó su curva...\n",
            "- Strawberry ha fallado por un pie! -gritó joe castiglione.\n",
            "- Dos pies le corrigió troop.\n",
            "- Strawberry menea la cabeza como disgustado… -agrega el comentarista.\n"
          ]
        }
      ],
      "source": [
        "texto = \"gordon lanzó su curva&strawberry ha fallado por un pie! -gritó Joe Castiglione&dos pies le corrigió Troop&strawberry menea la cabeza como disgustado… -agrega el comentarista\"\n",
        "print(texto)\n",
        "\n",
        "\n",
        "lineas = texto.split(\"&\")\n",
        "print(lineas)  # Para probra como quedo la lista cuando hicimos el split(\"&\") --> Recordar que split devuelve una lista desde una cadena\n",
        "for i, linea in enumerate(lineas):\n",
        "    lineas[i] = linea.capitalize()  # i 3\n",
        "    if i == 0:\n",
        "        lineas[i] = lineas[i] + \"...\"\n",
        "    else:\n",
        "        lineas[i] = \"- \" + lineas[i] + \".\"\n",
        "\n",
        "# Si imprimo linea solamente me devuelve el ultimo item de la lista, entonces tengo que hacer un FOR\n",
        "print(lineas)\n",
        "print(\"\\n\")\n",
        "# Mostramos el texto final\n",
        "for lineas in lineas:\n",
        "    print(lineas)"
      ]
    },
    {
      "cell_type": "markdown",
      "metadata": {
        "id": "8WV2ANHmC3v5"
      },
      "source": [
        "### Métodos de Colecciones\n"
      ]
    },
    {
      "cell_type": "code",
      "execution_count": null,
      "metadata": {
        "id": "MZuZbEuDC3v6",
        "outputId": "a79ce479-9aa7-49a9-9621-f74b87951511"
      },
      "outputs": [
        {
          "name": "stdout",
          "output_type": "stream",
          "text": [
            "{1, 2, 3, 4, 5}\n",
            "{3}\n",
            "{1, 2}\n"
          ]
        }
      ],
      "source": [
        "# Ejemplo 1:\n",
        "my_set_1 = set([1, 2, 3])\n",
        "my_set_2 = set([3, 4, 5])\n",
        "my_new_set = my_set_1.union(my_set_2)\n",
        "print(my_new_set)\n",
        "# Ejemplo 2:\n",
        "my_set_1 = set([1, 2, 3])\n",
        "my_set_2 = set([3, 4, 5])\n",
        "my_new_set = my_set_1.intersection(my_set_2)\n",
        "print(my_new_set)\n",
        "# Ejemplo 3:\n",
        "my_set_1 = set([1, 2, 3])\n",
        "my_set_2 = set([3, 4, 5])\n",
        "my_new_set = my_set_1.difference(my_set_2)\n",
        "print(my_new_set)"
      ]
    },
    {
      "cell_type": "markdown",
      "metadata": {
        "id": "cz3-OjMuC3v6"
      },
      "source": [
        "## Funciones\n"
      ]
    },
    {
      "cell_type": "markdown",
      "metadata": {
        "id": "LksP6qImC3v6"
      },
      "source": [
        "Una función es un fragmento de código con un nombre asociado que realiza una serie de tareas y devuelve un valor. A los fragmentos de código que tienen un nombre asociado y no devuelven valores se les suele llamar procedimientos. En Python no existen los procedimientos, ya que cuando el programador no especifica un valor de retorno la función devuelve el valor None (nada), equivalente al null de Java.\n",
        "\n",
        "Beneficios:\n",
        "\n",
        "- Simplificación del código.\n",
        "- ejor organización del código.\n",
        "- Reutilización de código fuente.\n",
        "\n",
        "Su estructura sería la siguiente:\n",
        "\n",
        "- def: indicador de definición de función.\n",
        "- NombreFuncion: nombre que tendrá la función. Te aconsejamos que utilices nombres de funciones descriptivos que representen lo que la función hace.\n",
        "- parámetros: conjunto de elementos de entrada que tiene la función. Los parámetros son opcionales, es decir, puede haber 0 o más. En caso de ser más de uno los parámetros irán separados por coma.\n",
        "- BloqueInstrucciones: bloque de código que ejecuta la función.\n",
        "- return: retorna datos al código fuente que utilizó la función. Es opcional, ya que el retorno de datos no es obligatorio en las funciones.\n",
        "- ValorRetorno: datos que se retornan\n"
      ]
    },
    {
      "cell_type": "code",
      "execution_count": null,
      "metadata": {
        "id": "6fGlmmIjC3v6",
        "outputId": "6da7a84d-c7bd-48cc-968a-36df7387db2f"
      },
      "outputs": [
        {
          "name": "stdout",
          "output_type": "stream",
          "text": [
            "El resultado de la suma es:  6\n",
            "El resultado de la resta es:  0\n",
            "El resutado de todos los número es: 12\n"
          ]
        }
      ],
      "source": [
        "def SumarRestar(param1, param2):\n",
        "\n",
        "    return param1 + param2, param1 - param2\n",
        "\n",
        "\n",
        "numero1 = int(input(\"Introduce el primer numero: \"))\n",
        "numero2 = int(input(\"Introduce el segundo numero: \"))\n",
        "resultadosuma, resultadoresta = SumarRestar(numero1, numero2)\n",
        "\n",
        "print(\"El resultado de la suma es: \", resultadosuma)\n",
        "print(\"El resultado de la resta es: \", resultadoresta)\n",
        "\n",
        "\n",
        "def sumAllvalue(*valor):\n",
        "    variable_resultado = 0\n",
        "    for items in valor:\n",
        "        variable_resultado = variable_resultado + items\n",
        "    return variable_resultado\n",
        "\n",
        "\n",
        "variable_resultado = sumAllvalue(3, 3, 6)\n",
        "print(f\"El resutado de todos los número es: {variable_resultado}\")"
      ]
    },
    {
      "cell_type": "markdown",
      "metadata": {
        "id": "1CBnIPsXC3v7"
      },
      "source": [
        "El ejercicio SumarRestar() consiste en la definición de la función SumarRestar, que realizará la suma y la resta de sus parámetros y devolverá el resultado de ambas operaciones. Presta atención a como se pueden devolver más de un elemento con return y como puedes asignar cada valor devuelto a una variable diferente. La invocación de la función se realiza pasándole los dos números introducidos por el usuario. El resultado de la suma y la resta se muestran por pantalla.\n",
        "\n",
        "En cuanto el ejercicio sumAllvalue(\\*valor) consiste en la definición de la función Sumar, que sumará todos los valores que se le pasan por parámetro. Presta atención a como se definen los parámetros de la función. De esta forma puedes pasarle a la función un parámetro, tres, diez, veinte, etc., y la función únicamente tienes que definirla una vez. En estas funciones los parámetros se reciben como una lista, por lo que tendrás que iterarla para poder procesarlos todos, tal y como se hace en el ejercicio para realizar la suma de todos los valores. El resultado de la suma se muestra por pantalla.\n"
      ]
    },
    {
      "cell_type": "markdown",
      "metadata": {
        "id": "DvB6T3vVC3v7"
      },
      "source": [
        "### Funciones Anidadas\n"
      ]
    },
    {
      "cell_type": "markdown",
      "metadata": {
        "id": "zENQ008TC3v7"
      },
      "source": [
        "Consiste en el uso de funciones desde dentro de funciones.\n"
      ]
    },
    {
      "cell_type": "code",
      "execution_count": null,
      "metadata": {
        "id": "2ePqHl6BC3v7",
        "outputId": "c0022c5a-c82c-4ecb-be6e-df6f70204dfe"
      },
      "outputs": [
        {
          "name": "stdout",
          "output_type": "stream",
          "text": [
            "El resultado de la suma es: 10\n",
            "El resultado de la resta es: -4\n"
          ]
        }
      ],
      "source": [
        "def SumarRestar(param1, param2):\n",
        "\n",
        "    return Sumar(param1, param2), Restar(param1, param2)\n",
        "\n",
        "\n",
        "def Sumar(param1, param2):\n",
        "    return param1 + param2\n",
        "\n",
        "\n",
        "def Restar(param1, param2):\n",
        "    return param1 - param2\n",
        "\n",
        "\n",
        "numero1 = int(input(\"Ingrese el primer número: \"))\n",
        "numero2 = int(input(\"Ingrese el segundo número: \"))\n",
        "\n",
        "resultadosuma, resultadoresta = SumarRestar(numero1, numero2)\n",
        "\n",
        "print(f\"El resultado de la suma es: {resultadosuma}\")\n",
        "print(f\"El resultado de la resta es: {resultadoresta}\")"
      ]
    },
    {
      "cell_type": "markdown",
      "metadata": {
        "id": "ZVNHV8ESC3v7"
      },
      "source": [
        "Tal y como puedes ver, en lugar de realizar las operaciones de suma y resta directamente en la función SumarRestar, se utilizan las funciones Sumar y Restar\n"
      ]
    },
    {
      "cell_type": "markdown",
      "metadata": {
        "id": "yOpIXgIUC3v8"
      },
      "source": [
        "## Excepciones\n"
      ]
    },
    {
      "cell_type": "markdown",
      "metadata": {
        "id": "i-BFNY-ZC3v8"
      },
      "source": [
        "Una excepción es un error que ocurre mientras se ejecuta el programa y que no ocurre frecuentemente.\n",
        "El código fuente nos permite realizar las operaciones que se llaman “controlar la excepción”, que no son otra cosa que guardar el estado en el que se encontraba el programa en el momento justo del error e interrumpir el programa para ejecutar un código fuente concreto. En muchos casos, dependiendo del error ocurrido, el control de la excepción implicará que el programa siga ejecutándose después de controlarla, aunque en muchos casos ésto no será posible.\n",
        "\n",
        "El proceso de controlar excepciones es similar en todos los lenguajes de programación, en primer lugar, es necesario incluir el el código fuente de ejecución normal dentro de un bloque con la sentencia try, posteriormente, se crea un bloque de código dentro de una sentencia except que es la que se ejecutará en caso de error. El bloque except permite especificar el tipo de error que se controla con el bloque de código, es por ello por lo que puedes tener tantos bloques except como errores quieras controlar, aunque también es posible controlar un error genérico que incluya a todos los errores. En el control de excepciones existe la posibilidad de crear un bloque de código que se ejecute siempre al final, independientemente de si ocurre error o no, dicho bloque de código se escribe como parte de la sentencia finally.\n",
        "El control de excepciones en Python tiene un aspecto así:\n"
      ]
    },
    {
      "cell_type": "code",
      "execution_count": null,
      "metadata": {
        "id": "t54h9b_PC3v8"
      },
      "outputs": [],
      "source": [
        "try:\n",
        "       BloqueInstruccionesPrograma\n",
        "except TipoError1:\n",
        "       BloqueInstruccionesError1:\n",
        "except TipoError2:\n",
        "       BloqueInstruccionesError2\n",
        "except TipoErrorN:\n",
        "       BloqueInstruccionesErrorN\n",
        "finally:\n",
        "       BloqueCodigoFinally"
      ]
    },
    {
      "cell_type": "markdown",
      "metadata": {
        "id": "z-ifuLgUC3v8"
      },
      "source": [
        "Veamos en detalle cada elemento:\n",
        "* try: indicador de comienzo del bloque de código fuente que se controlará. BloqueInstruccionesPrograma: conjunto de instrucciones que componen el programa.\n",
        "* except: indicador de comienzo de excepción controlada.\n",
        "* TipoError: indicador del tipo de error que se controla con * except. El parámetro es opcional, si no se especifica el tipo se controlará la excepción de forma genérica.\n",
        "* BloqueInstruccionesError: conjunto de instrucciones que se ejecuta si se produce el error indicado por TipoError.\n",
        "* finally: indicador de comienzo del bloque de código final. La sección es opcional.\n",
        "* BloqueCodigoFinally: conjunto de instrucciones que se ejecutan al acabar cualquiera de los bloques de código anteriores.\n",
        "En Python existen diferentes tipos de excepciones que pueden controlarse, todas ellas derivan de una serie de excepciones base. En el anexo al final del libro podrás encontrar los diferentes tipos de excepciones que existen en Python.\n"
      ]
    },
    {
      "cell_type": "markdown",
      "metadata": {
        "id": "IxGh1dtSC3v9"
      },
      "source": [
        "### Tipos de Exepciones"
      ]
    },
    {
      "cell_type": "markdown",
      "metadata": {
        "id": "QNdXhR_JC3v9"
      },
      "source": [
        "- BaseException: Clase de la que heredan todas las excepciones.\n",
        "- Exception(BaseException): Super clase de todas las excepciones que no sean de salida.\n",
        "- GeneratorExit(Exception): Se pide que se salga de un generador.\n",
        "- StandardError(Exception): Clase base para todas las excepciones que no tengan que ver con salir del intérprete.\n",
        "- ArithmeticError(StandardError): Clase base para los errores aritméticos.\n",
        "- FloatingPointError(ArithmeticError): Error en una operación de coma flotante.\n",
        "- OverflowError(ArithmeticError): Resultado demasiado grande para poder representarse.\n",
        "- ZeroDivisionError(ArithmeticError): Lanzada cuando el segundo argumento de una operación de división o módulo era 0.\n",
        "- AssertionError(StandardError): Falló la condición de un estamento assert.\n",
        "- AttributeError(StandardError): No se encontró el atributo.\n",
        "- EOFError(StandardError): Se intentó leer más allá del final de fichero.\n",
        "- EnvironmentError(StandardError): Clase padre de los errores relacionados con la entrada/salida.\n",
        "- IOError(EnvironmentError): Error en una operación de entrada/salida.\n",
        "- OSError(EnvironmentError): Error en una llamada a sistema.\n",
        "- WindowsError(OSError): Error en una llamada a sistema en Windows.\n",
        "- ImportError(StandardError): No se encuentra el módulo o el elemento del módulo que se quería importar.\n",
        "- LookupError(StandardError): Clase padre de los errores de acceso.\n",
        "- IndexError(LookupError): El índice de la secuencia está fuera del rango posible.\n",
        "- KeyError(LookupError): La clave no existe.\n",
        "- MemoryError(StandardError): No queda memoria suficiente.\n",
        "- NameError(StandardError): No se encontró ningún elemento con ese nombre.\n",
        "- UnboundLocalError(NameError): El nombre no está asociado a ninguna variable.\n",
        "- ReferenceError(StandardError): El objeto no tiene ninguna referencia fuerte apuntando hacia él.\n",
        "- RuntimeError(StandardError): Error en tiempo de ejecución no especificado.\n",
        "- NotImplementedError(RuntimeError): Ese método o función no está implementado.\n",
        "- SyntaxError(StandardError): Clase padre para los errores sintácticos.\n",
        "- IndentationError(SyntaxError): Error en la indentación del archivo.\n",
        "- TabError(IndentationError): Error debido a la mezcla de espacios y tabuladores.\n",
        "- SystemError(StandardError): Error interno del intérprete.\n",
        "- TypeError(StandardError): Tipo de argumento no apropiado.\n",
        "- ValueError(StandardError): Valor del argumento no apropiado.\n",
        "- UnicodeError(ValueError): Clase padre para los errores relacionados con unicode.\n",
        "- UnicodeDecodeError(UnicodeError): Error de decodificación unicode.\n",
        "- UnicodeEncodeError(UnicodeError): Error de codificación unicode.\n",
        "- UnicodeTranslateError(UnicodeError): Error de traducción unicode.\n",
        "- StopIteration(Exception): Se utiliza para indicar el final del iterador.\n",
        "- Warning(Exception): Clase padre para los avisos.\n",
        "- DeprecationWarning(Warning): Clase padre para avisos sobre características obsoletas.\n",
        "- FutureWarning(Warning): Aviso. La semántica de la construcción cambiará en un futuro.\n",
        "- ImportWarning(Warning): Aviso sobre posibles errores a la hora de importar.\n",
        "- PendingDeprecationWarning(Warning): Aviso sobre características que se marcarán como obsoletas en un futuro próximo.\n",
        "- RuntimeWarning(Warning): Aviso sobre comportmaientos dudosos en tiempo de ejecución.\n",
        "- SyntaxWarning(Warning): Aviso sobre sintaxis dudosa.\n",
        "- UnicodeWarning(Warning): Aviso sobre problemas relacionados con Unicode, sobre todo con problemas de conversión.\n",
        "- UserWarning(Warning): Clase padre para avisos creados por el programador.\n",
        "- KeyboardInterrupt(BaseException): El programa fué interrumpido por el usuario.\n",
        "- SystemExit(BaseException): Petición del intérprete para terminar la ejecución."
      ]
    },
    {
      "cell_type": "code",
      "execution_count": null,
      "metadata": {
        "id": "GYETNubbC3v9",
        "outputId": "34ecfbf8-4f6f-4f4e-8be5-e888772259ec"
      },
      "outputs": [
        {
          "name": "stdout",
          "output_type": "stream",
          "text": [
            "Division por cero\n",
            "Limpiando\n"
          ]
        }
      ],
      "source": [
        "try:\n",
        "  z = 3 / 0\n",
        "except ZeroDivisionError:\n",
        "  print( \"Division por cero\")\n",
        "finally:\n",
        "  print(\"Limpiando\")"
      ]
    },
    {
      "cell_type": "markdown",
      "metadata": {
        "id": "86cD1s3CC3v9"
      },
      "source": [
        "## Archivos"
      ]
    },
    {
      "cell_type": "markdown",
      "metadata": {
        "id": "fCNBhXU8C3v9"
      },
      "source": [
        "### Persistencia"
      ]
    },
    {
      "cell_type": "markdown",
      "metadata": {
        "id": "3CI75EgIC3v-"
      },
      "source": [
        "Para entender lo que es un archivo, deberemos hablar de persistencia. La persistencia es lo que nos va a permitir guardar y recuperar los datos que se generaron en algún programa (ya sea nuestro o ajeno). Esto es muy importante tenerlo en cuenta, ya que los datos tienen una duración efímera; desde el momento en que estos cambian de valor se considera que no hay persistencia de los mismos.\n",
        "\n",
        "Entre los tipos de persistencias que tenemos están: Bases de datos y los archivos."
      ]
    },
    {
      "cell_type": "markdown",
      "metadata": {
        "id": "TjpxwhJHC3v-"
      },
      "source": [
        "### ¿Qué son los Archivos?"
      ]
    },
    {
      "cell_type": "markdown",
      "metadata": {
        "id": "TrXA4bYoC3v-"
      },
      "source": [
        "Un archivo es una porción de información relacionada lógicamente que puede ser usada por programas de computadoras y que se guarda en un medio de almacenamiento digital. También si queremos definir archivo de una manera más formal a nuestro lenguaje de programador, podemos decir que un archivo es una secuencia de bytes que son guardado en un dispositivo. Esto nos genera la persistencia de la información.\n",
        "\n",
        "Por simplicidad trabajaremos solo con archivos de texto. A su vez, los archivos de texto pueden ser de muchas extensiones, las más clásicas son: .txt, .doc, .docx, .xml, .csv, .json, etc"
      ]
    },
    {
      "cell_type": "markdown",
      "metadata": {
        "id": "NCDdp7zMC3v-"
      },
      "source": [
        "### Estructura de archivos: Lectura"
      ]
    },
    {
      "cell_type": "markdown",
      "metadata": {
        "id": "UlaYkMAIC3v-"
      },
      "source": [
        "#### Lectura de Archivos desde Drive"
      ]
    },
    {
      "cell_type": "code",
      "execution_count": null,
      "metadata": {
        "colab": {
          "base_uri": "https://localhost:8080/",
          "height": 292
        },
        "id": "VZNss356C3v_",
        "outputId": "37ce0e66-ec41-4e2d-ecaf-747afd81dded"
      },
      "outputs": [
        {
          "name": "stdout",
          "output_type": "stream",
          "text": [
            "Drive already mounted at /content/gdrive; to attempt to forcibly remount, call drive.mount(\"/content/gdrive\", force_remount=True).\n",
            "/content/gdrive/MyDrive\n"
          ]
        },
        {
          "data": {
            "text/html": [
              "\n",
              "  <div id=\"df-3d66bd89-0fbb-46b0-9c8a-2ad45e7f87aa\" class=\"colab-df-container\">\n",
              "    <div>\n",
              "<style scoped>\n",
              "    .dataframe tbody tr th:only-of-type {\n",
              "        vertical-align: middle;\n",
              "    }\n",
              "\n",
              "    .dataframe tbody tr th {\n",
              "        vertical-align: top;\n",
              "    }\n",
              "\n",
              "    .dataframe thead th {\n",
              "        text-align: right;\n",
              "    }\n",
              "</style>\n",
              "<table border=\"1\" class=\"dataframe\">\n",
              "  <thead>\n",
              "    <tr style=\"text-align: right;\">\n",
              "      <th></th>\n",
              "      <th>USMER</th>\n",
              "      <th>MEDICAL_UNIT</th>\n",
              "      <th>SEX</th>\n",
              "      <th>PATIENT_TYPE</th>\n",
              "      <th>DATE_DIED</th>\n",
              "      <th>INTUBED</th>\n",
              "      <th>PNEUMONIA</th>\n",
              "      <th>AGE</th>\n",
              "      <th>PREGNANT</th>\n",
              "      <th>DIABETES</th>\n",
              "      <th>...</th>\n",
              "      <th>ASTHMA</th>\n",
              "      <th>INMSUPR</th>\n",
              "      <th>HIPERTENSION</th>\n",
              "      <th>OTHER_DISEASE</th>\n",
              "      <th>CARDIOVASCULAR</th>\n",
              "      <th>OBESITY</th>\n",
              "      <th>RENAL_CHRONIC</th>\n",
              "      <th>TOBACCO</th>\n",
              "      <th>CLASIFFICATION_FINAL</th>\n",
              "      <th>ICU</th>\n",
              "    </tr>\n",
              "  </thead>\n",
              "  <tbody>\n",
              "    <tr>\n",
              "      <th>0</th>\n",
              "      <td>2</td>\n",
              "      <td>1</td>\n",
              "      <td>1</td>\n",
              "      <td>1</td>\n",
              "      <td>03/05/2020</td>\n",
              "      <td>97</td>\n",
              "      <td>1</td>\n",
              "      <td>65</td>\n",
              "      <td>2</td>\n",
              "      <td>2</td>\n",
              "      <td>...</td>\n",
              "      <td>2</td>\n",
              "      <td>2</td>\n",
              "      <td>1</td>\n",
              "      <td>2</td>\n",
              "      <td>2</td>\n",
              "      <td>2</td>\n",
              "      <td>2</td>\n",
              "      <td>2</td>\n",
              "      <td>3</td>\n",
              "      <td>97</td>\n",
              "    </tr>\n",
              "    <tr>\n",
              "      <th>1</th>\n",
              "      <td>2</td>\n",
              "      <td>1</td>\n",
              "      <td>2</td>\n",
              "      <td>1</td>\n",
              "      <td>03/06/2020</td>\n",
              "      <td>97</td>\n",
              "      <td>1</td>\n",
              "      <td>72</td>\n",
              "      <td>97</td>\n",
              "      <td>2</td>\n",
              "      <td>...</td>\n",
              "      <td>2</td>\n",
              "      <td>2</td>\n",
              "      <td>1</td>\n",
              "      <td>2</td>\n",
              "      <td>2</td>\n",
              "      <td>1</td>\n",
              "      <td>1</td>\n",
              "      <td>2</td>\n",
              "      <td>5</td>\n",
              "      <td>97</td>\n",
              "    </tr>\n",
              "    <tr>\n",
              "      <th>2</th>\n",
              "      <td>2</td>\n",
              "      <td>1</td>\n",
              "      <td>2</td>\n",
              "      <td>2</td>\n",
              "      <td>09/06/2020</td>\n",
              "      <td>1</td>\n",
              "      <td>2</td>\n",
              "      <td>55</td>\n",
              "      <td>97</td>\n",
              "      <td>1</td>\n",
              "      <td>...</td>\n",
              "      <td>2</td>\n",
              "      <td>2</td>\n",
              "      <td>2</td>\n",
              "      <td>2</td>\n",
              "      <td>2</td>\n",
              "      <td>2</td>\n",
              "      <td>2</td>\n",
              "      <td>2</td>\n",
              "      <td>3</td>\n",
              "      <td>2</td>\n",
              "    </tr>\n",
              "    <tr>\n",
              "      <th>3</th>\n",
              "      <td>2</td>\n",
              "      <td>1</td>\n",
              "      <td>1</td>\n",
              "      <td>1</td>\n",
              "      <td>12/06/2020</td>\n",
              "      <td>97</td>\n",
              "      <td>2</td>\n",
              "      <td>53</td>\n",
              "      <td>2</td>\n",
              "      <td>2</td>\n",
              "      <td>...</td>\n",
              "      <td>2</td>\n",
              "      <td>2</td>\n",
              "      <td>2</td>\n",
              "      <td>2</td>\n",
              "      <td>2</td>\n",
              "      <td>2</td>\n",
              "      <td>2</td>\n",
              "      <td>2</td>\n",
              "      <td>7</td>\n",
              "      <td>97</td>\n",
              "    </tr>\n",
              "    <tr>\n",
              "      <th>4</th>\n",
              "      <td>2</td>\n",
              "      <td>1</td>\n",
              "      <td>2</td>\n",
              "      <td>1</td>\n",
              "      <td>21/06/2020</td>\n",
              "      <td>97</td>\n",
              "      <td>2</td>\n",
              "      <td>68</td>\n",
              "      <td>97</td>\n",
              "      <td>1</td>\n",
              "      <td>...</td>\n",
              "      <td>2</td>\n",
              "      <td>2</td>\n",
              "      <td>1</td>\n",
              "      <td>2</td>\n",
              "      <td>2</td>\n",
              "      <td>2</td>\n",
              "      <td>2</td>\n",
              "      <td>2</td>\n",
              "      <td>3</td>\n",
              "      <td>97</td>\n",
              "    </tr>\n",
              "  </tbody>\n",
              "</table>\n",
              "<p>5 rows × 21 columns</p>\n",
              "</div>\n",
              "    <div class=\"colab-df-buttons\">\n",
              "\n",
              "  <div class=\"colab-df-container\">\n",
              "    <button class=\"colab-df-convert\" onclick=\"convertToInteractive('df-3d66bd89-0fbb-46b0-9c8a-2ad45e7f87aa')\"\n",
              "            title=\"Convert this dataframe to an interactive table.\"\n",
              "            style=\"display:none;\">\n",
              "\n",
              "  <svg xmlns=\"http://www.w3.org/2000/svg\" height=\"24px\" viewBox=\"0 -960 960 960\">\n",
              "    <path d=\"M120-120v-720h720v720H120Zm60-500h600v-160H180v160Zm220 220h160v-160H400v160Zm0 220h160v-160H400v160ZM180-400h160v-160H180v160Zm440 0h160v-160H620v160ZM180-180h160v-160H180v160Zm440 0h160v-160H620v160Z\"/>\n",
              "  </svg>\n",
              "    </button>\n",
              "\n",
              "  <style>\n",
              "    .colab-df-container {\n",
              "      display:flex;\n",
              "      gap: 12px;\n",
              "    }\n",
              "\n",
              "    .colab-df-convert {\n",
              "      background-color: #E8F0FE;\n",
              "      border: none;\n",
              "      border-radius: 50%;\n",
              "      cursor: pointer;\n",
              "      display: none;\n",
              "      fill: #1967D2;\n",
              "      height: 32px;\n",
              "      padding: 0 0 0 0;\n",
              "      width: 32px;\n",
              "    }\n",
              "\n",
              "    .colab-df-convert:hover {\n",
              "      background-color: #E2EBFA;\n",
              "      box-shadow: 0px 1px 2px rgba(60, 64, 67, 0.3), 0px 1px 3px 1px rgba(60, 64, 67, 0.15);\n",
              "      fill: #174EA6;\n",
              "    }\n",
              "\n",
              "    .colab-df-buttons div {\n",
              "      margin-bottom: 4px;\n",
              "    }\n",
              "\n",
              "    [theme=dark] .colab-df-convert {\n",
              "      background-color: #3B4455;\n",
              "      fill: #D2E3FC;\n",
              "    }\n",
              "\n",
              "    [theme=dark] .colab-df-convert:hover {\n",
              "      background-color: #434B5C;\n",
              "      box-shadow: 0px 1px 3px 1px rgba(0, 0, 0, 0.15);\n",
              "      filter: drop-shadow(0px 1px 2px rgba(0, 0, 0, 0.3));\n",
              "      fill: #FFFFFF;\n",
              "    }\n",
              "  </style>\n",
              "\n",
              "    <script>\n",
              "      const buttonEl =\n",
              "        document.querySelector('#df-3d66bd89-0fbb-46b0-9c8a-2ad45e7f87aa button.colab-df-convert');\n",
              "      buttonEl.style.display =\n",
              "        google.colab.kernel.accessAllowed ? 'block' : 'none';\n",
              "\n",
              "      async function convertToInteractive(key) {\n",
              "        const element = document.querySelector('#df-3d66bd89-0fbb-46b0-9c8a-2ad45e7f87aa');\n",
              "        const dataTable =\n",
              "          await google.colab.kernel.invokeFunction('convertToInteractive',\n",
              "                                                    [key], {});\n",
              "        if (!dataTable) return;\n",
              "\n",
              "        const docLinkHtml = 'Like what you see? Visit the ' +\n",
              "          '<a target=\"_blank\" href=https://colab.research.google.com/notebooks/data_table.ipynb>data table notebook</a>'\n",
              "          + ' to learn more about interactive tables.';\n",
              "        element.innerHTML = '';\n",
              "        dataTable['output_type'] = 'display_data';\n",
              "        await google.colab.output.renderOutput(dataTable, element);\n",
              "        const docLink = document.createElement('div');\n",
              "        docLink.innerHTML = docLinkHtml;\n",
              "        element.appendChild(docLink);\n",
              "      }\n",
              "    </script>\n",
              "  </div>\n",
              "\n",
              "\n",
              "<div id=\"df-5e41422d-8dab-43d3-82d6-04e5b1467b4f\">\n",
              "  <button class=\"colab-df-quickchart\" onclick=\"quickchart('df-5e41422d-8dab-43d3-82d6-04e5b1467b4f')\"\n",
              "            title=\"Suggest charts.\"\n",
              "            style=\"display:none;\">\n",
              "\n",
              "<svg xmlns=\"http://www.w3.org/2000/svg\" height=\"24px\"viewBox=\"0 0 24 24\"\n",
              "     width=\"24px\">\n",
              "    <g>\n",
              "        <path d=\"M19 3H5c-1.1 0-2 .9-2 2v14c0 1.1.9 2 2 2h14c1.1 0 2-.9 2-2V5c0-1.1-.9-2-2-2zM9 17H7v-7h2v7zm4 0h-2V7h2v10zm4 0h-2v-4h2v4z\"/>\n",
              "    </g>\n",
              "</svg>\n",
              "  </button>\n",
              "\n",
              "<style>\n",
              "  .colab-df-quickchart {\n",
              "      --bg-color: #E8F0FE;\n",
              "      --fill-color: #1967D2;\n",
              "      --hover-bg-color: #E2EBFA;\n",
              "      --hover-fill-color: #174EA6;\n",
              "      --disabled-fill-color: #AAA;\n",
              "      --disabled-bg-color: #DDD;\n",
              "  }\n",
              "\n",
              "  [theme=dark] .colab-df-quickchart {\n",
              "      --bg-color: #3B4455;\n",
              "      --fill-color: #D2E3FC;\n",
              "      --hover-bg-color: #434B5C;\n",
              "      --hover-fill-color: #FFFFFF;\n",
              "      --disabled-bg-color: #3B4455;\n",
              "      --disabled-fill-color: #666;\n",
              "  }\n",
              "\n",
              "  .colab-df-quickchart {\n",
              "    background-color: var(--bg-color);\n",
              "    border: none;\n",
              "    border-radius: 50%;\n",
              "    cursor: pointer;\n",
              "    display: none;\n",
              "    fill: var(--fill-color);\n",
              "    height: 32px;\n",
              "    padding: 0;\n",
              "    width: 32px;\n",
              "  }\n",
              "\n",
              "  .colab-df-quickchart:hover {\n",
              "    background-color: var(--hover-bg-color);\n",
              "    box-shadow: 0 1px 2px rgba(60, 64, 67, 0.3), 0 1px 3px 1px rgba(60, 64, 67, 0.15);\n",
              "    fill: var(--button-hover-fill-color);\n",
              "  }\n",
              "\n",
              "  .colab-df-quickchart-complete:disabled,\n",
              "  .colab-df-quickchart-complete:disabled:hover {\n",
              "    background-color: var(--disabled-bg-color);\n",
              "    fill: var(--disabled-fill-color);\n",
              "    box-shadow: none;\n",
              "  }\n",
              "\n",
              "  .colab-df-spinner {\n",
              "    border: 2px solid var(--fill-color);\n",
              "    border-color: transparent;\n",
              "    border-bottom-color: var(--fill-color);\n",
              "    animation:\n",
              "      spin 1s steps(1) infinite;\n",
              "  }\n",
              "\n",
              "  @keyframes spin {\n",
              "    0% {\n",
              "      border-color: transparent;\n",
              "      border-bottom-color: var(--fill-color);\n",
              "      border-left-color: var(--fill-color);\n",
              "    }\n",
              "    20% {\n",
              "      border-color: transparent;\n",
              "      border-left-color: var(--fill-color);\n",
              "      border-top-color: var(--fill-color);\n",
              "    }\n",
              "    30% {\n",
              "      border-color: transparent;\n",
              "      border-left-color: var(--fill-color);\n",
              "      border-top-color: var(--fill-color);\n",
              "      border-right-color: var(--fill-color);\n",
              "    }\n",
              "    40% {\n",
              "      border-color: transparent;\n",
              "      border-right-color: var(--fill-color);\n",
              "      border-top-color: var(--fill-color);\n",
              "    }\n",
              "    60% {\n",
              "      border-color: transparent;\n",
              "      border-right-color: var(--fill-color);\n",
              "    }\n",
              "    80% {\n",
              "      border-color: transparent;\n",
              "      border-right-color: var(--fill-color);\n",
              "      border-bottom-color: var(--fill-color);\n",
              "    }\n",
              "    90% {\n",
              "      border-color: transparent;\n",
              "      border-bottom-color: var(--fill-color);\n",
              "    }\n",
              "  }\n",
              "</style>\n",
              "\n",
              "  <script>\n",
              "    async function quickchart(key) {\n",
              "      const quickchartButtonEl =\n",
              "        document.querySelector('#' + key + ' button');\n",
              "      quickchartButtonEl.disabled = true;  // To prevent multiple clicks.\n",
              "      quickchartButtonEl.classList.add('colab-df-spinner');\n",
              "      try {\n",
              "        const charts = await google.colab.kernel.invokeFunction(\n",
              "            'suggestCharts', [key], {});\n",
              "      } catch (error) {\n",
              "        console.error('Error during call to suggestCharts:', error);\n",
              "      }\n",
              "      quickchartButtonEl.classList.remove('colab-df-spinner');\n",
              "      quickchartButtonEl.classList.add('colab-df-quickchart-complete');\n",
              "    }\n",
              "    (() => {\n",
              "      let quickchartButtonEl =\n",
              "        document.querySelector('#df-5e41422d-8dab-43d3-82d6-04e5b1467b4f button');\n",
              "      quickchartButtonEl.style.display =\n",
              "        google.colab.kernel.accessAllowed ? 'block' : 'none';\n",
              "    })();\n",
              "  </script>\n",
              "</div>\n",
              "    </div>\n",
              "  </div>\n"
            ],
            "text/plain": [
              "   USMER  MEDICAL_UNIT  SEX  PATIENT_TYPE   DATE_DIED  INTUBED  PNEUMONIA  \\\n",
              "0      2             1    1             1  03/05/2020       97          1   \n",
              "1      2             1    2             1  03/06/2020       97          1   \n",
              "2      2             1    2             2  09/06/2020        1          2   \n",
              "3      2             1    1             1  12/06/2020       97          2   \n",
              "4      2             1    2             1  21/06/2020       97          2   \n",
              "\n",
              "   AGE  PREGNANT  DIABETES  ...  ASTHMA  INMSUPR  HIPERTENSION  OTHER_DISEASE  \\\n",
              "0   65         2         2  ...       2        2             1              2   \n",
              "1   72        97         2  ...       2        2             1              2   \n",
              "2   55        97         1  ...       2        2             2              2   \n",
              "3   53         2         2  ...       2        2             2              2   \n",
              "4   68        97         1  ...       2        2             1              2   \n",
              "\n",
              "   CARDIOVASCULAR  OBESITY  RENAL_CHRONIC  TOBACCO  CLASIFFICATION_FINAL  ICU  \n",
              "0               2        2              2        2                     3   97  \n",
              "1               2        1              1        2                     5   97  \n",
              "2               2        2              2        2                     3    2  \n",
              "3               2        2              2        2                     7   97  \n",
              "4               2        2              2        2                     3   97  \n",
              "\n",
              "[5 rows x 21 columns]"
            ]
          },
          "execution_count": 29,
          "metadata": {},
          "output_type": "execute_result"
        }
      ],
      "source": [
        "# Importar la biblioteca 'os' y pandas para interactuar con el sistema operativo\n",
        "import os\n",
        "import pandas as pd\n",
        "\n",
        "# Importar la biblioteca para montar Google Drive en Google Colab\n",
        "from google.colab import drive\n",
        "\n",
        "\n",
        "# Montar Google Drive en la ubicación '/content/gdrive'\n",
        "drive.mount('/content/gdrive')\n",
        "\n",
        "# Cambiar el directorio de trabajo actual a la carpeta 'MyDrive' en Google Drive\n",
        "%cd '/content/gdrive/MyDrive'\n",
        "\n",
        "# Importar la biblioteca 'pandas' para trabajar con DataFrames\n",
        "import pandas as pd\n",
        "\n",
        "# Cargar un archivo CSV llamado 'covid.csv' en un DataFrame 'df'\n",
        "# Utilizaamos  Pandas para cargar un archivo CSV llamado 'winequalityred.csv' en un DataFrame llamado df.\n",
        "#El argumento sep=',' especifica que las columnas en el archivo CSV están separadas por comas.\n",
        "df = pd.read_csv('covid.csv', sep=',')\n",
        "\n",
        "# Ahora puedes trabajar con los datos en 'df'\n",
        "\n",
        "df.head(5)"
      ]
    },
    {
      "cell_type": "markdown",
      "metadata": {
        "id": "voPLejO-C3v_"
      },
      "source": [
        "#### Lectura de Archivos desde Api"
      ]
    },
    {
      "cell_type": "code",
      "execution_count": null,
      "metadata": {
        "id": "PnUAp4zjC3v_",
        "outputId": "15bc0973-ec10-4e2d-c6b4-cb5868795cfd"
      },
      "outputs": [
        {
          "name": "stdout",
          "output_type": "stream",
          "text": [
            "<Response [200]>\n"
          ]
        }
      ],
      "source": [
        "import pandas as pd\n",
        "# Importar la biblioteca 'requests' para hacer solicitudes HTTP\n",
        "import requests\n",
        "\n",
        "# Importar la biblioteca 'json' para trabajar con datos JSON\n",
        "import json\n",
        "\n",
        "# Definir la URL del servicio web que proporciona datos de seguimiento de COVID-19\n",
        "url = 'https://api.covidtracking.com/v1/states/daily.json'\n",
        "\n",
        "# Hacer una solicitud GET a la URL para obtener datos\n",
        "response = requests.get(url)\n",
        "\n",
        "# Imprimir la respuesta de la solicitud (esto mostrará información sobre la respuesta HTTP)\n",
        "print(response)\n",
        "\n",
        "# Verificar si la solicitud fue exitosa (código de estado HTTP 200)\n",
        "# Caso contrario debería imprimir La solicitud no fue exitosa. Código de estado HTTP:', (código de estado HTTP: 404)\n",
        "if response.status_code == 200:\n",
        "    # Parsear la respuesta JSON y almacenarla en la variable 'data'\n",
        "    data = response.json()\n",
        "\n",
        "    # Ahora puedes trabajar con los datos en el formato JSON almacenados en 'data'\n",
        "else:\n",
        "    print('La solicitud no fue exitosa. Código de estado HTTP:', response.status_code)"
      ]
    },
    {
      "cell_type": "code",
      "execution_count": null,
      "metadata": {
        "id": "-1_ahlBzC3v_",
        "outputId": "f7011077-34f6-4d0f-ad08-855c812c4fde"
      },
      "outputs": [
        {
          "name": "stdout",
          "output_type": "stream",
          "text": [
            "29061568\n"
          ]
        }
      ],
      "source": [
        "#Vemos datos de la API\n",
        "print(len(response.text))\n",
        "texto=response.text"
      ]
    },
    {
      "cell_type": "code",
      "execution_count": null,
      "metadata": {
        "id": "p3loiP_cC3wA",
        "outputId": "698c10ad-e68c-4736-e1f1-bca189b1e857"
      },
      "outputs": [
        {
          "data": {
            "text/html": [
              "<div>\n",
              "<style scoped>\n",
              "    .dataframe tbody tr th:only-of-type {\n",
              "        vertical-align: middle;\n",
              "    }\n",
              "\n",
              "    .dataframe tbody tr th {\n",
              "        vertical-align: top;\n",
              "    }\n",
              "\n",
              "    .dataframe thead th {\n",
              "        text-align: right;\n",
              "    }\n",
              "</style>\n",
              "<table border=\"1\" class=\"dataframe\">\n",
              "  <thead>\n",
              "    <tr style=\"text-align: right;\">\n",
              "      <th></th>\n",
              "      <th>date</th>\n",
              "      <th>state</th>\n",
              "      <th>positive</th>\n",
              "      <th>probableCases</th>\n",
              "      <th>negative</th>\n",
              "      <th>pending</th>\n",
              "      <th>totalTestResultsSource</th>\n",
              "      <th>totalTestResults</th>\n",
              "      <th>hospitalizedCurrently</th>\n",
              "      <th>hospitalizedCumulative</th>\n",
              "      <th>...</th>\n",
              "      <th>dataQualityGrade</th>\n",
              "      <th>deathIncrease</th>\n",
              "      <th>hospitalizedIncrease</th>\n",
              "      <th>hash</th>\n",
              "      <th>commercialScore</th>\n",
              "      <th>negativeRegularScore</th>\n",
              "      <th>negativeScore</th>\n",
              "      <th>positiveScore</th>\n",
              "      <th>score</th>\n",
              "      <th>grade</th>\n",
              "    </tr>\n",
              "  </thead>\n",
              "  <tbody>\n",
              "    <tr>\n",
              "      <th>0</th>\n",
              "      <td>20210307</td>\n",
              "      <td>AK</td>\n",
              "      <td>56886.0</td>\n",
              "      <td>NaN</td>\n",
              "      <td>NaN</td>\n",
              "      <td>NaN</td>\n",
              "      <td>totalTestsViral</td>\n",
              "      <td>1731628.0</td>\n",
              "      <td>33.0</td>\n",
              "      <td>1293.0</td>\n",
              "      <td>...</td>\n",
              "      <td>None</td>\n",
              "      <td>0</td>\n",
              "      <td>0</td>\n",
              "      <td>dc4bccd4bb885349d7e94d6fed058e285d4be164</td>\n",
              "      <td>0</td>\n",
              "      <td>0</td>\n",
              "      <td>0</td>\n",
              "      <td>0</td>\n",
              "      <td>0</td>\n",
              "      <td></td>\n",
              "    </tr>\n",
              "    <tr>\n",
              "      <th>1</th>\n",
              "      <td>20210307</td>\n",
              "      <td>AL</td>\n",
              "      <td>499819.0</td>\n",
              "      <td>107742.0</td>\n",
              "      <td>1931711.0</td>\n",
              "      <td>NaN</td>\n",
              "      <td>totalTestsPeopleViral</td>\n",
              "      <td>2323788.0</td>\n",
              "      <td>494.0</td>\n",
              "      <td>45976.0</td>\n",
              "      <td>...</td>\n",
              "      <td>None</td>\n",
              "      <td>-1</td>\n",
              "      <td>0</td>\n",
              "      <td>997207b430824ea40b8eb8506c19a93e07bc972e</td>\n",
              "      <td>0</td>\n",
              "      <td>0</td>\n",
              "      <td>0</td>\n",
              "      <td>0</td>\n",
              "      <td>0</td>\n",
              "      <td></td>\n",
              "    </tr>\n",
              "    <tr>\n",
              "      <th>2</th>\n",
              "      <td>20210307</td>\n",
              "      <td>AR</td>\n",
              "      <td>324818.0</td>\n",
              "      <td>69092.0</td>\n",
              "      <td>2480716.0</td>\n",
              "      <td>NaN</td>\n",
              "      <td>totalTestsViral</td>\n",
              "      <td>2736442.0</td>\n",
              "      <td>335.0</td>\n",
              "      <td>14926.0</td>\n",
              "      <td>...</td>\n",
              "      <td>None</td>\n",
              "      <td>22</td>\n",
              "      <td>11</td>\n",
              "      <td>50921aeefba3e30d31623aa495b47fb2ecc72fae</td>\n",
              "      <td>0</td>\n",
              "      <td>0</td>\n",
              "      <td>0</td>\n",
              "      <td>0</td>\n",
              "      <td>0</td>\n",
              "      <td></td>\n",
              "    </tr>\n",
              "    <tr>\n",
              "      <th>3</th>\n",
              "      <td>20210307</td>\n",
              "      <td>AS</td>\n",
              "      <td>0.0</td>\n",
              "      <td>NaN</td>\n",
              "      <td>2140.0</td>\n",
              "      <td>NaN</td>\n",
              "      <td>totalTestsViral</td>\n",
              "      <td>2140.0</td>\n",
              "      <td>NaN</td>\n",
              "      <td>NaN</td>\n",
              "      <td>...</td>\n",
              "      <td>None</td>\n",
              "      <td>0</td>\n",
              "      <td>0</td>\n",
              "      <td>f77912d0b80d579fbb6202fa1a90554fc4dc1443</td>\n",
              "      <td>0</td>\n",
              "      <td>0</td>\n",
              "      <td>0</td>\n",
              "      <td>0</td>\n",
              "      <td>0</td>\n",
              "      <td></td>\n",
              "    </tr>\n",
              "    <tr>\n",
              "      <th>4</th>\n",
              "      <td>20210307</td>\n",
              "      <td>AZ</td>\n",
              "      <td>826454.0</td>\n",
              "      <td>56519.0</td>\n",
              "      <td>3073010.0</td>\n",
              "      <td>NaN</td>\n",
              "      <td>totalTestsViral</td>\n",
              "      <td>7908105.0</td>\n",
              "      <td>963.0</td>\n",
              "      <td>57907.0</td>\n",
              "      <td>...</td>\n",
              "      <td>None</td>\n",
              "      <td>5</td>\n",
              "      <td>44</td>\n",
              "      <td>0437a7a96f4471666f775e63e86923eb5cbd8cdf</td>\n",
              "      <td>0</td>\n",
              "      <td>0</td>\n",
              "      <td>0</td>\n",
              "      <td>0</td>\n",
              "      <td>0</td>\n",
              "      <td></td>\n",
              "    </tr>\n",
              "    <tr>\n",
              "      <th>5</th>\n",
              "      <td>20210307</td>\n",
              "      <td>CA</td>\n",
              "      <td>3501394.0</td>\n",
              "      <td>NaN</td>\n",
              "      <td>NaN</td>\n",
              "      <td>NaN</td>\n",
              "      <td>totalTestsViral</td>\n",
              "      <td>49646014.0</td>\n",
              "      <td>4291.0</td>\n",
              "      <td>NaN</td>\n",
              "      <td>...</td>\n",
              "      <td>None</td>\n",
              "      <td>258</td>\n",
              "      <td>0</td>\n",
              "      <td>63c5c0fd2daef2fb65150e9db486de98ed3f7b72</td>\n",
              "      <td>0</td>\n",
              "      <td>0</td>\n",
              "      <td>0</td>\n",
              "      <td>0</td>\n",
              "      <td>0</td>\n",
              "      <td></td>\n",
              "    </tr>\n",
              "    <tr>\n",
              "      <th>6</th>\n",
              "      <td>20210307</td>\n",
              "      <td>CO</td>\n",
              "      <td>436602.0</td>\n",
              "      <td>24786.0</td>\n",
              "      <td>2199458.0</td>\n",
              "      <td>NaN</td>\n",
              "      <td>totalTestEncountersViral</td>\n",
              "      <td>6415123.0</td>\n",
              "      <td>326.0</td>\n",
              "      <td>23904.0</td>\n",
              "      <td>...</td>\n",
              "      <td>None</td>\n",
              "      <td>3</td>\n",
              "      <td>18</td>\n",
              "      <td>444746cda3a596f183f3fa3269c8cab68704e819</td>\n",
              "      <td>0</td>\n",
              "      <td>0</td>\n",
              "      <td>0</td>\n",
              "      <td>0</td>\n",
              "      <td>0</td>\n",
              "      <td></td>\n",
              "    </tr>\n",
              "    <tr>\n",
              "      <th>7</th>\n",
              "      <td>20210307</td>\n",
              "      <td>CT</td>\n",
              "      <td>285330.0</td>\n",
              "      <td>19621.0</td>\n",
              "      <td>NaN</td>\n",
              "      <td>NaN</td>\n",
              "      <td>totalTestsViral</td>\n",
              "      <td>6520366.0</td>\n",
              "      <td>428.0</td>\n",
              "      <td>NaN</td>\n",
              "      <td>...</td>\n",
              "      <td>None</td>\n",
              "      <td>0</td>\n",
              "      <td>0</td>\n",
              "      <td>38f39494134d22cd0d06e4ce63aa4a4ac10aa930</td>\n",
              "      <td>0</td>\n",
              "      <td>0</td>\n",
              "      <td>0</td>\n",
              "      <td>0</td>\n",
              "      <td>0</td>\n",
              "      <td></td>\n",
              "    </tr>\n",
              "  </tbody>\n",
              "</table>\n",
              "<p>8 rows × 56 columns</p>\n",
              "</div>"
            ],
            "text/plain": [
              "       date state   positive  probableCases   negative  pending  \\\n",
              "0  20210307    AK    56886.0            NaN        NaN      NaN   \n",
              "1  20210307    AL   499819.0       107742.0  1931711.0      NaN   \n",
              "2  20210307    AR   324818.0        69092.0  2480716.0      NaN   \n",
              "3  20210307    AS        0.0            NaN     2140.0      NaN   \n",
              "4  20210307    AZ   826454.0        56519.0  3073010.0      NaN   \n",
              "5  20210307    CA  3501394.0            NaN        NaN      NaN   \n",
              "6  20210307    CO   436602.0        24786.0  2199458.0      NaN   \n",
              "7  20210307    CT   285330.0        19621.0        NaN      NaN   \n",
              "\n",
              "     totalTestResultsSource  totalTestResults  hospitalizedCurrently  \\\n",
              "0           totalTestsViral         1731628.0                   33.0   \n",
              "1     totalTestsPeopleViral         2323788.0                  494.0   \n",
              "2           totalTestsViral         2736442.0                  335.0   \n",
              "3           totalTestsViral            2140.0                    NaN   \n",
              "4           totalTestsViral         7908105.0                  963.0   \n",
              "5           totalTestsViral        49646014.0                 4291.0   \n",
              "6  totalTestEncountersViral         6415123.0                  326.0   \n",
              "7           totalTestsViral         6520366.0                  428.0   \n",
              "\n",
              "   hospitalizedCumulative  ...  dataQualityGrade  deathIncrease  \\\n",
              "0                  1293.0  ...              None              0   \n",
              "1                 45976.0  ...              None             -1   \n",
              "2                 14926.0  ...              None             22   \n",
              "3                     NaN  ...              None              0   \n",
              "4                 57907.0  ...              None              5   \n",
              "5                     NaN  ...              None            258   \n",
              "6                 23904.0  ...              None              3   \n",
              "7                     NaN  ...              None              0   \n",
              "\n",
              "   hospitalizedIncrease                                      hash  \\\n",
              "0                     0  dc4bccd4bb885349d7e94d6fed058e285d4be164   \n",
              "1                     0  997207b430824ea40b8eb8506c19a93e07bc972e   \n",
              "2                    11  50921aeefba3e30d31623aa495b47fb2ecc72fae   \n",
              "3                     0  f77912d0b80d579fbb6202fa1a90554fc4dc1443   \n",
              "4                    44  0437a7a96f4471666f775e63e86923eb5cbd8cdf   \n",
              "5                     0  63c5c0fd2daef2fb65150e9db486de98ed3f7b72   \n",
              "6                    18  444746cda3a596f183f3fa3269c8cab68704e819   \n",
              "7                     0  38f39494134d22cd0d06e4ce63aa4a4ac10aa930   \n",
              "\n",
              "   commercialScore negativeRegularScore negativeScore positiveScore  score  \\\n",
              "0                0                    0             0             0      0   \n",
              "1                0                    0             0             0      0   \n",
              "2                0                    0             0             0      0   \n",
              "3                0                    0             0             0      0   \n",
              "4                0                    0             0             0      0   \n",
              "5                0                    0             0             0      0   \n",
              "6                0                    0             0             0      0   \n",
              "7                0                    0             0             0      0   \n",
              "\n",
              "   grade  \n",
              "0         \n",
              "1         \n",
              "2         \n",
              "3         \n",
              "4         \n",
              "5         \n",
              "6         \n",
              "7         \n",
              "\n",
              "[8 rows x 56 columns]"
            ]
          },
          "execution_count": 21,
          "metadata": {},
          "output_type": "execute_result"
        }
      ],
      "source": [
        "# Presentamos los datos en una tabla\n",
        "jsondata=json.loads(texto)\n",
        "df2=pd.DataFrame.from_dict(jsondata)\n",
        "df2.head(8)"
      ]
    },
    {
      "cell_type": "markdown",
      "metadata": {
        "id": "Yr6tiUt9C3wA"
      },
      "source": [
        "#### Lectura desde Github"
      ]
    },
    {
      "cell_type": "code",
      "execution_count": null,
      "metadata": {
        "id": "4tnRAsCAC3wA",
        "outputId": "a495d87d-6721-4282-a097-928609ce18db"
      },
      "outputs": [
        {
          "name": "stdout",
          "output_type": "stream",
          "text": [
            "       ID               Name  Age Nationality  Overall  Potential  \\\n",
            "0  158023           L. Messi   31   Argentina       94         94   \n",
            "1   20801  Cristiano Ronaldo   33    Portugal       94         94   \n",
            "2  190871          Neymar Jr   26      Brazil       92         93   \n",
            "3  193080             De Gea   27       Spain       91         93   \n",
            "4  192985       K. De Bruyne   27     Belgium       91         92   \n",
            "5  183277          E. Hazard   27     Belgium       91         91   \n",
            "6  177003          L. Modrić   32     Croatia       91         91   \n",
            "7  176580          L. Suárez   31     Uruguay       91         91   \n",
            "\n",
            "                  Club    Value   Wage Preferred Foot  ...  Composure  \\\n",
            "0         FC Barcelona  €110.5M  €565K           Left  ...       96.0   \n",
            "1             Juventus     €77M  €405K          Right  ...       95.0   \n",
            "2  Paris Saint-Germain  €118.5M  €290K          Right  ...       94.0   \n",
            "3    Manchester United     €72M  €260K          Right  ...       68.0   \n",
            "4      Manchester City    €102M  €355K          Right  ...       88.0   \n",
            "5              Chelsea     €93M  €340K          Right  ...       91.0   \n",
            "6          Real Madrid     €67M  €420K          Right  ...       84.0   \n",
            "7         FC Barcelona     €80M  €455K          Right  ...       85.0   \n",
            "\n",
            "   Marking  StandingTackle SlidingTackle GKDiving GKHandling  GKKicking  \\\n",
            "0     33.0            28.0          26.0      6.0       11.0       15.0   \n",
            "1     28.0            31.0          23.0      7.0       11.0       15.0   \n",
            "2     27.0            24.0          33.0      9.0        9.0       15.0   \n",
            "3     15.0            21.0          13.0     90.0       85.0       87.0   \n",
            "4     68.0            58.0          51.0     15.0       13.0        5.0   \n",
            "5     34.0            27.0          22.0     11.0       12.0        6.0   \n",
            "6     60.0            76.0          73.0     13.0        9.0        7.0   \n",
            "7     62.0            45.0          38.0     27.0       25.0       31.0   \n",
            "\n",
            "  GKPositioning GKReflexes Release Clause  \n",
            "0          14.0        8.0        €226.5M  \n",
            "1          14.0       11.0        €127.1M  \n",
            "2          15.0       11.0        €228.1M  \n",
            "3          88.0       94.0        €138.6M  \n",
            "4          10.0       13.0        €196.4M  \n",
            "5           8.0        8.0        €172.1M  \n",
            "6          14.0        9.0        €137.4M  \n",
            "7          33.0       37.0          €164M  \n",
            "\n",
            "[8 rows x 57 columns]\n"
          ]
        }
      ],
      "source": [
        "import pandas as pd\n",
        "\n",
        "# Define la URL del archivo CSV en GitHub\n",
        "csv_url = 'https://raw.githubusercontent.com/NicolasCaminos/Python/master/Data_Science_Tutorials/fifa_eda_stats.csv'\n",
        "\n",
        "try:\n",
        "    # Carga el archivo CSV en un DataFrame de pandas\n",
        "    df = pd.read_csv(csv_url)\n",
        "\n",
        "    # Ahora puedes trabajar con los datos en el DataFrame 'df'\n",
        "    print(df.head(8))  # Muestra las primeras filas del DataFrame\n",
        "\n",
        "except pd.errors.EmptyDataError:\n",
        "    print('El archivo CSV está vacío o no se pudo cargar.')\n",
        "\n",
        "except Exception as e:\n",
        "    print('Ocurrió un error al cargar el archivo CSV:', e)"
      ]
    },
    {
      "cell_type": "markdown",
      "metadata": {
        "id": "OEPqHWqZC3wB"
      },
      "source": [
        "#### Glosario"
      ]
    },
    {
      "cell_type": "markdown",
      "metadata": {
        "id": "6Qo7NHoCC3wB"
      },
      "source": [
        "- Pandas: librería fundamental que nos permite trabajar con archivos planos (.csv, .txt, xlsx) en Python\n",
        "- Series: estructuras 1D en Pandas que almacenan vectores con índice, nombre y valores\n",
        "- DataFrames: estructuras 2D (filas x columnas) que son la generalización de Series en Pandas\n",
        "- Lectura de datos en pandas: se pueden leer archivos planos con las funciones pd_read_csv o pd_read _excel pero también se pueden leer archivos en formatos tipo .JSON y .SQL.\n",
        "- Panel: estructuras 3D (filas x columnas x profundidad) que permiten almacenar varios Dataframes\n",
        "- Operaciones vectorizadas: toda operación matemática consistente que se puede ejecutar en vectores y matrices\n",
        "- Datos ausentes: Conocidos como NaN en Python representan valores sin registro que pueden llegar a ser problemáticos en los análisis.\n",
        "- Metódo pct_change: Implícito en pandas que permite calcular variaciones porcentuales de observaciones consecutivas para monitorear cambios\n",
        "- Indexación de datos en Pandas: métodos loc y iloc que permiten extraer filas con base en condiciones"
      ]
    }
  ],
  "metadata": {
    "colab": {
      "include_colab_link": true,
      "provenance": []
    },
    "kernelspec": {
      "display_name": "Python 3",
      "name": "python3"
    },
    "language_info": {
      "codemirror_mode": {
        "name": "ipython",
        "version": 3
      },
      "file_extension": ".py",
      "mimetype": "text/x-python",
      "name": "python",
      "nbconvert_exporter": "python",
      "pygments_lexer": "ipython3",
      "version": "3.11.5"
    }
  },
  "nbformat": 4,
  "nbformat_minor": 0
}

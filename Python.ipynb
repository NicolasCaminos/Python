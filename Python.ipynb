{
  "nbformat": 4,
  "nbformat_minor": 0,
  "metadata": {
    "colab": {
      "provenance": [],
      "authorship_tag": "ABX9TyO5PfCvW6QCeRUP90Y8Kz/4",
      "include_colab_link": true
    },
    "kernelspec": {
      "name": "python3",
      "display_name": "Python 3"
    },
    "language_info": {
      "name": "python"
    }
  },
  "cells": [
    {
      "cell_type": "markdown",
      "metadata": {
        "id": "view-in-github",
        "colab_type": "text"
      },
      "source": [
        "<a href=\"https://colab.research.google.com/github/NicolasCaminos/Python/blob/main/Python.ipynb\" target=\"_parent\"><img src=\"https://colab.research.google.com/assets/colab-badge.svg\" alt=\"Open In Colab\"/></a>"
      ]
    },
    {
      "cell_type": "markdown",
      "source": [
        "# Pyhton"
      ],
      "metadata": {
        "id": "Jj9APqZS_JHF"
      }
    },
    {
      "cell_type": "markdown",
      "source": [
        "## ¿Qué es python?"
      ],
      "metadata": {
        "id": "GWPE8oRW_NVa"
      }
    },
    {
      "cell_type": "markdown",
      "source": [
        "Python es un lenguaje de programación de alto nivel, interpretado y multipropósito. Aquí tienes una definición más detallada:\n",
        "\n",
        "**Lenguaje de programación**: Python es un conjunto de reglas y sintaxis que permite a los programadores dar instrucciones a una computadora. Estas instrucciones se escriben en forma de código fuente.\n",
        "\n",
        "**Alto nivel**: Python se considera un lenguaje de alto nivel porque utiliza una sintaxis más cercana al lenguaje humano que a la máquina. Esto significa que es más fácil de aprender y de leer que los lenguajes de bajo nivel, como el lenguaje ensamblador.\n",
        "\n",
        "**Interpretado**: En lugar de compilar el código en un archivo ejecutable antes de ejecutarlo, como se hace en lenguajes compilados como C++ o Java, Python se interpreta línea por línea en tiempo real. Esto facilita la escritura y la depuración de código, pero a veces puede hacer que Python sea más lento en comparación con lenguajes compilados.\n",
        "\n",
        "**Multipropósito**: Python es versátil y se utiliza en una amplia variedad de aplicaciones, desde desarrollo web y científico hasta automatización de tareas y desarrollo de videojuegos. Su amplia gama de bibliotecas y módulos hace que sea adecuado para una amplia variedad de proyectos.\n",
        "\n",
        "Python es conocido por su legibilidad y facilidad de uso, lo que lo convierte en un lenguaje popular para principiantes en la programación. Además, su comunidad activa y su abundante documentación hacen que sea una elección sólida tanto para principiantes como para desarrolladores experimentados."
      ],
      "metadata": {
        "id": "hEwkHNqy_ZcH"
      }
    },
    {
      "cell_type": "markdown",
      "source": [
        "### ¿Que Es un programa?"
      ],
      "metadata": {
        "id": "bZHffNudBbt3"
      }
    },
    {
      "cell_type": "markdown",
      "source": [
        "**Programa**: Conjunto de instrucciones que entiende una computadora para realizar una actividad.\n",
        "Todo programa tiene un objetivo bien definido: un procesador de texto es un programa que permite cargar, modificar e imprimir textos, un programa de ajedrez permite jugar al ajedrez contra el ordenador u otro contrincante humano.\n",
        "La actividad fundamental del programador es resolver problemas empleando el ordenador como herramienta fundamental.\n",
        "\n",
        "Para la resolución de un problema hay que plantear un algoritmo.\n",
        "\n",
        "**Algoritmo**: Son los pasos a seguir para resolver un problema.\n",
        "\n",
        "**Variable**: Es un depósito donde hay un valor. Consta de un nombre y pertenece a un tipo de dato."
      ],
      "metadata": {
        "id": "oq-4GDwMA4rv"
      }
    },
    {
      "cell_type": "markdown",
      "source": [
        "### Mi primer programa"
      ],
      "metadata": {
        "id": "ry2EG78r_7R9"
      }
    },
    {
      "cell_type": "markdown",
      "source": [
        "Se prodecerá a realizar un programa de consola, la misma deberá mostrarnos en consola un texto. En este caso el elegido para el mismo es \"Hola Mundo"
      ],
      "metadata": {
        "id": "E_TJHHJWAOD5"
      }
    },
    {
      "cell_type": "code",
      "source": [
        "A= \"Hola Mundo\"; # Creamos una variable y le asignamos un valor de texto\n",
        "\n",
        "print(A) # Hola Mundo\n",
        "\n",
        "type(A) # <class 'str'> Esto indica que el tipo de la variable es de clase string, es decir de texto."
      ],
      "metadata": {
        "colab": {
          "base_uri": "https://localhost:8080/"
        },
        "id": "qtBQ40eh_Urt",
        "outputId": "58a45145-7299-4541-dcc8-d9f029504da2"
      },
      "execution_count": 7,
      "outputs": [
        {
          "output_type": "stream",
          "name": "stdout",
          "text": [
            "Hola Mundo\n"
          ]
        },
        {
          "output_type": "execute_result",
          "data": {
            "text/plain": [
              "str"
            ]
          },
          "metadata": {},
          "execution_count": 7
        }
      ]
    },
    {
      "cell_type": "markdown",
      "source": [
        "###Tipos de datos"
      ],
      "metadata": {
        "id": "bF2gZ8eLE1FN"
      }
    },
    {
      "cell_type": "markdown",
      "source": [
        "\n",
        "Python admite varios tipos de datos que se utilizan para representar diferentes tipos de valores. Aquí tienes una lista de los tipos de datos más comunes en Python:\n",
        "\n",
        "**Enteros (int)**: Representan números enteros sin decimales. Ejemplos: -5, 0, 42.\n",
        "\n",
        "**Flotantes (float)**: Representan números con decimales. Ejemplos: -3.14, 0.0, 3.14159.\n",
        "\n",
        "**Cadenas de texto (str)**: Representan secuencias de caracteres. Ejemplos: \"Hola, mundo\", 'Python', \"123\".\n",
        "\n",
        "**Booleanos (bool):** Representan valores verdaderos o falsos. Solo pueden tener dos valores posibles: True o False.\n",
        "\n",
        "**Listas**: Son secuencias ordenadas de elementos que pueden ser de cualquier tipo. Se definen con corchetes []. Ejemplo: [1, 2, 3, 4].\n",
        "\n",
        "**Tuplas:** Son secuencias ordenadas de elementos similares a las listas, pero son inmutables, lo que significa que no se pueden modificar una vez creadas. Se definen con paréntesis (). Ejemplo: (1, 2, 3).\n",
        "\n",
        "**Conjuntos (set):** Son colecciones desordenadas de elementos únicos. Se definen con llaves {} o con el constructor set(). Ejemplo: {1, 2, 3}.\n",
        "\n",
        "**Diccionarios:** Son colecciones de pares clave-valor. Cada elemento tiene una clave única y un valor asociado. Se definen con llaves {} y pares clave-valor separados por dos puntos :. Ejemplo: {'nombre': 'Juan', 'edad': 30}.\n",
        "\n",
        "**None:** Representa la ausencia de un valor o un valor nulo. Especialmente útil para inicializar variables sin asignarles un valor específico.\n",
        "\n",
        "Estos son los tipos de datos más básicos en Python, pero puedes crear tipos de datos personalizados utilizando clases. Además, Python es un lenguaje de tipado dinámico, lo que significa que no es necesario declarar explícitamente el tipo de una variable; Python lo infiere automáticamente en tiempo de ejecución.\n",
        "\n",
        "Puedes utilizar las funciones type() para conocer el tipo de una variable y isinstance() para verificar si una variable es de un tipo específico. Por ejemplo:"
      ],
      "metadata": {
        "id": "wPOJu2bFFEFA"
      }
    },
    {
      "cell_type": "code",
      "source": [
        "#Booleanos\n",
        "a= True #verdadero\n",
        "b= False #falso\n",
        "print (a,b) # True False\n",
        "print(type(a)) # <class 'bool'>\n",
        "\n",
        "#None\n",
        "c= None\n",
        "print(c)#None\n",
        "print(type(c))#<class 'NoneType'>\n",
        "\n",
        "#Float\n",
        "v=2.3\n",
        "print (v) # 2.3\n",
        "print(type(v)) # <class 'float'>\n",
        "\n",
        "#Long\n",
        "#En python 2X sería un número Long(Largo) y se representaba así: 1L, eso cambio desde la versión 3x en adelante.ya los toma como enteros ahora\n",
        "w = 123_456_789_012_345_678_901_234_567_890_123_456_7890\n",
        "#_ se usan para hacer mas legible a los números largos.\n",
        "print(type(w))\n",
        "\n",
        "#entero\n",
        "x = 42 #42\n",
        "print(type(x))  # <class 'int'>\n",
        "\n",
        "#Texto/ String\n",
        "y = \"Hola\" #\n",
        "print(type(y))  # <class 'str'>\n",
        "\n",
        "#Listas\n",
        "z = [1, 2, 3] #[1, 2, 3]\n",
        "print(type(z)) #<class 'list'>\n",
        "print(isinstance(z, list))  # True\n"
      ],
      "metadata": {
        "colab": {
          "base_uri": "https://localhost:8080/"
        },
        "id": "zCdioeXTFDVy",
        "outputId": "4ad28634-1017-4030-8ef1-2c7353f4f139"
      },
      "execution_count": 53,
      "outputs": [
        {
          "output_type": "stream",
          "name": "stdout",
          "text": [
            "True False\n",
            "<class 'bool'>\n",
            "None\n",
            "<class 'NoneType'>\n",
            "2.3\n",
            "<class 'float'>\n",
            "<class 'int'>\n",
            "<class 'int'>\n",
            "<class 'str'>\n",
            "<class 'list'>\n",
            "True\n"
          ]
        }
      ]
    },
    {
      "cell_type": "markdown",
      "source": [
        "### ¿Qué es print?"
      ],
      "metadata": {
        "id": "wJTd4zptGBU4"
      }
    },
    {
      "cell_type": "markdown",
      "source": [
        "Es una  función nativa de Phyton, la significa IMPRIMIR.\n"
      ],
      "metadata": {
        "id": "QmlHFC2XGIJo"
      }
    },
    {
      "cell_type": "code",
      "source": [
        "print(r'C:\\nombre\\directorio') #C:\\nombre\\directorio"
      ],
      "metadata": {
        "colab": {
          "base_uri": "https://localhost:8080/"
        },
        "id": "0dKRMca5GuaY",
        "outputId": "8c0bcbc8-ee2f-41cd-d3b6-909b1b701aec"
      },
      "execution_count": 9,
      "outputs": [
        {
          "output_type": "stream",
          "name": "stdout",
          "text": [
            "C:\\nombre\\directorio\n"
          ]
        }
      ]
    },
    {
      "cell_type": "code",
      "source": [
        "#Si vemos mantiene los saltos de línea al imprimir\n",
        "print(\"\"\"Cadena 1\n",
        "Cadena 2\n",
        "Candena 3\n",
        "\"\"\")\n",
        "#Cadena 1\n",
        "#Cadena 2\n",
        "#Candena 3\n"
      ],
      "metadata": {
        "colab": {
          "base_uri": "https://localhost:8080/"
        },
        "id": "durzmBpDG7HE",
        "outputId": "5eafa3e4-9573-4dbc-8c43-95f07f53069e"
      },
      "execution_count": 15,
      "outputs": [
        {
          "output_type": "stream",
          "name": "stdout",
          "text": [
            "Cadena 1\n",
            "Cadena 2\n",
            "Candena 3\n",
            "\n"
          ]
        }
      ]
    },
    {
      "cell_type": "markdown",
      "source": [
        "### Secuecias de escapes"
      ],
      "metadata": {
        "id": "rKMNJwJwIuRz"
      }
    },
    {
      "cell_type": "markdown",
      "source": [
        "Las secuencias de escape son combinaciones de caracteres que se utilizan en cadenas de texto y otros contextos para representar caracteres especiales o para controlar el formato y el comportamiento del texto. Estas secuencias de escape generalmente comienzan con el carácter de escape, que en muchos lenguajes de programación es la barra invertida \\. Algunas secuencias de escape comunes incluyen:\n",
        "\n",
        "**\\n**: Representa un carácter de nueva línea, que provoca un salto de línea en el texto.\n",
        "\n",
        "**\\t**: Representa un carácter de tabulación, que inserta un espacio en blanco equivalente al ancho de una tabulación.\n",
        "\n",
        "**\\r**: Representa un carácter de retorno de carro, que hace que el cursor de texto se mueva al principio de la línea actual.\n",
        "\n",
        "**\\\\**: Representa un carácter de barra invertida literal, ya que la barra invertida se utiliza como carácter de escape en sí misma.\n",
        "\n",
        "**\\'**: Representa una comilla simple (apóstrofe) dentro de una cadena delimitada por comillas simples.\n",
        "\n",
        "**\\\"**: Representa una comilla doble dentro de una cadena delimitada por comillas dobles.\n",
        "\n",
        "**\\b**: Representa un carácter de retroceso (backspace), que borra el carácter a la izquierda del cursor.\n",
        "\n",
        "**\\f**: Representa un carácter de avance de página, que se utiliza en algunos contextos para avanzar a la siguiente página o área de texto.\n",
        "\n",
        "**\\v**: Representa un carácter de tabulación vertical, que se utiliza en algunos contextos para avanzar verticalmente."
      ],
      "metadata": {
        "id": "MZS7ZLmxJBYl"
      }
    },
    {
      "cell_type": "code",
      "source": [
        "print('Hola\\nMundo') #Otra forma de realizar saltos de líneas"
      ],
      "metadata": {
        "colab": {
          "base_uri": "https://localhost:8080/"
        },
        "id": "RKHrSgLXIJ_c",
        "outputId": "dac7049f-82d5-41ff-d173-01cc7f316c67"
      },
      "execution_count": 19,
      "outputs": [
        {
          "output_type": "stream",
          "name": "stdout",
          "text": [
            "Hola\n",
            "Mundo\n"
          ]
        }
      ]
    },
    {
      "cell_type": "code",
      "source": [
        "print('Hola\\tMundo') #Una manera de hacer tabulación"
      ],
      "metadata": {
        "colab": {
          "base_uri": "https://localhost:8080/"
        },
        "id": "4Dyvwu9jIfiU",
        "outputId": "d3b1a31f-78f2-430f-972d-d8d6b06f55d9"
      },
      "execution_count": 20,
      "outputs": [
        {
          "output_type": "stream",
          "name": "stdout",
          "text": [
            "Hola\tMundo\n"
          ]
        }
      ]
    },
    {
      "cell_type": "code",
      "source": [
        "print(\"Texto antes del retorno de carro.\\rTexto después del retorno de carro.\")"
      ],
      "metadata": {
        "colab": {
          "base_uri": "https://localhost:8080/"
        },
        "id": "pCaeTXygJRdq",
        "outputId": "853698b1-f403-462e-8e95-3e40403b145c"
      },
      "execution_count": 21,
      "outputs": [
        {
          "output_type": "stream",
          "name": "stdout",
          "text": [
            "Texto antes del retorno de carro.\rTexto después del retorno de carro.\n"
          ]
        }
      ]
    },
    {
      "cell_type": "code",
      "source": [
        "print(\"Esto es una barra invertida: \\\\\")"
      ],
      "metadata": {
        "colab": {
          "base_uri": "https://localhost:8080/"
        },
        "id": "QYoPsADSJTQu",
        "outputId": "c1753161-c550-4354-8417-eaef5f9c17c2"
      },
      "execution_count": 22,
      "outputs": [
        {
          "output_type": "stream",
          "name": "stdout",
          "text": [
            "Esto es una barra invertida: \\\n"
          ]
        }
      ]
    },
    {
      "cell_type": "code",
      "source": [
        "print('Esto es una comilla simple: \\'')"
      ],
      "metadata": {
        "colab": {
          "base_uri": "https://localhost:8080/"
        },
        "id": "BPdyzcsqJVuz",
        "outputId": "99fb8e6d-e0d9-4cbb-9dac-0d5b6f6beb75"
      },
      "execution_count": 23,
      "outputs": [
        {
          "output_type": "stream",
          "name": "stdout",
          "text": [
            "Esto es una comilla simple: '\n"
          ]
        }
      ]
    },
    {
      "cell_type": "code",
      "source": [
        "print(\"Nombre\\tEdad\\tCiudad\")\n",
        "print(\"Juan\\t30\\tMadrid\")\n",
        "print(\"María\\t25\\tBarcelona\")\n",
        "\n",
        "#Comentario del resultado de consola\n",
        "\"\"\"\n",
        "Nombre edad Cidudad\n",
        "Juan   30   Madrid\n",
        "Maria  25   Barcelona\n",
        "\"\"\""
      ],
      "metadata": {
        "colab": {
          "base_uri": "https://localhost:8080/"
        },
        "id": "W28UNuXmPdHo",
        "outputId": "79b21ea2-c19d-451b-c508-465551296e3c"
      },
      "execution_count": 42,
      "outputs": [
        {
          "output_type": "stream",
          "name": "stdout",
          "text": [
            "Nombre\tEdad\tCiudad\n",
            "Juan\t30\tMadrid\n",
            "María\t25\tBarcelona\n"
          ]
        }
      ]
    },
    {
      "cell_type": "code",
      "source": [
        "print(\"Texto con retroceso: \\b\")"
      ],
      "metadata": {
        "colab": {
          "base_uri": "https://localhost:8080/"
        },
        "id": "CY392xUZJXrn",
        "outputId": "0283ebb1-49d4-451f-cf45-d8918f46907e"
      },
      "execution_count": 29,
      "outputs": [
        {
          "output_type": "stream",
          "name": "stdout",
          "text": [
            "Texto con retroceso: \b\n"
          ]
        }
      ]
    },
    {
      "cell_type": "code",
      "source": [
        "Nombre= input('Ingrese nombre: ')\n",
        "Edad= int(input('Ingrese Edad: ')) #Transformo el valor Edad a un valor entero(Numérico sin decimal), ya que sino no podre usarlo en el condicional\n",
        "\n",
        "#Condicional\n",
        "if(Edad>=18): #Si Edad es mayor o igual a 18\n",
        "# Creo una f-string para poder usar los datos de mis variables.\n",
        "#Son una forma conveniente de formatear cadenas de texto mediante la interpolación de valores de variables en ellas.\n",
        "  print( f'{Nombre} eres mayor a 18 años, indicaste que tenes: {Edad} años') #imprimir: {Nombre} eres mayor a 18 años, indicaste que tenes: {Edad}\n",
        "else: #sino cumplis la condición\n",
        "   print( f'{Nombre} eres menor') #imprimir: {Nombre} eres menor"
      ],
      "metadata": {
        "colab": {
          "base_uri": "https://localhost:8080/"
        },
        "id": "uKY9JfZ_KfPM",
        "outputId": "ac467c98-87e4-473c-f043-a110212160da"
      },
      "execution_count": 39,
      "outputs": [
        {
          "output_type": "stream",
          "name": "stdout",
          "text": [
            "Ingrese nombre: Rozana\n",
            "Ingrese Edad: 43\n",
            "Rozana eres mayor a 18 años, indicaste que tenes: 43\n"
          ]
        }
      ]
    },
    {
      "cell_type": "markdown",
      "source": [
        "### Comentarios"
      ],
      "metadata": {
        "id": "5PyDi-KrNpOq"
      }
    },
    {
      "cell_type": "markdown",
      "source": [
        "En Python, puedes agregar comentarios a tu código **para hacerlo más legible y para proporcionar explicaciones sobre lo que hace el código**. Los comentarios son líneas de texto que Python ignora al ejecutar el programa. Aquí tienes cómo crear comentarios en Python:\n",
        "\n",
        "**Comentarios de una línea:** Utiliza el símbolo # para iniciar un comentario de una sola línea. Todo lo que siga a # en esa línea se considera un comentario.\n",
        "\n",
        "Los comentarios son una práctica útil para explicar la lógica de tu código, proporcionar documentación y hacer que el código sea más comprensible para ti y para otros programadores que puedan leerlo. Es importante utilizar comentarios de manera efectiva para que el código sea más mantenible y colaborativo.\n",
        "\n",
        "\n",
        "**UN CóDIGO LEGIBLE NO NECESITA MUCHO COMENTARIOS PARA EXPLICARLO**"
      ],
      "metadata": {
        "id": "if3e7O2uNrNl"
      }
    },
    {
      "cell_type": "code",
      "source": [
        "# Esto es un comentario de una línea\n",
        "\n",
        "'''\n",
        "Este es un comentario\n",
        "de varias líneas.\n",
        "'''\n",
        "\n",
        "\"\"\"\n",
        "Este también es un comentario\n",
        "de varias líneas.\n",
        "\"\"\"\n",
        "\n",
        "def mi_funcion():\n",
        "    \"\"\"\n",
        "    Esta es una docstring que describe la función.\n",
        "    \"\"\"\n",
        "    pass"
      ],
      "metadata": {
        "id": "arG0Her3N79u"
      },
      "execution_count": 41,
      "outputs": []
    }
  ]
}
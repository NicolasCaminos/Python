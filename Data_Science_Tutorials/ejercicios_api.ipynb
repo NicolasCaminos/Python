{
 "cells": [
  {
   "cell_type": "markdown",
   "metadata": {},
   "source": [
    "<a href=\"https://colab.research.google.com/github/NicolasCaminos/Python/blob/v0.1/Data_Science_Tutorials/ejercicios_api.ipynb\" target=\"_parent\"><img src=\"https://colab.research.google.com/assets/colab-badge.svg\" alt=\"Open In Colab\"/></a>"
   ]
  },
  {
   "cell_type": "markdown",
   "metadata": {},
   "source": [
    "## Ejercicio 1: Consultar una API y Analizar Datos con Pandas"
   ]
  },
  {
   "cell_type": "markdown",
   "metadata": {},
   "source": [
    "\n",
    "Utiliza la API de JSONPlaceholder (https://jsonplaceholder.typicode.com/) para obtener datos de usuarios (/users) y publicaciones (/posts).\n",
    "\n",
    "Almacena los datos obtenidos en estructuras de datos de Pandas (por ejemplo, DataFrames).\n",
    "\n",
    "Combina la información de usuarios y publicaciones en un solo DataFrame utilizando la clave externa (userId).\n",
    "\n",
    "Realiza algunas operaciones básicas de exploración y análisis de datos con Pandas, como contar el número de publicaciones por usuario, encontrar el usuario con más publicaciones, etc.\n"
   ]
  },
  {
   "cell_type": "code",
   "execution_count": null,
   "metadata": {},
   "outputs": [],
   "source": []
  },
  {
   "cell_type": "markdown",
   "metadata": {},
   "source": [
    "## Ejercicio 2: Consumir una API de Datos Financieros"
   ]
  },
  {
   "cell_type": "markdown",
   "metadata": {},
   "source": [
    "\n",
    "Utiliza la API de Alpha Vantage (https://www.alphavantage.co/) para obtener datos históricos de precios de una acción específica.\n",
    "\n",
    "Almacena los datos en un DataFrame de Pandas.\n",
    "\n",
    "Calcula la media móvil de los precios de cierre para generar una señal de compra/venta.\n",
    "\n",
    "Visualiza los precios de cierre y la media móvil en un gráfico.\n"
   ]
  },
  {
   "cell_type": "code",
   "execution_count": null,
   "metadata": {},
   "outputs": [],
   "source": []
  },
  {
   "cell_type": "markdown",
   "metadata": {},
   "source": [
    "## Ejercicio 3: API de Clima"
   ]
  },
  {
   "cell_type": "markdown",
   "metadata": {},
   "source": [
    "\n",
    "Utiliza la API de OpenWeatherMap (https://openweathermap.org/api) para obtener datos climáticos.\n",
    "\n",
    "Solicita datos climáticos para una ciudad específica.\n",
    "\n",
    "Almacena la información relevante en un DataFrame de Pandas.\n",
    "\n",
    "Realiza un análisis exploratorio simple, como calcular la temperatura promedio o visualizar la evolución de la temperatura a lo largo del tiempo.\n"
   ]
  },
  {
   "cell_type": "code",
   "execution_count": null,
   "metadata": {},
   "outputs": [],
   "source": []
  },
  {
   "cell_type": "markdown",
   "metadata": {},
   "source": [
    "## Ejercicio 4: API de Películas y Análisis con Pandas"
   ]
  },
  {
   "cell_type": "markdown",
   "metadata": {},
   "source": [
    "Utiliza la API de The Movie Database (TMDb) (https://www.themoviedb.org/documentation/api) para obtener información sobre películas.\n",
    "\n",
    "Consulta datos sobre películas populares o de un género específico.\n",
    "\n",
    "Almacena los datos en un DataFrame de Pandas.\n",
    "\n",
    "Realiza un análisis exploratorio, como encontrar las películas con la mayor puntuación, la duración promedio, etc."
   ]
  },
  {
   "cell_type": "code",
   "execution_count": null,
   "metadata": {},
   "outputs": [],
   "source": []
  }
 ],
 "metadata": {
  "language_info": {
   "name": "python"
  }
 },
 "nbformat": 4,
 "nbformat_minor": 2
}

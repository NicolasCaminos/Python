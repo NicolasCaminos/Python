{
  "cells": [
    {
      "cell_type": "markdown",
      "metadata": {
        "colab_type": "text",
        "id": "view-in-github"
      },
      "source": [
        "<a href=\"https://colab.research.google.com/github/NicolasCaminos/Python/blob/main/Python.ipynb\" target=\"_parent\"><img src=\"https://colab.research.google.com/assets/colab-badge.svg\" alt=\"Open In Colab\"/></a>"
      ]
    },
    {
      "cell_type": "markdown",
      "metadata": {
        "id": "Jj9APqZS_JHF"
      },
      "source": [
        "# Pyhton"
      ]
    },
    {
      "cell_type": "markdown",
      "metadata": {
        "id": "GWPE8oRW_NVa"
      },
      "source": [
        "## ¿Qué es python?"
      ]
    },
    {
      "cell_type": "markdown",
      "metadata": {
        "id": "hEwkHNqy_ZcH"
      },
      "source": [
        "Python es un lenguaje de programación de alto nivel, interpretado y multipropósito. Aquí tienes una definición más detallada:\n",
        "\n",
        "**Lenguaje de programación**: Python es un conjunto de reglas y sintaxis que permite a los programadores dar instrucciones a una computadora. Estas instrucciones se escriben en forma de código fuente.\n",
        "\n",
        "**Alto nivel**: Python se considera un lenguaje de alto nivel porque utiliza una sintaxis más cercana al lenguaje humano que a la máquina. Esto significa que es más fácil de aprender y de leer que los lenguajes de bajo nivel, como el lenguaje ensamblador.\n",
        "\n",
        "**Interpretado**: En lugar de compilar el código en un archivo ejecutable antes de ejecutarlo, como se hace en lenguajes compilados como C++ o Java, Python se interpreta línea por línea en tiempo real. Esto facilita la escritura y la depuración de código, pero a veces puede hacer que Python sea más lento en comparación con lenguajes compilados.\n",
        "\n",
        "**Multipropósito**: Python es versátil y se utiliza en una amplia variedad de aplicaciones, desde desarrollo web y científico hasta automatización de tareas y desarrollo de videojuegos. Su amplia gama de bibliotecas y módulos hace que sea adecuado para una amplia variedad de proyectos.\n",
        "\n",
        "Python es conocido por su legibilidad y facilidad de uso, lo que lo convierte en un lenguaje popular para principiantes en la programación. Además, su comunidad activa y su abundante documentación hacen que sea una elección sólida tanto para principiantes como para desarrolladores experimentados."
      ]
    },
    {
      "cell_type": "markdown",
      "metadata": {
        "id": "bZHffNudBbt3"
      },
      "source": [
        "### ¿Que Es un programa?"
      ]
    },
    {
      "cell_type": "markdown",
      "metadata": {
        "id": "oq-4GDwMA4rv"
      },
      "source": [
        "**Programa**: Conjunto de instrucciones que entiende una computadora para realizar una actividad.\n",
        "Todo programa tiene un objetivo bien definido: un procesador de texto es un programa que permite cargar, modificar e imprimir textos, un programa de ajedrez permite jugar al ajedrez contra el ordenador u otro contrincante humano.\n",
        "La actividad fundamental del programador es resolver problemas empleando el ordenador como herramienta fundamental.\n",
        "\n",
        "Para la resolución de un problema hay que plantear un algoritmo.\n",
        "\n",
        "**Algoritmo**: Son los pasos a seguir para resolver un problema.\n",
        "\n",
        "**Variable**: Es un depósito donde hay un valor. Consta de un nombre y pertenece a un tipo de dato.\n",
        "\n",
        "En Python usamos \"Snake_case\" para nombrar las variables, es una de las convenciones de nomenclatura que se consideran una buena práctica para nombrar variables y otros identificadores en programación, especialmente en Python. Aquí te presento algunas buenas prácticas de nombrado de variables junto con ejemplos en \"snake_case\":\n",
        "\n",
        "\n",
        "1.   **Utiliza nombres descriptivos**: Elige nombres que reflejen claramente el propósito y el contenido de la variable. Los nombres descriptivos hacen que el código sea más legible y comprensible.\n",
        "2.   **Sigue las convenciones de nomenclatura del lenguaje**: En Python, la convención preferida es \"snake_case\". Las palabras se escriben en minúsculas y se separan por guiones bajos (_).\n",
        "3. **Usa nombres en inglés**: Siempre es una buena práctica utilizar nombres en inglés para variables y otros identificadores, ya que es un estándar ampliamente aceptado en la programación.\n",
        "4. **Sé consistente**: Mantén la consistencia en tus nombres de variables a lo largo de tu código. Utiliza un estilo y una convención de nomenclatura coherentes en todo tu proyecto.\n",
        "5. **Evita nombres demasiado cortos o genéricos**: Evita nombres de una sola letra o nombres genéricos que no proporcionen información sobre el contenido de la variable.\n",
        "6. **Usa nombres en inglés**: Siempre es una buena práctica utilizar nombres en inglés"
      ]
    },
    {
      "cell_type": "markdown",
      "metadata": {
        "id": "ry2EG78r_7R9"
      },
      "source": [
        "### Mi primer programa"
      ]
    },
    {
      "cell_type": "markdown",
      "metadata": {
        "id": "E_TJHHJWAOD5"
      },
      "source": [
        "Se prodecerá a realizar un programa de consola, la misma deberá mostrarnos en consola un texto. En este caso el elegido para el mismo es \"Hola Mundo"
      ]
    },
    {
      "cell_type": "code",
      "execution_count": 9,
      "metadata": {
        "colab": {
          "base_uri": "https://localhost:8080/"
        },
        "id": "qtBQ40eh_Urt",
        "outputId": "5ea618b0-4654-4637-d67f-7797f3ded17c"
      },
      "outputs": [
        {
          "name": "stdout",
          "output_type": "stream",
          "text": [
            "Hola Mundo\n"
          ]
        }
      ],
      "source": [
        "hello_world= \"Hola Mundo\"; # Creamos una variable y le asignamos un valor de texto\n",
        "\n",
        "print(hello_world); # Hola Mundo\n",
        "\n",
        "type(hello_world); # <class 'str'> Esto indica que el tipo de la variable es de clase string, es decir de texto."
      ]
    },
    {
      "cell_type": "markdown",
      "metadata": {
        "id": "bF2gZ8eLE1FN"
      },
      "source": [
        "### Tipos de datos"
      ]
    },
    {
      "cell_type": "markdown",
      "metadata": {
        "id": "wPOJu2bFFEFA"
      },
      "source": [
        "\n",
        "Python admite varios tipos de datos que se utilizan para representar diferentes tipos de valores. Aquí tienes una lista de los tipos de datos más comunes en Python:\n",
        "\n",
        "**Enteros (int)**: Representan números enteros sin decimales. Ejemplos: -5, 0, 42.\n",
        "\n",
        "**Flotantes (float)**: Representan números con decimales. Ejemplos: -3.14, 0.0, 3.14159.\n",
        "\n",
        "**Cadenas de texto (str)**: Representan secuencias de caracteres. Ejemplos: \"Hola, mundo\", 'Python', \"123\".\n",
        "\n",
        "**Booleanos (bool):** Representan valores verdaderos o falsos. Solo pueden tener dos valores posibles: True o False.\n",
        "\n",
        "**Listas**: Son secuencias ordenadas de elementos que pueden ser de cualquier tipo. Se definen con corchetes []. Ejemplo: [1, 2, 3, 4].\n",
        "\n",
        "**Tuplas:** Son secuencias ordenadas de elementos similares a las listas, pero son inmutables, lo que significa que no se pueden modificar una vez creadas. Se definen con paréntesis (). Ejemplo: (1, 2, 3).\n",
        "\n",
        "**Conjuntos (set):** Son colecciones desordenadas de elementos únicos. Se definen con llaves {} o con el constructor set(). Ejemplo: {1, 2, 3}.\n",
        "\n",
        "**Diccionarios:** Son colecciones de pares clave-valor. Cada elemento tiene una clave única y un valor asociado. Se definen con llaves {} y pares clave-valor separados por dos puntos :. Ejemplo: {'nombre': 'Juan', 'edad': 30}.\n",
        "\n",
        "**None:** Representa la ausencia de un valor o un valor nulo. Especialmente útil para inicializar variables sin asignarles un valor específico.\n",
        "\n",
        "Estos son los tipos de datos más básicos en Python, pero puedes crear tipos de datos personalizados utilizando clases. Además, Python es un lenguaje de tipado dinámico, lo que significa que no es necesario declarar explícitamente el tipo de una variable; Python lo infiere automáticamente en tiempo de ejecución.\n",
        "\n",
        "Puedes utilizar las funciones type() para conocer el tipo de una variable y isinstance() para verificar si una variable es de un tipo específico. Por ejemplo:"
      ]
    },
    {
      "cell_type": "code",
      "execution_count": 10,
      "metadata": {
        "colab": {
          "base_uri": "https://localhost:8080/"
        },
        "id": "HDUAi_3BZRnu",
        "outputId": "73dc93e6-e9c0-45fa-f649-fcf72df68534"
      },
      "outputs": [
        {
          "name": "stdout",
          "output_type": "stream",
          "text": [
            "True False\n",
            "<class 'bool'>\n",
            "None\n",
            "<class 'NoneType'>\n",
            "2.3\n",
            "<class 'float'>\n",
            "<class 'int'>\n",
            "<class 'int'>\n",
            "<class 'str'>\n",
            "<class 'list'>\n",
            "True\n"
          ]
        }
      ],
      "source": [
        "#Booleanos\n",
        "variable_true= True; #verdadero\n",
        "variable_false= False; #falso\n",
        "print(variable_true,variable_false); # True False\n",
        "print(type(variable_false)); # <class 'bool'>\n",
        "\n",
        "#None\n",
        "variable_none= None;\n",
        "print(variable_none); #None\n",
        "print(type(variable_none)); #<class 'NoneType'>\n",
        "\n",
        "#Float\n",
        "variable_float=2.3;\n",
        "print(variable_float); # 2.3\n",
        "print(type(variable_float)); # <class 'float'>\n",
        "\n",
        "#Long\n",
        "#En python 2X sería un número Long(Largo) y se representaba así: 1L, eso cambio desde la versión 3x en adelante.ya los toma como enteros ahora\n",
        "variable_long = 123_456_789_012_345_678_901_234_567_890_123_456_7890;\n",
        "#_ se usan para hacer mas legible a los números largos.\n",
        "print(type(variable_long));\n",
        "\n",
        "#entero\n",
        "variable_entero= 42; #42\n",
        "print(type(variable_entero));  # <class 'int'>\n",
        "\n",
        "#Texto/ String\n",
        "variable_string = \"Hola\"; # Hola\n",
        "print(type(variable_string));  # <class 'str'>\n",
        "\n",
        "#Listas\n",
        "variable_list = [1, 2, 3]; #[1, 2, 3]\n",
        "print(type(variable_list)); #<class 'list'>\n",
        "print(isinstance(variable_list, list));  # True\n"
      ]
    },
    {
      "cell_type": "markdown",
      "metadata": {},
      "source": [
        "Los operadores lógicos son símbolos o palabras clave que se utilizan en programación para combinar o comparar expresiones lógicas. Los operadores lógicos más comunes son:\n",
        "\n",
        "- AND (Y): Representado por el símbolo \"&&\" o la palabra clave \"y\". Devuelve verdadero si ambas expresiones son verdaderas.\n",
        "- OR (O): Representado por el símbolo \"||\" o la palabra clave \"o\". Devuelve verdadero si al menos una de las expresiones es verdadera.\n",
        "- NOT (NO): Representado por el símbolo \"!\" o la palabra clave \"no\". Invierte el valor de una expresión lógica, es decir, si la expresión es verdadera, devuelve falso, y si la expresión es falsa, devuelve verdadero.\n",
        "\n",
        "Estos operadores se utilizan para construir condiciones lógicas en programas y tomar decisiones basadas en el resultado de esas condiciones."
      ]
    },
    {
      "cell_type": "code",
      "execution_count": 11,
      "metadata": {},
      "outputs": [
        {
          "name": "stdout",
          "output_type": "stream",
          "text": [
            "Operador AND \n",
            "Ambas variables son mayores que cero\n",
            "Al menos una de las variables no cumple la condición \n",
            "\n",
            "Operador OR \n",
            "Al menos una de las variables es mayor que diez\n",
            "Al menos una de las variables cumple la condición\n",
            "\n",
            "\n",
            "Operador NOT \n",
            "La variable q es falsa\n"
          ]
        }
      ],
      "source": [
        "print(\"Operador AND \")\n",
        "first_number = 5\n",
        "second_number = 10\n",
        "third_number = 7\n",
        "\n",
        "if first_number > 0 and second_number > 0:\n",
        "    print(\"Ambas variables son mayores que cero\")\n",
        "\n",
        "if first_number < 10 and third_number < 5:\n",
        "    print(\"Ambas variables cumplen las condiciones\")\n",
        "else:\n",
        "    print(\"Al menos una de las variables no cumple la condición \\n\")\n",
        "    \n",
        "print(\"Operador OR \")\n",
        "variable_x = 15\n",
        "variable_y = 3\n",
        "variable_z = 8\n",
        "\n",
        "if variable_x > 10 or variable_y > 10:\n",
        "    print(\"Al menos una de las variables es mayor que diez\")\n",
        "\n",
        "if variable_y < 5 or variable_z < 5:\n",
        "    print(\"Al menos una de las variables cumple la condición\")\n",
        "else:\n",
        "    print(\"Ninguna de las variables cumple la condición \\n\\n\")\n",
        "    \n",
        "print(\"\\n\")\n",
        "print(\"Operador NOT \")\n",
        "variable_p = True\n",
        "variable_q = False\n",
        "\n",
        "if not variable_p:\n",
        "    print(\"La variable p es falsa\")\n",
        "\n",
        "if not variable_q:\n",
        "    print(\"La variable q es falsa\")"
      ]
    },
    {
      "cell_type": "markdown",
      "metadata": {
        "id": "wJTd4zptGBU4"
      },
      "source": [
        "### ¿Qué es print?"
      ]
    },
    {
      "cell_type": "markdown",
      "metadata": {
        "id": "QmlHFC2XGIJo"
      },
      "source": [
        "Es una  función nativa de Phyton, la significa IMPRIMIR.\n"
      ]
    },
    {
      "cell_type": "code",
      "execution_count": 12,
      "metadata": {
        "colab": {
          "base_uri": "https://localhost:8080/"
        },
        "id": "0dKRMca5GuaY",
        "outputId": "d594270e-36d6-4574-ba7e-5a820027a304"
      },
      "outputs": [
        {
          "name": "stdout",
          "output_type": "stream",
          "text": [
            "C:\\nombre\\nicolas\\directorio\n"
          ]
        }
      ],
      "source": [
        "print(r'C:\\nombre\\nicolas\\directorio'); #C:\\nombre\\directorio\\nicolas\\directorio"
      ]
    },
    {
      "cell_type": "code",
      "execution_count": 13,
      "metadata": {
        "colab": {
          "base_uri": "https://localhost:8080/"
        },
        "id": "durzmBpDG7HE",
        "outputId": "8835a45c-441a-4877-8c24-79eac586fd84"
      },
      "outputs": [
        {
          "name": "stdout",
          "output_type": "stream",
          "text": [
            "Cadena 1\n",
            "Cadena 2\n",
            "Candena 3\n",
            "\n"
          ]
        }
      ],
      "source": [
        "#Si vemos mantiene los saltos de línea al imprimir\n",
        "print(\"\"\"Cadena 1\n",
        "Cadena 2\n",
        "Candena 3\n",
        "\"\"\");\n",
        "#Cadena 1\n",
        "#Cadena 2\n",
        "#Candena 3\n"
      ]
    },
    {
      "cell_type": "markdown",
      "metadata": {
        "id": "rKMNJwJwIuRz"
      },
      "source": [
        "### Secuecias de escapes"
      ]
    },
    {
      "cell_type": "markdown",
      "metadata": {
        "id": "MZS7ZLmxJBYl"
      },
      "source": [
        "Las secuencias de escape son combinaciones de caracteres que se utilizan en cadenas de texto y otros contextos para representar caracteres especiales o para controlar el formato y el comportamiento del texto. Estas secuencias de escape generalmente comienzan con el carácter de escape, que en muchos lenguajes de programación es la barra invertida \\. Algunas secuencias de escape comunes incluyen:\n",
        "\n",
        "**\\n**: Representa un carácter de nueva línea, que provoca un salto de línea en el texto.\n",
        "\n",
        "**\\t**: Representa un carácter de tabulación, que inserta un espacio en blanco equivalente al ancho de una tabulación.\n",
        "\n",
        "**\\r**: Representa un carácter de retorno de carro, que hace que el cursor de texto se mueva al principio de la línea actual.\n",
        "\n",
        "**\\\\**: Representa un carácter de barra invertida literal, ya que la barra invertida se utiliza como carácter de escape en sí misma.\n",
        "\n",
        "**\\'**: Representa una comilla simple (apóstrofe) dentro de una cadena delimitada por comillas simples.\n",
        "\n",
        "**\\\"**: Representa una comilla doble dentro de una cadena delimitada por comillas dobles.\n",
        "\n",
        "**\\b**: Representa un carácter de retroceso (backspace), que borra el carácter a la izquierda del cursor.\n",
        "\n",
        "**\\f**: Representa un carácter de avance de página, que se utiliza en algunos contextos para avanzar a la siguiente página o área de texto.\n",
        "\n",
        "**\\v**: Representa un carácter de tabulación vertical, que se utiliza en algunos contextos para avanzar verticalmente."
      ]
    },
    {
      "cell_type": "code",
      "execution_count": 14,
      "metadata": {
        "colab": {
          "base_uri": "https://localhost:8080/"
        },
        "id": "RKHrSgLXIJ_c",
        "outputId": "1b2ae4d2-d232-4c6c-c65e-93d5ec24d4d3"
      },
      "outputs": [
        {
          "name": "stdout",
          "output_type": "stream",
          "text": [
            "Hola\n",
            "Mundo\n"
          ]
        }
      ],
      "source": [
        "print('Hola\\nMundo'); #Otra forma de realizar saltos de líneas"
      ]
    },
    {
      "cell_type": "code",
      "execution_count": 15,
      "metadata": {
        "colab": {
          "base_uri": "https://localhost:8080/"
        },
        "id": "4Dyvwu9jIfiU",
        "outputId": "f4529fbd-4a8e-44ab-82ad-afca1bc3b740"
      },
      "outputs": [
        {
          "name": "stdout",
          "output_type": "stream",
          "text": [
            "Hola\tMundo\n"
          ]
        }
      ],
      "source": [
        "print('Hola\\tMundo'); #Una manera de hacer tabulación"
      ]
    },
    {
      "cell_type": "code",
      "execution_count": 16,
      "metadata": {
        "colab": {
          "base_uri": "https://localhost:8080/"
        },
        "id": "pCaeTXygJRdq",
        "outputId": "1f5d3d8f-a744-4f30-f659-3636fddf8eff"
      },
      "outputs": [
        {
          "name": "stdout",
          "output_type": "stream",
          "text": [
            "Texto después del retorno de carro.\n"
          ]
        }
      ],
      "source": [
        "print(\"Texto antes del retorno de carro.\\rTexto después del retorno de carro.\");"
      ]
    },
    {
      "cell_type": "code",
      "execution_count": 17,
      "metadata": {
        "colab": {
          "base_uri": "https://localhost:8080/"
        },
        "id": "QYoPsADSJTQu",
        "outputId": "ab5f3594-9bd1-43c3-e390-46680f5dbc6d"
      },
      "outputs": [
        {
          "name": "stdout",
          "output_type": "stream",
          "text": [
            "Esto es una barra invertida: \\\n"
          ]
        }
      ],
      "source": [
        "print(\"Esto es una barra invertida: \\\\\");"
      ]
    },
    {
      "cell_type": "code",
      "execution_count": 18,
      "metadata": {
        "colab": {
          "base_uri": "https://localhost:8080/"
        },
        "id": "BPdyzcsqJVuz",
        "outputId": "04602c85-77d8-4a5c-e27e-93723d2e34ea"
      },
      "outputs": [
        {
          "name": "stdout",
          "output_type": "stream",
          "text": [
            "Esto es una comilla simple: '\n"
          ]
        }
      ],
      "source": [
        "print('Esto es una comilla simple: \\'');"
      ]
    },
    {
      "cell_type": "code",
      "execution_count": 19,
      "metadata": {
        "colab": {
          "base_uri": "https://localhost:8080/",
          "height": 90
        },
        "id": "W28UNuXmPdHo",
        "outputId": "8a58e60d-6481-4094-c735-582ae8b94295"
      },
      "outputs": [
        {
          "name": "stdout",
          "output_type": "stream",
          "text": [
            "Nombre\tEdad\tCiudad\n",
            "Juan\t30\tMadrid\n",
            "María\t25\tBarcelona\n"
          ]
        }
      ],
      "source": [
        "print(\"Nombre\\tEdad\\tCiudad\");\n",
        "print(\"Juan\\t30\\tMadrid\");\n",
        "print(\"María\\t25\\tBarcelona\");\n",
        "\n",
        "#Comentario del resultado de consola\n",
        "\n",
        "# Nombre edad Cidudad\n",
        "# Juan   30   Madrid\n",
        "# Maria  25   Barcelona\n"
      ]
    },
    {
      "cell_type": "code",
      "execution_count": 20,
      "metadata": {
        "colab": {
          "base_uri": "https://localhost:8080/"
        },
        "id": "CY392xUZJXrn",
        "outputId": "d79272bc-06fd-4a6f-a16e-0cb02bd0bcc9"
      },
      "outputs": [
        {
          "name": "stdout",
          "output_type": "stream",
          "text": [
            "Texto con retroceso:\n"
          ]
        }
      ],
      "source": [
        "print(\"Texto con retroceso: \\b\");"
      ]
    },
    {
      "cell_type": "code",
      "execution_count": 21,
      "metadata": {
        "colab": {
          "base_uri": "https://localhost:8080/"
        },
        "id": "uKY9JfZ_KfPM",
        "outputId": "60d9d73c-ffd9-4106-824c-63b4abc9fb03"
      },
      "outputs": [
        {
          "name": "stdout",
          "output_type": "stream",
          "text": [
            "Nicolas eres mayor a 18 años, indicaste que tenes: 35 años\n"
          ]
        }
      ],
      "source": [
        "name_user= input('Ingrese nombre: ');\n",
        "year= int(input('Ingrese Edad: ')); #Transformo el valor Edad a un valor entero(Numérico sin decimal), ya que sino no podre usarlo en el condicional\n",
        "\n",
        "#Condicional\n",
        "if(year>=18): #Si Edad es mayor o igual a 18\n",
        "    print( f'{name_user} eres mayor a 18 años, indicaste que tenes: {year} años'); #imprimir: {Nombre} eres mayor a 18 años, indicaste que tenes: {Edad}\n",
        "else: #sino cumplis la condición\n",
        "   print( f'{name_user} eres menor'); #imprimir: {Nombre} eres menor"
      ]
    },
    {
      "cell_type": "markdown",
      "metadata": {
        "id": "5PyDi-KrNpOq"
      },
      "source": [
        "### Comentarios"
      ]
    },
    {
      "cell_type": "markdown",
      "metadata": {
        "id": "if3e7O2uNrNl"
      },
      "source": [
        "En Python, puedes agregar comentarios a tu código **para hacerlo más legible y para proporcionar explicaciones sobre lo que hace el código**. Los comentarios son líneas de texto que Python ignora al ejecutar el programa. Aquí tienes cómo crear comentarios en Python:\n",
        "\n",
        "**Comentarios de una línea:** Utiliza el símbolo # para iniciar un comentario de una sola línea. Todo lo que siga a # en esa línea se considera un comentario.\n",
        "\n",
        "Los comentarios son una práctica útil para explicar la lógica de tu código, proporcionar documentación y hacer que el código sea más comprensible para ti y para otros programadores que puedan leerlo. Es importante utilizar comentarios de manera efectiva para que el código sea más mantenible y colaborativo.\n",
        "\n",
        "\n",
        "**UN CóDIGO LEGIBLE NO NECESITA MUCHO COMENTARIOS PARA EXPLICARLO**"
      ]
    },
    {
      "cell_type": "code",
      "execution_count": 22,
      "metadata": {
        "id": "arG0Her3N79u"
      },
      "outputs": [],
      "source": [
        "# Esto es un comentario de una línea\n",
        "\n",
        "'''\n",
        "Este es un comentario\n",
        "de varias líneas.\n",
        "'''\n",
        "\n",
        "\"\"\"\n",
        "Este también es un comentario\n",
        "de varias líneas.\n",
        "\"\"\"\n",
        "\n",
        "def mi_funcion():\n",
        "    \"\"\"\n",
        "    Esta es una docstring que describe la función.\n",
        "    \"\"\"\n",
        "    pass"
      ]
    },
    {
      "cell_type": "markdown",
      "metadata": {
        "id": "ZIRsdtkfhp-r"
      },
      "source": [
        "#### Actividad 1"
      ]
    },
    {
      "cell_type": "markdown",
      "metadata": {
        "id": "u-NBhNwtjh3j"
      },
      "source": [
        "Trabajas en Coderhouse y te piden crear un programa que calcule la nota final de estudiantes de Python. La nota final se calcula basándonos en tres notas previas de las cuales, cada una corresponde un porcentaje distinto de la nota final. Los porcentajes se detallan a continuación:\n",
        "\n",
        "1. nota_1 cuenta como el 20% de la nota final\n",
        "2. nota_2 cuenta como el 30% de la nota final\n",
        "3. nota_3 cuenta como el 50% de la nota final\n",
        "\n",
        "* Tener en cuenta los temas vistos: Números, print, variables, operaciones\n",
        "matemáticas, cadenas de texto.\n",
        "* Los datos deben guardarse en variables y deben ser dinámicos por medio de input"
      ]
    },
    {
      "cell_type": "markdown",
      "metadata": {
        "id": "Jjxul5vukvAQ"
      },
      "source": [
        "Respuesta:"
      ]
    },
    {
      "cell_type": "code",
      "execution_count": 23,
      "metadata": {
        "colab": {
          "base_uri": "https://localhost:8080/"
        },
        "id": "BMH-Nxpfh1hK",
        "outputId": "31273182-8404-4f7e-f103-6088355e4988"
      },
      "outputs": [
        {
          "name": "stdout",
          "output_type": "stream",
          "text": [
            "Hola, te doy la bienvenida al sistema de notas Infinity war.\n",
            "El calculo de tu primera nota es: 0.2\n",
            "El calculo de tu segunda nota es: 1.5\n",
            "El calculo de tu tercer nota es: 3.0\n",
            "\n",
            "\n",
            "El calculo final de la nota para el alumno Nicolas es: 4.7\n"
          ]
        }
      ],
      "source": [
        "'''En este caso evaluamos con el while que si no se ingresan datos\n",
        "y reiniciamos todo el pedido para que finalizce el programa. Caso contrario el bucle reinicia el programa.\n",
        "'''\n",
        "\n",
        "print(f'Hola, te doy la bienvenida al sistema de notas Infinity war.')\n",
        "while True:\n",
        "    try: #manejamos errores\n",
        "      name_student= input('Ingrese nombre: ');\n",
        "\n",
        "      if name_student != \"\":\n",
        "          note_one= int(input('Ingrese primera nota: '));\n",
        "          if  note_one<= 10 and note_one != 0 and note_one!='':\n",
        "             note_two= int(input('Ingrese segunda nota: '));\n",
        "          if  note_two<= 10 and note_two != 0 and note_two!='':\n",
        "             note_three= int(input('Ingrese tercer nota: '));\n",
        "             if  note_three<= 10 and note_three != 0 and note_three!='':\n",
        "                note_one= note_one *0.20\n",
        "                note_one = round(note_one, 2)\n",
        "                print(f'El calculo de tu primera nota es: {note_one}');\n",
        "                note_two = note_two *0.30;\n",
        "                note_two = round(note_two, 2)\n",
        "                print(f'El calculo de tu segunda nota es: {note_two}');\n",
        "                note_three= note_three *0.50;\n",
        "                note_three = round(note_three, 2)\n",
        "                print(f'El calculo de tu tercer nota es: {note_three}');\n",
        "                print('\\n')\n",
        "                final_note= note_one + note_two + note_three\n",
        "                final_note = round(final_note, 2)\n",
        "                print(f'El calculo final de la nota para el alumno {name_student} es: {final_note}');\n",
        "                break;\n",
        "             else:\n",
        "                 print(f\"\"\"Ingresaste {note_three} y no es valida, ten en cuenta que las notas van de 0 a 10.\n",
        "             El programa iniciara nuevamente, por favor ingresa los datos bien sino Thanos te reinicia el sistema nuevamente.\n",
        "             \"\"\");\n",
        "          else: \n",
        "              print(f\"\"\"Ingresaste {note_two} y no es valida , ten en cuenta que las notas van de 0 a 10.\n",
        "             El programa iniciara nuevamente, por favor ingresa los datos bien sino Thanos te reinicia el sistema nuevamente.\n",
        "             \"\"\");\n",
        "      else: \n",
        "          print(f\"\"\"Ingresaste {note_one} y no es valida, ten en cuenta que las notas van de 0 a 10.\n",
        "             El programa iniciara nuevamente, por favor ingresa los datos bien sino Thanos te reinicia el sistema nuevamente.\n",
        "             \"\"\");\n",
        "    except ValueError: \n",
        "        print(f'Ingresaste datos no validos');"
      ]
    },
    {
      "cell_type": "markdown",
      "metadata": {},
      "source": [
        "### Listas"
      ]
    },
    {
      "cell_type": "markdown",
      "metadata": {},
      "source": [
        "Una lista es una colección de elementos ordenados y mutables. A diferencia de las tuplas, las listas permiten modificar su contenido, lo que significa que puedes agregar, eliminar o cambiar elementos después de crear la lista. Las listas se utilizan comúnmente para almacenar colecciones de datos que pueden cambiar durante la ejecución del programa.\n",
        "\n",
        "Las características clave de las listas en Python son:\n",
        "\n",
        "Ordenadas: Los elementos en una lista se mantienen en un orden específico y se acceden por índice.\n",
        "\n",
        "Mutables: Puedes modificar los elementos individuales de una lista después de crearla.\n",
        "\n",
        "Pueden contener elementos de diferentes tipos: Al igual que las tuplas, las listas pueden contener elementos de diferentes tipos.\n",
        "\n",
        "Sintaxis: Las listas se crean utilizando corchetes [] o utilizando la función list()."
      ]
    },
    {
      "cell_type": "markdown",
      "metadata": {},
      "source": [
        "#### Ejercicios"
      ]
    },
    {
      "cell_type": "code",
      "execution_count": 24,
      "metadata": {},
      "outputs": [
        {
          "name": "stdout",
          "output_type": "stream",
          "text": [
            "['Argentina', 'Brasil', 'Colombia', 'Nicaragua', 'Bolivia']\n",
            "Argentina\n",
            "['Brasil', 'Colombia', 'Nicaragua', 'Bolivia']\n",
            "['Argentina', 'Brasil']\n",
            "['Argentina', 'Brasil']\n",
            "2\n",
            "['Argentina', 'Brasil', 'Bolivia', 'Bolivias']\n",
            "['Argentina', 'Alemania', 'Bolivia', 'Bolivias']\n",
            "['España', 'Argentina', 'Alemania', 'Bolivia', 'Bolivias']\n",
            "[0, 1, 2, 3, 4, 5, 1]\n",
            "[0, 1, 2, 3, 4, 5, 1, 7]\n",
            "[0, 1, 2, 3, 4, 5, 1, 7, 8, 9]\n"
          ]
        }
      ],
      "source": [
        "paises= ['Argentina', 'Brasil', 'Colombia', 'Nicaragua', 'Bolivia'] #creamos lista.\n",
        "print(paises) #Imprimimos toda la lista.\n",
        "print(paises[0]) # Imprimimos el valor 0 de la lista.\n",
        "print(paises[1:]) #Imprimimos paises desde la posición Argentina en adelante.\n",
        "print (paises[:-3]) # imprimos desde la posición 3 para atras.\n",
        "paises[2:]= [] #Borramos datos de la lísta desde la posición 2 en adelante con slicing.\n",
        "print(paises) #vemos la nueva lista formada.\n",
        "print(len(paises)) #vemos la cantidad de datos en la lista que sería 1.\n",
        "paises.append('Bolivia') # Agregamos el valor Bolivia.\n",
        "paises.append('Bolivias') # Agregamos el valor Bolivia.\n",
        "\n",
        "print(paises)\n",
        "paises[1]= 'Alemania' #Modificamos Brasil por Alemania.\n",
        "print(paises)\n",
        "paises.insert(0,'España')# Agregamos el valor España en la posición 0.\n",
        "print(paises)\n",
        "\n",
        "\n",
        "numeros = [0, 1, 2, 3, 4, 5 , 1]\n",
        "numeros.count(1) #Con el método Count podemos contar la cantidad de veces que se repite un valor en la lista.\n",
        "print(numeros)\n",
        "numeros.append(7) #Con el método Appende podemos agregar datos a una línea.\n",
        "print(numeros)\n",
        "numeros.extend((8, 9))  #El método extend sirve para extender una lista creada.\n",
        "print(numeros)\n"
      ]
    },
    {
      "cell_type": "markdown",
      "metadata": {},
      "source": [
        "### Tuplas"
      ]
    },
    {
      "cell_type": "markdown",
      "metadata": {},
      "source": [
        "Una tupla es una colección de elementos ordenados e inmutables. Esto significa que una vez que defines una tupla, no puedes modificar su contenido (agregar, eliminar o cambiar elementos). Las tuplas se utilizan para almacenar una colección de elementos cuando se quiere asegurar que los datos no sean modificados accidentalmente durante la ejecución del programa.\n",
        "\n",
        "Las características clave de las tuplas en Python son:\n",
        "\n",
        "1. **Ordenadas**: Los elementos en una tupla mantienen un orden específico, lo que significa que puedes acceder a ellos por su índice.\n",
        "\n",
        "2. **Inmutables**: No puedes modificar los elementos individuales de una tupla después de crearla. Esto las hace útiles para datos que no deben cambiar durante la ejecución del programa.\n",
        "\n",
        "3. **Pueden contener elementos de diferentes tipos**: Puedes tener elementos de diferentes tipos en una misma tupla.\n",
        "\n",
        "4. **Sintaxis**: Las tuplas se crean utilizando paréntesis `()` o simplemente separando los elementos con comas `,`."
      ]
    },
    {
      "cell_type": "markdown",
      "metadata": {},
      "source": [
        "#### Ejercicios"
      ]
    },
    {
      "cell_type": "code",
      "execution_count": 25,
      "metadata": {},
      "outputs": [
        {
          "name": "stdout",
          "output_type": "stream",
          "text": [
            "(1, 'hola', [1, 2, 3, 4], 2.0)\n",
            "2\n"
          ]
        }
      ],
      "source": [
        "tupla =(1 , \"hola\", [1, 2, 3 , 4], 2.0)\n",
        "print(tupla)\n",
        "tupla_posicion= tupla[2][1] #Accedemos al array y elegimos el valor por posición.\n",
        "print(tupla_posicion)\n",
        "\n",
        "lista_vacia= list() #Creamos Lista Vacia."
      ]
    },
    {
      "cell_type": "code",
      "execution_count": 26,
      "metadata": {},
      "outputs": [
        {
          "name": "stdout",
          "output_type": "stream",
          "text": [
            "(1,)\n",
            "()\n"
          ]
        }
      ],
      "source": [
        "#Tupla de un valor\n",
        "tupla_de_uno= 1, #Creamos una tupla de un solo valor. \n",
        "print(tupla_de_uno)\n",
        "\n",
        "#tupla vacia\n",
        "\n",
        "tupla_vacia= tuple() #El método tuple() no dejará crear una tupla vacia\n",
        "print(tupla_vacia)"
      ]
    },
    {
      "cell_type": "code",
      "execution_count": 27,
      "metadata": {},
      "outputs": [
        {
          "name": "stdout",
          "output_type": "stream",
          "text": [
            "(1, 2, 4)\n",
            "(1, 2, 4, 5)\n",
            "(1, 2, 3, 4, 5)\n"
          ]
        }
      ],
      "source": [
        "tupla_original = (1, 2, 3)\n",
        "elemento_modificado = 4 #posición\n",
        "tupla_modificada = tupla_original[:2] + (elemento_modificado,) + tupla_original[2+1:] \n",
        "#Como una tupla es inmutable,debemos crear una nueva.\n",
        "# Por tal motivo de la tupla original, decimos por slicing que nos agarre el valor 1, 2, agrege el nuevo valor 4 \n",
        "\n",
        "print(tupla_modificada)  # Imprime (1, 2, 4)\n",
        "\n",
        "tupla_original = (1, 2, 3, 4, 5)\n",
        "indice_a_eliminar = 2\n",
        "tupla_sin_elemento = tupla_original[:indice_a_eliminar] + tupla_original[indice_a_eliminar+1:]\n",
        "\n",
        "print(tupla_sin_elemento)  # Imprime (1, 2, 4, 5)\n",
        "\n",
        "tupla_original = (1, 2, 3, 5)\n",
        "elemento_insertado = 4\n",
        "indice_de_insercion = 3\n",
        "tupla_con_elemento_insertado = (\n",
        "    tupla_original[:indice_de_insercion] +\n",
        "    (elemento_insertado,) +\n",
        "    tupla_original[indice_de_insercion:]\n",
        ")\n",
        "\n",
        "print(tupla_con_elemento_insertado)  # Imprime (1, 2, 3, 4, 5)"
      ]
    },
    {
      "cell_type": "markdown",
      "metadata": {},
      "source": [
        "### Operadores"
      ]
    },
    {
      "cell_type": "markdown",
      "metadata": {},
      "source": [
        "#### Operadores Aritméticos"
      ]
    },
    {
      "cell_type": "code",
      "execution_count": 2,
      "metadata": {},
      "outputs": [
        {
          "name": "stdout",
          "output_type": "stream",
          "text": [
            "Requirement already satisfied: tabulate in c:\\python311\\lib\\site-packages (0.9.0)\n",
            "Note: you may need to restart the kernel to use updated packages.\n",
            "+-----------------+-----------+--------------------+---------------------------------------------------------------------------------------------------------------------+\n",
            "| Nombre          | Simbolo   | Tipo de Operador   | Tipo de uso                                                                                                         |\n",
            "+=================+===========+====================+=====================================================================================================================+\n",
            "| Suma            | +         | Aritmético         | Permite realizar una suma de valores                                                                                |\n",
            "+-----------------+-----------+--------------------+---------------------------------------------------------------------------------------------------------------------+\n",
            "| Resta           | -         | Aritmético         | Permite realizar una resta de valores                                                                               |\n",
            "+-----------------+-----------+--------------------+---------------------------------------------------------------------------------------------------------------------+\n",
            "| Multiplicación  | *         | Aritmético         | Permite realizar una multiplicación de valores                                                                      |\n",
            "+-----------------+-----------+--------------------+---------------------------------------------------------------------------------------------------------------------+\n",
            "| División        | /         | Aritmético         | Permite realizar una división de valores EJ: 3.5//2= sería igual a 1.75                                             |\n",
            "+-----------------+-----------+--------------------+---------------------------------------------------------------------------------------------------------------------+\n",
            "| División entera | //        | Aritmético         | Obtiene el resultado solola parte entera EJ: 3.5//2= sería igual a 1.0                                              |\n",
            "+-----------------+-----------+--------------------+---------------------------------------------------------------------------------------------------------------------+\n",
            "| Exponente       | **        | Aritmético         | Permite realizar calcular la potencia de un número elevado a otro número                                            |\n",
            "+-----------------+-----------+--------------------+---------------------------------------------------------------------------------------------------------------------+\n",
            "| Módulo          | %         | Aritmético         | s el resto de la división entre los dos operandos. En el ejemplo, 7/2 sería 3, con 1 de resto, luego el módulo es 1 |\n",
            "+-----------------+-----------+--------------------+---------------------------------------------------------------------------------------------------------------------+\n",
            "| Negación        | -         | Aritmético         | Permite negar un número, se utiliza el signo menos antes del número a negar. EJ: -7                                 |\n",
            "+-----------------+-----------+--------------------+---------------------------------------------------------------------------------------------------------------------+\n"
          ]
        }
      ],
      "source": [
        "'''pip es una herramienta de línea de comandos que se utiliza para instalar paquetes de Python desde el índice de paquetes de Python (PyPI) u otros repositorios. Puedes utilizarlo para instalar bibliotecas, módulos y aplicaciones escritas en Python.En este caso le pedimos a python que instale la libreria tabulate para crear tablas. '''\n",
        "\n",
        "%pip install tabulate \n",
        "\n",
        "from tabulate import tabulate\n",
        "\n",
        "header_table= ['Nombre', 'Simbolo', 'Tipo de Operador', 'Tipo de uso']\n",
        "data_table=[\n",
        "    ['Suma','+','Aritmético', 'Permite realizar una suma de valores'],\n",
        "    ['Resta','-','Aritmético','Permite realizar una resta de valores'],\n",
        "    ['Multiplicación','*','Aritmético','Permite realizar una multiplicación de valores'],\n",
        "    ['División','/','Aritmético','Permite realizar una división de valores EJ: 3.5//2= sería igual a 1.75'],\n",
        "    ['División entera','//','Aritmético','Obtiene el resultado solola parte entera EJ: 3.5//2= sería igual a 1.0'],\n",
        "    ['Exponente','**','Aritmético','Permite realizar calcular la potencia de un número elevado a otro número'],\n",
        "    ['Módulo','%','Aritmético','s el resto de la división entre los dos operandos. En el ejemplo, 7/2 sería 3, con 1 de resto, luego el módulo es 1'],\n",
        "    ['Negación','-','Aritmético','Permite negar un número, se utiliza el signo menos antes del número a negar. EJ: -7'],\n",
        "    \n",
        "]\n",
        "\n",
        "# Utiliza la función tabulate para crear la tabla\n",
        "tabla = tabulate(data_table, header_table, tablefmt=\"grid\")\n",
        "\n",
        "# Imprime la tabla\n",
        "print(tabla)"
      ]
    },
    {
      "cell_type": "code",
      "execution_count": 2,
      "metadata": {},
      "outputs": [
        {
          "name": "stdout",
          "output_type": "stream",
          "text": [
            "2\n",
            "3\n",
            "9\n",
            "2.0\n",
            "2\n",
            "8\n",
            "1\n",
            "-7\n"
          ]
        }
      ],
      "source": [
        "#SUMA\n",
        "result_variable= 1 + 1\n",
        "print (result_variable)\n",
        "\n",
        "#RESTA\n",
        "result_resta= 4-1\n",
        "print(result_resta)\n",
        "\n",
        "#MULTIPLICACIÓN\n",
        "result_multiplicacion= 3*3\n",
        "print(result_multiplicacion)\n",
        "\n",
        "#DIVISION\n",
        "result_division= 6/3\n",
        "print(result_division)\n",
        "\n",
        "#DIVISION ENTERA\n",
        "result_div_entera= 7//3\n",
        "print(result_div_entera)\n",
        "\n",
        "#EXPONENTE\n",
        "result_exponente= 2**3\n",
        "print(result_exponente)\n",
        "\n",
        "#MODULO\n",
        "result_modulo= 7%3\n",
        "print(result_modulo)\n",
        "\n",
        "#NEGACIO\n",
        "negacion=-7\n",
        "print(negacion)"
      ]
    },
    {
      "cell_type": "markdown",
      "metadata": {},
      "source": [
        "#### Operadores Lógicos"
      ]
    },
    {
      "cell_type": "markdown",
      "metadata": {},
      "source": [
        "\n",
        "Son utilizados para realizar operaciones lógicas en expresiones booleanas. \n",
        "Las expresiones booleanas, en programación y matemáticas, son declaraciones o combinaciones de valores que pueden tener solo dos posibles resultados: Verdadero **(True)** o Falso **(False)**. \n",
        "Estas expresiones se utilizan para representar condiciones lógicas y se evalúan en función de si la afirmación es verdadera o falsa.\n",
        "\n",
        "En programación, las expresiones booleanas son fundamentales para controlar el flujo de un programa, tomar decisiones y realizar pruebas de condición. Se utilizan en estructuras de control como instrucciones condicionales (if, bucles while y for), y en operaciones lógicas en general.\n",
        "\n",
        "- AND (Y): Representado por el símbolo \"&&\" o la palabra clave \"y\". Devuelve verdadero si ambas expresiones son verdaderas.\n",
        "- OR (O): Representado por el símbolo \"||\" o la palabra clave \"o\". Devuelve verdadero si al menos una de las expresiones es verdadera.\n",
        "- NOT (NO): Representado por el símbolo \"!\" o la palabra clave \"no\". Invierte el valor de una expresión lógica, es decir, si la expresión es verdadera, devuelve falso, y si la expresión es falsa, devuelve verdadero.\n",
        "\n"
      ]
    },
    {
      "cell_type": "code",
      "execution_count": 20,
      "metadata": {},
      "outputs": [
        {
          "name": "stdout",
          "output_type": "stream",
          "text": [
            "Operador AND \n",
            "Ambas variables son mayores que cero\n",
            "Al menos una de las variables no cumple la condición \n",
            "\n",
            "Operador OR \n",
            "Al menos una de las variables es mayor que diez\n",
            "Al menos una de las variables cumple la condición\n",
            "\n",
            "\n",
            "Operador NOT \n",
            "La variable q es falsa\n"
          ]
        }
      ],
      "source": [
        "print(\"Operador AND \")\n",
        "first_number = 5\n",
        "second_number = 10\n",
        "third_number = 7\n",
        "\n",
        "if first_number > 0 and second_number > 0:\n",
        "    print(\"Ambas variables son mayores que cero\")\n",
        "\n",
        "if first_number < 10 and third_number < 5:\n",
        "    print(\"Ambas variables cumplen las condiciones\")\n",
        "else:\n",
        "    print(\"Al menos una de las variables no cumple la condición \\n\")\n",
        "    \n",
        "print(\"Operador OR \")\n",
        "variable_x = 15\n",
        "variable_y = 3\n",
        "variable_z = 8\n",
        "\n",
        "if variable_x > 10 or variable_y > 10:\n",
        "    print(\"Al menos una de las variables es mayor que diez\")\n",
        "\n",
        "if variable_y < 5 or variable_z < 5:\n",
        "    print(\"Al menos una de las variables cumple la condición\")\n",
        "else:\n",
        "    print(\"Ninguna de las variables cumple la condición \\n\\n\")\n",
        "    \n",
        "print(\"\\n\")\n",
        "print(\"Operador NOT \")\n",
        "variable_p = True\n",
        "variable_q = False\n",
        "\n",
        "if not variable_p:\n",
        "    print(\"La variable p es falsa\")\n",
        "\n",
        "if not variable_q:\n",
        "    print(\"La variable q es falsa\")"
      ]
    },
    {
      "cell_type": "code",
      "execution_count": 4,
      "metadata": {},
      "outputs": [
        {
          "name": "stdout",
          "output_type": "stream",
          "text": [
            "Tabla de verdad AND\n",
            "+-----------+-----------+----------------------+\n",
            "| Valor 1   | Valor 2   | Resultado            |\n",
            "+===========+===========+======================+\n",
            "| True      | True      | True & True = True   |\n",
            "+-----------+-----------+----------------------+\n",
            "| True      | False     | True & False = False |\n",
            "+-----------+-----------+----------------------+\n",
            "| False     | True      | False & True = False |\n",
            "+-----------+-----------+----------------------+\n",
            "| False     | False     | True & True = False  |\n",
            "+-----------+-----------+----------------------+\n",
            "\n",
            "\n",
            "Tabla de verdad OR\n",
            "+-----------+-----------+----------------------+\n",
            "| Valor 1   | Valor 2   | Resultado            |\n",
            "+===========+===========+======================+\n",
            "| True      | True      | True or True = True  |\n",
            "+-----------+-----------+----------------------+\n",
            "| True      | False     | True or False = True |\n",
            "+-----------+-----------+----------------------+\n",
            "| False     | True      | False or True = True |\n",
            "+-----------+-----------+----------------------+\n",
            "| False     | False     | True or True = False |\n",
            "+-----------+-----------+----------------------+\n"
          ]
        }
      ],
      "source": [
        "print(\"Tabla de verdad AND\")\n",
        "\n",
        "header_table2= ['Valor 1','Valor 2','Resultado']\n",
        "data_table2=[['True','True','True & True = True'],\n",
        "             ['True','False','True & False = False'],\n",
        "             ['False','True','False & True = False'],\n",
        "             ['False','False','True & True = False'],\n",
        "             ]\n",
        "# Utiliza la función tabulate para crear la tabla\n",
        "tabla2 = tabulate(data_table2, header_table2, tablefmt=\"grid\")\n",
        "\n",
        "# Imprime la tabla\n",
        "print(tabla2)\n",
        "print('\\n')\n",
        "print(\"Tabla de verdad OR\")\n",
        "\n",
        "header_table2= ['Valor 1','Valor 2','Resultado']\n",
        "data_table2=[['True','True','True or True = True'],\n",
        "             ['True','False','True or False = True'],\n",
        "             ['False','True','False or True = True'],\n",
        "             ['False','False','True or True = False'],\n",
        "             ]\n",
        "# Utiliza la función tabulate para crear la tabla\n",
        "tabla2 = tabulate(data_table2, header_table2, tablefmt=\"grid\")\n",
        "\n",
        "# Imprime la tabla\n",
        "print(tabla2)"
      ]
    },
    {
      "cell_type": "markdown",
      "metadata": {},
      "source": [
        "#### Actividad"
      ]
    },
    {
      "cell_type": "code",
      "execution_count": 13,
      "metadata": {},
      "outputs": [
        {
          "name": "stdout",
          "output_type": "stream",
          "text": [
            "[False, True, True, True, False, True, False]\n",
            "\n",
            "\n",
            "Otra Expresión\n",
            "[True, True, False, True, True, False]\n"
          ]
        }
      ],
      "source": [
        "expresiones = [False==True, 10>=2*4, 33/3==11, True>False, True*5==2.5**2, not False==True and 2==2, 3 == 2 | 3==1]\n",
        "print(expresiones) #[False, True, True, True, False, True, False]\n",
        "print(\"\\n\")\n",
        "print(\"Otra Expresión\")\n",
        "otra_expresion=[not False, not 3==5, 33/3==11&5>2, True | False, True*5 | 123>=3\n",
        "                , 12>7 & True<False]\n",
        "print(otra_expresion) #[True, True, False, True, True, False]"
      ]
    },
    {
      "cell_type": "code",
      "execution_count": 19,
      "metadata": {},
      "outputs": [
        {
          "name": "stdout",
          "output_type": "stream",
          "text": [
            "[True, False, True, True]\n",
            "False\n"
          ]
        }
      ],
      "source": [
        "nombre= input(\"Ingrese Nombre: \")\n",
        "edad= int(input(\"Ingrese edad: \" ))\n",
        "\n",
        "evaluacion= [nombre!=\"****\", edad>5 and  edad<20, len(nombre) >= 4 and len(nombre) < 8,edad*3 >35]\n",
        "print(evaluacion)\n",
        "\n",
        "evaluacion_result= (nombre != \"****\") and (edad > 5 and edad < 20) and (len(nombre) >= 4 and len(nombre) < 8) and (edad * 3 > 35)\n",
        "print(evaluacion_result)\n"
      ]
    }
  ],
  "metadata": {
    "colab": {
      "authorship_tag": "ABX9TyP2uoHdlyZ6gTv4Tv7GEHBt",
      "include_colab_link": true,
      "provenance": []
    },
    "kernelspec": {
      "display_name": "Python 3",
      "name": "python3"
    },
    "language_info": {
      "codemirror_mode": {
        "name": "ipython",
        "version": 3
      },
      "file_extension": ".py",
      "mimetype": "text/x-python",
      "name": "python",
      "nbconvert_exporter": "python",
      "pygments_lexer": "ipython3",
      "version": "3.11.5"
    }
  },
  "nbformat": 4,
  "nbformat_minor": 0
}

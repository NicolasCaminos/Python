{
  "nbformat": 4,
  "nbformat_minor": 0,
  "metadata": {
    "colab": {
      "provenance": [],
      "authorship_tag": "ABX9TyPbiACiC9TmpwfBKHXD0Zd7",
      "include_colab_link": true
    },
    "kernelspec": {
      "name": "python3",
      "display_name": "Python 3"
    },
    "language_info": {
      "name": "python"
    }
  },
  "cells": [
    {
      "cell_type": "markdown",
      "metadata": {
        "id": "view-in-github",
        "colab_type": "text"
      },
      "source": [
        "<a href=\"https://colab.research.google.com/github/NicolasCaminos/Python/blob/main/Python.ipynb\" target=\"_parent\"><img src=\"https://colab.research.google.com/assets/colab-badge.svg\" alt=\"Open In Colab\"/></a>"
      ]
    },
    {
      "cell_type": "markdown",
      "source": [
        "# Pyhton"
      ],
      "metadata": {
        "id": "Jj9APqZS_JHF"
      }
    },
    {
      "cell_type": "markdown",
      "source": [
        "## ¿Qué es python?"
      ],
      "metadata": {
        "id": "GWPE8oRW_NVa"
      }
    },
    {
      "cell_type": "markdown",
      "source": [
        "Python es un lenguaje de programación de alto nivel, interpretado y multipropósito. Aquí tienes una definición más detallada:\n",
        "\n",
        "**Lenguaje de programación**: Python es un conjunto de reglas y sintaxis que permite a los programadores dar instrucciones a una computadora. Estas instrucciones se escriben en forma de código fuente.\n",
        "\n",
        "**Alto nivel**: Python se considera un lenguaje de alto nivel porque utiliza una sintaxis más cercana al lenguaje humano que a la máquina. Esto significa que es más fácil de aprender y de leer que los lenguajes de bajo nivel, como el lenguaje ensamblador.\n",
        "\n",
        "**Interpretado**: En lugar de compilar el código en un archivo ejecutable antes de ejecutarlo, como se hace en lenguajes compilados como C++ o Java, Python se interpreta línea por línea en tiempo real. Esto facilita la escritura y la depuración de código, pero a veces puede hacer que Python sea más lento en comparación con lenguajes compilados.\n",
        "\n",
        "**Multipropósito**: Python es versátil y se utiliza en una amplia variedad de aplicaciones, desde desarrollo web y científico hasta automatización de tareas y desarrollo de videojuegos. Su amplia gama de bibliotecas y módulos hace que sea adecuado para una amplia variedad de proyectos.\n",
        "\n",
        "Python es conocido por su legibilidad y facilidad de uso, lo que lo convierte en un lenguaje popular para principiantes en la programación. Además, su comunidad activa y su abundante documentación hacen que sea una elección sólida tanto para principiantes como para desarrolladores experimentados."
      ],
      "metadata": {
        "id": "hEwkHNqy_ZcH"
      }
    },
    {
      "cell_type": "markdown",
      "source": [
        "### ¿Que Es un programa?"
      ],
      "metadata": {
        "id": "bZHffNudBbt3"
      }
    },
    {
      "cell_type": "markdown",
      "source": [
        "**Programa**: Conjunto de instrucciones que entiende una computadora para realizar una actividad.\n",
        "Todo programa tiene un objetivo bien definido: un procesador de texto es un programa que permite cargar, modificar e imprimir textos, un programa de ajedrez permite jugar al ajedrez contra el ordenador u otro contrincante humano.\n",
        "La actividad fundamental del programador es resolver problemas empleando el ordenador como herramienta fundamental.\n",
        "\n",
        "Para la resolución de un problema hay que plantear un algoritmo.\n",
        "\n",
        "**Algoritmo**: Son los pasos a seguir para resolver un problema.\n",
        "\n",
        "**Variable**: Es un depósito donde hay un valor. Consta de un nombre y pertenece a un tipo de dato.\n",
        "\n",
        "En Python usamos \"Snake_case\" para nombrar las variables, es una de las convenciones de nomenclatura que se consideran una buena práctica para nombrar variables y otros identificadores en programación, especialmente en Python. Aquí te presento algunas buenas prácticas de nombrado de variables junto con ejemplos en \"snake_case\":\n",
        "\n",
        "\n",
        "1.   **Utiliza nombres descriptivos**: Elige nombres que reflejen claramente el propósito y el contenido de la variable. Los nombres descriptivos hacen que el código sea más legible y comprensible.\n",
        "2.   **Sigue las convenciones de nomenclatura del lenguaje**: En Python, la convención preferida es \"snake_case\". Las palabras se escriben en minúsculas y se separan por guiones bajos (_).\n",
        "3. **Usa nombres en inglés**: Siempre es una buena práctica utilizar nombres en inglés para variables y otros identificadores, ya que es un estándar ampliamente aceptado en la programación.\n",
        "4. **Sé consistente**: Mantén la consistencia en tus nombres de variables a lo largo de tu código. Utiliza un estilo y una convención de nomenclatura coherentes en todo tu proyecto.\n",
        "5. **Evita nombres demasiado cortos o genéricos**: Evita nombres de una sola letra o nombres genéricos que no proporcionen información sobre el contenido de la variable.\n",
        "6. **Usa nombres en inglés**: Siempre es una buena práctica utilizar nombres en inglés"
      ],
      "metadata": {
        "id": "oq-4GDwMA4rv"
      }
    },
    {
      "cell_type": "markdown",
      "source": [
        "### Mi primer programa"
      ],
      "metadata": {
        "id": "ry2EG78r_7R9"
      }
    },
    {
      "cell_type": "markdown",
      "source": [
        "Se prodecerá a realizar un programa de consola, la misma deberá mostrarnos en consola un texto. En este caso el elegido para el mismo es \"Hola Mundo"
      ],
      "metadata": {
        "id": "E_TJHHJWAOD5"
      }
    },
    {
      "cell_type": "code",
      "source": [
        "hello_world= \"Hola Mundo\"; # Creamos una variable y le asignamos un valor de texto\n",
        "\n",
        "print(hello_world); # Hola Mundo\n",
        "\n",
        "type(hello_world); # <class 'str'> Esto indica que el tipo de la variable es de clase string, es decir de texto."
      ],
      "metadata": {
        "colab": {
          "base_uri": "https://localhost:8080/"
        },
        "id": "qtBQ40eh_Urt",
        "outputId": "5ea618b0-4654-4637-d67f-7797f3ded17c"
      },
      "execution_count": 62,
      "outputs": [
        {
          "output_type": "stream",
          "name": "stdout",
          "text": [
            "Hola Mundo\n"
          ]
        }
      ]
    },
    {
      "cell_type": "markdown",
      "source": [
        "###Tipos de datos"
      ],
      "metadata": {
        "id": "bF2gZ8eLE1FN"
      }
    },
    {
      "cell_type": "markdown",
      "source": [
        "\n",
        "Python admite varios tipos de datos que se utilizan para representar diferentes tipos de valores. Aquí tienes una lista de los tipos de datos más comunes en Python:\n",
        "\n",
        "**Enteros (int)**: Representan números enteros sin decimales. Ejemplos: -5, 0, 42.\n",
        "\n",
        "**Flotantes (float)**: Representan números con decimales. Ejemplos: -3.14, 0.0, 3.14159.\n",
        "\n",
        "**Cadenas de texto (str)**: Representan secuencias de caracteres. Ejemplos: \"Hola, mundo\", 'Python', \"123\".\n",
        "\n",
        "**Booleanos (bool):** Representan valores verdaderos o falsos. Solo pueden tener dos valores posibles: True o False.\n",
        "\n",
        "**Listas**: Son secuencias ordenadas de elementos que pueden ser de cualquier tipo. Se definen con corchetes []. Ejemplo: [1, 2, 3, 4].\n",
        "\n",
        "**Tuplas:** Son secuencias ordenadas de elementos similares a las listas, pero son inmutables, lo que significa que no se pueden modificar una vez creadas. Se definen con paréntesis (). Ejemplo: (1, 2, 3).\n",
        "\n",
        "**Conjuntos (set):** Son colecciones desordenadas de elementos únicos. Se definen con llaves {} o con el constructor set(). Ejemplo: {1, 2, 3}.\n",
        "\n",
        "**Diccionarios:** Son colecciones de pares clave-valor. Cada elemento tiene una clave única y un valor asociado. Se definen con llaves {} y pares clave-valor separados por dos puntos :. Ejemplo: {'nombre': 'Juan', 'edad': 30}.\n",
        "\n",
        "**None:** Representa la ausencia de un valor o un valor nulo. Especialmente útil para inicializar variables sin asignarles un valor específico.\n",
        "\n",
        "Estos son los tipos de datos más básicos en Python, pero puedes crear tipos de datos personalizados utilizando clases. Además, Python es un lenguaje de tipado dinámico, lo que significa que no es necesario declarar explícitamente el tipo de una variable; Python lo infiere automáticamente en tiempo de ejecución.\n",
        "\n",
        "Puedes utilizar las funciones type() para conocer el tipo de una variable y isinstance() para verificar si una variable es de un tipo específico. Por ejemplo:"
      ],
      "metadata": {
        "id": "wPOJu2bFFEFA"
      }
    },
    {
      "cell_type": "code",
      "source": [
        "#Booleanos\n",
        "variable_true= True; #verdadero\n",
        "variable_false= False; #falso\n",
        "print(variable_true,variable_false); # True False\n",
        "print(type(variable_false)); # <class 'bool'>\n",
        "\n",
        "#None\n",
        "variable_none= None;\n",
        "print(variable_none); #None\n",
        "print(type(variable_none)); #<class 'NoneType'>\n",
        "\n",
        "#Float\n",
        "variable_float=2.3;\n",
        "print(variable_float); # 2.3\n",
        "print(type(variable_float)); # <class 'float'>\n",
        "\n",
        "#Long\n",
        "#En python 2X sería un número Long(Largo) y se representaba así: 1L, eso cambio desde la versión 3x en adelante.ya los toma como enteros ahora\n",
        "variable_long = 123_456_789_012_345_678_901_234_567_890_123_456_7890;\n",
        "#_ se usan para hacer mas legible a los números largos.\n",
        "print(type(variable_long));\n",
        "\n",
        "#entero\n",
        "variable_entero= 42; #42\n",
        "print(type(variable_entero));  # <class 'int'>\n",
        "\n",
        "#Texto/ String\n",
        "variable_string = \"Hola\"; # Hola\n",
        "print(type(variable_string));  # <class 'str'>\n",
        "\n",
        "#Listas\n",
        "variable_list = [1, 2, 3]; #[1, 2, 3]\n",
        "print(type(variable_list)); #<class 'list'>\n",
        "print(isinstance(variable_list, list));  # True\n"
      ],
      "metadata": {
        "id": "HDUAi_3BZRnu",
        "colab": {
          "base_uri": "https://localhost:8080/"
        },
        "outputId": "73dc93e6-e9c0-45fa-f649-fcf72df68534"
      },
      "execution_count": 63,
      "outputs": [
        {
          "output_type": "stream",
          "name": "stdout",
          "text": [
            "True False\n",
            "<class 'bool'>\n",
            "None\n",
            "<class 'NoneType'>\n",
            "2.3\n",
            "<class 'float'>\n",
            "<class 'int'>\n",
            "<class 'int'>\n",
            "<class 'str'>\n",
            "<class 'list'>\n",
            "True\n"
          ]
        }
      ]
    },
    {
      "cell_type": "markdown",
      "source": [
        "### ¿Qué es print?"
      ],
      "metadata": {
        "id": "wJTd4zptGBU4"
      }
    },
    {
      "cell_type": "markdown",
      "source": [
        "Es una  función nativa de Phyton, la significa IMPRIMIR.\n"
      ],
      "metadata": {
        "id": "QmlHFC2XGIJo"
      }
    },
    {
      "cell_type": "code",
      "source": [
        "print(r'C:\\nombre\\directorio'); #C:\\nombre\\directorio"
      ],
      "metadata": {
        "colab": {
          "base_uri": "https://localhost:8080/"
        },
        "id": "0dKRMca5GuaY",
        "outputId": "d594270e-36d6-4574-ba7e-5a820027a304"
      },
      "execution_count": 64,
      "outputs": [
        {
          "output_type": "stream",
          "name": "stdout",
          "text": [
            "C:\\nombre\\directorio\n"
          ]
        }
      ]
    },
    {
      "cell_type": "code",
      "source": [
        "#Si vemos mantiene los saltos de línea al imprimir\n",
        "print(\"\"\"Cadena 1\n",
        "Cadena 2\n",
        "Candena 3\n",
        "\"\"\");\n",
        "#Cadena 1\n",
        "#Cadena 2\n",
        "#Candena 3\n"
      ],
      "metadata": {
        "colab": {
          "base_uri": "https://localhost:8080/"
        },
        "id": "durzmBpDG7HE",
        "outputId": "8835a45c-441a-4877-8c24-79eac586fd84"
      },
      "execution_count": 65,
      "outputs": [
        {
          "output_type": "stream",
          "name": "stdout",
          "text": [
            "Cadena 1\n",
            "Cadena 2\n",
            "Candena 3\n",
            "\n"
          ]
        }
      ]
    },
    {
      "cell_type": "markdown",
      "source": [
        "### Secuecias de escapes"
      ],
      "metadata": {
        "id": "rKMNJwJwIuRz"
      }
    },
    {
      "cell_type": "markdown",
      "source": [
        "Las secuencias de escape son combinaciones de caracteres que se utilizan en cadenas de texto y otros contextos para representar caracteres especiales o para controlar el formato y el comportamiento del texto. Estas secuencias de escape generalmente comienzan con el carácter de escape, que en muchos lenguajes de programación es la barra invertida \\. Algunas secuencias de escape comunes incluyen:\n",
        "\n",
        "**\\n**: Representa un carácter de nueva línea, que provoca un salto de línea en el texto.\n",
        "\n",
        "**\\t**: Representa un carácter de tabulación, que inserta un espacio en blanco equivalente al ancho de una tabulación.\n",
        "\n",
        "**\\r**: Representa un carácter de retorno de carro, que hace que el cursor de texto se mueva al principio de la línea actual.\n",
        "\n",
        "**\\\\**: Representa un carácter de barra invertida literal, ya que la barra invertida se utiliza como carácter de escape en sí misma.\n",
        "\n",
        "**\\'**: Representa una comilla simple (apóstrofe) dentro de una cadena delimitada por comillas simples.\n",
        "\n",
        "**\\\"**: Representa una comilla doble dentro de una cadena delimitada por comillas dobles.\n",
        "\n",
        "**\\b**: Representa un carácter de retroceso (backspace), que borra el carácter a la izquierda del cursor.\n",
        "\n",
        "**\\f**: Representa un carácter de avance de página, que se utiliza en algunos contextos para avanzar a la siguiente página o área de texto.\n",
        "\n",
        "**\\v**: Representa un carácter de tabulación vertical, que se utiliza en algunos contextos para avanzar verticalmente."
      ],
      "metadata": {
        "id": "MZS7ZLmxJBYl"
      }
    },
    {
      "cell_type": "code",
      "source": [
        "print('Hola\\nMundo'); #Otra forma de realizar saltos de líneas"
      ],
      "metadata": {
        "colab": {
          "base_uri": "https://localhost:8080/"
        },
        "id": "RKHrSgLXIJ_c",
        "outputId": "1b2ae4d2-d232-4c6c-c65e-93d5ec24d4d3"
      },
      "execution_count": 66,
      "outputs": [
        {
          "output_type": "stream",
          "name": "stdout",
          "text": [
            "Hola\n",
            "Mundo\n"
          ]
        }
      ]
    },
    {
      "cell_type": "code",
      "source": [
        "print('Hola\\tMundo'); #Una manera de hacer tabulación"
      ],
      "metadata": {
        "colab": {
          "base_uri": "https://localhost:8080/"
        },
        "id": "4Dyvwu9jIfiU",
        "outputId": "f4529fbd-4a8e-44ab-82ad-afca1bc3b740"
      },
      "execution_count": 67,
      "outputs": [
        {
          "output_type": "stream",
          "name": "stdout",
          "text": [
            "Hola\tMundo\n"
          ]
        }
      ]
    },
    {
      "cell_type": "code",
      "source": [
        "print(\"Texto antes del retorno de carro.\\rTexto después del retorno de carro.\");"
      ],
      "metadata": {
        "colab": {
          "base_uri": "https://localhost:8080/"
        },
        "id": "pCaeTXygJRdq",
        "outputId": "1f5d3d8f-a744-4f30-f659-3636fddf8eff"
      },
      "execution_count": 68,
      "outputs": [
        {
          "output_type": "stream",
          "name": "stdout",
          "text": [
            "Texto antes del retorno de carro.\rTexto después del retorno de carro.\n"
          ]
        }
      ]
    },
    {
      "cell_type": "code",
      "source": [
        "print(\"Esto es una barra invertida: \\\\\");"
      ],
      "metadata": {
        "colab": {
          "base_uri": "https://localhost:8080/"
        },
        "id": "QYoPsADSJTQu",
        "outputId": "ab5f3594-9bd1-43c3-e390-46680f5dbc6d"
      },
      "execution_count": 69,
      "outputs": [
        {
          "output_type": "stream",
          "name": "stdout",
          "text": [
            "Esto es una barra invertida: \\\n"
          ]
        }
      ]
    },
    {
      "cell_type": "code",
      "source": [
        "print('Esto es una comilla simple: \\'');"
      ],
      "metadata": {
        "colab": {
          "base_uri": "https://localhost:8080/"
        },
        "id": "BPdyzcsqJVuz",
        "outputId": "04602c85-77d8-4a5c-e27e-93723d2e34ea"
      },
      "execution_count": 70,
      "outputs": [
        {
          "output_type": "stream",
          "name": "stdout",
          "text": [
            "Esto es una comilla simple: '\n"
          ]
        }
      ]
    },
    {
      "cell_type": "code",
      "source": [
        "print(\"Nombre\\tEdad\\tCiudad\");\n",
        "print(\"Juan\\t30\\tMadrid\");\n",
        "print(\"María\\t25\\tBarcelona\");\n",
        "\n",
        "#Comentario del resultado de consola\n",
        "\"\"\"\n",
        "Nombre edad Cidudad\n",
        "Juan   30   Madrid\n",
        "Maria  25   Barcelona\n",
        "\"\"\""
      ],
      "metadata": {
        "colab": {
          "base_uri": "https://localhost:8080/",
          "height": 90
        },
        "id": "W28UNuXmPdHo",
        "outputId": "8a58e60d-6481-4094-c735-582ae8b94295"
      },
      "execution_count": 71,
      "outputs": [
        {
          "output_type": "stream",
          "name": "stdout",
          "text": [
            "Nombre\tEdad\tCiudad\n",
            "Juan\t30\tMadrid\n",
            "María\t25\tBarcelona\n"
          ]
        },
        {
          "output_type": "execute_result",
          "data": {
            "text/plain": [
              "'\\nNombre edad Cidudad\\nJuan   30   Madrid\\nMaria  25   Barcelona\\n'"
            ],
            "application/vnd.google.colaboratory.intrinsic+json": {
              "type": "string"
            }
          },
          "metadata": {},
          "execution_count": 71
        }
      ]
    },
    {
      "cell_type": "code",
      "source": [
        "print(\"Texto con retroceso: \\b\")"
      ],
      "metadata": {
        "colab": {
          "base_uri": "https://localhost:8080/"
        },
        "id": "CY392xUZJXrn",
        "outputId": "d79272bc-06fd-4a6f-a16e-0cb02bd0bcc9"
      },
      "execution_count": 72,
      "outputs": [
        {
          "output_type": "stream",
          "name": "stdout",
          "text": [
            "Texto con retroceso: \b\n"
          ]
        }
      ]
    },
    {
      "cell_type": "code",
      "source": [
        "name_user= input('Ingrese nombre: ');\n",
        "year= int(input('Ingrese Edad: ')); #Transformo el valor Edad a un valor entero(Numérico sin decimal), ya que sino no podre usarlo en el condicional\n",
        "\n",
        "#Condicional\n",
        "if(year>=18): #Si Edad es mayor o igual a 18\n",
        "# Creo una f-string para poder usar los datos de mis variables.\n",
        "#Son una forma conveniente de formatear cadenas de texto mediante la interpolación de valores de variables en ellas.\n",
        "  print( f'{name_user} eres mayor a 18 años, indicaste que tenes: {year} años'); #imprimir: {Nombre} eres mayor a 18 años, indicaste que tenes: {Edad}\n",
        "else: #sino cumplis la condición\n",
        "   print( f'{name_user} eres menor'); #imprimir: {Nombre} eres menor"
      ],
      "metadata": {
        "id": "uKY9JfZ_KfPM",
        "colab": {
          "base_uri": "https://localhost:8080/"
        },
        "outputId": "60d9d73c-ffd9-4106-824c-63b4abc9fb03"
      },
      "execution_count": 73,
      "outputs": [
        {
          "output_type": "stream",
          "name": "stdout",
          "text": [
            "Ingrese nombre: Nicolas\n",
            "Ingrese Edad: 45\n",
            "Nicolas eres mayor a 18 años, indicaste que tenes: 45 años\n"
          ]
        }
      ]
    },
    {
      "cell_type": "markdown",
      "source": [
        "### Comentarios"
      ],
      "metadata": {
        "id": "5PyDi-KrNpOq"
      }
    },
    {
      "cell_type": "markdown",
      "source": [
        "En Python, puedes agregar comentarios a tu código **para hacerlo más legible y para proporcionar explicaciones sobre lo que hace el código**. Los comentarios son líneas de texto que Python ignora al ejecutar el programa. Aquí tienes cómo crear comentarios en Python:\n",
        "\n",
        "**Comentarios de una línea:** Utiliza el símbolo # para iniciar un comentario de una sola línea. Todo lo que siga a # en esa línea se considera un comentario.\n",
        "\n",
        "Los comentarios son una práctica útil para explicar la lógica de tu código, proporcionar documentación y hacer que el código sea más comprensible para ti y para otros programadores que puedan leerlo. Es importante utilizar comentarios de manera efectiva para que el código sea más mantenible y colaborativo.\n",
        "\n",
        "\n",
        "**UN CóDIGO LEGIBLE NO NECESITA MUCHO COMENTARIOS PARA EXPLICARLO**"
      ],
      "metadata": {
        "id": "if3e7O2uNrNl"
      }
    },
    {
      "cell_type": "code",
      "source": [
        "# Esto es un comentario de una línea\n",
        "\n",
        "'''\n",
        "Este es un comentario\n",
        "de varias líneas.\n",
        "'''\n",
        "\n",
        "\"\"\"\n",
        "Este también es un comentario\n",
        "de varias líneas.\n",
        "\"\"\"\n",
        "\n",
        "def mi_funcion():\n",
        "    \"\"\"\n",
        "    Esta es una docstring que describe la función.\n",
        "    \"\"\"\n",
        "    pass"
      ],
      "metadata": {
        "id": "arG0Her3N79u"
      },
      "execution_count": 74,
      "outputs": []
    }
  ]
}
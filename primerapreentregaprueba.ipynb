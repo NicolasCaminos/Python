{
  "cells": [
    {
      "cell_type": "markdown",
      "metadata": {
        "id": "view-in-github",
        "colab_type": "text"
      },
      "source": [
        "<a href=\"https://colab.research.google.com/github/NicolasCaminos/Python/blob/v0.1/primerapreentregaprueba.ipynb\" target=\"_parent\"><img src=\"https://colab.research.google.com/assets/colab-badge.svg\" alt=\"Open In Colab\"/></a>"
      ]
    },
    {
      "cell_type": "markdown",
      "metadata": {
        "id": "txdU89i4As3X"
      },
      "source": [
        "# Primera Preentrega: Nicolás Caminos"
      ]
    },
    {
      "cell_type": "markdown",
      "source": [
        "<h2> Se debe entregar</h2>\n",
        "✔ Se debe entregar todo el programa.\n",
        "\n",
        "<h2> Sugerencias</h2>\n",
        "\n",
        "✔ El formato de registro es: Nombre de usuario y Contraseña.\n",
        "\n",
        "✔ Utilizar una función para almacenar la información y otra función para mostrar la información.\n",
        "\n",
        "✔ Utilizar un diccionario para almacenar dicha información, con el par usuario-contraseña (clave-valor).\n",
        "\n",
        "✔ Utilizar otra función para el login de usuarios, comprobando que la contraseña coincida con el usuario.\n",
        "\n",
        "<h2> Adicional</h2>\n",
        "✔ Utilizando los conceptos de la clase 8, guarde la información en un archivo de texto dentro de su Drive.\""
      ],
      "metadata": {
        "id": "SmMpG_blA8Sn"
      }
    },
    {
      "cell_type": "code",
      "execution_count": 1,
      "metadata": {
        "colab": {
          "base_uri": "https://localhost:8080/"
        },
        "id": "tubm0ZC3As3a",
        "outputId": "6d7e834e-e502-422a-9edb-aafa7b438d7d"
      },
      "outputs": [
        {
          "output_type": "stream",
          "name": "stdout",
          "text": [
            "Mounted at /drive/\n",
            "Mounted at /content/drive\n"
          ]
        }
      ],
      "source": [
        "import json\n",
        "from google.colab import drive\n",
        "drive.mount('/drive/')\n",
        "from google.colab import drive\n",
        "drive.mount('/content/drive')\n"
      ]
    },
    {
      "cell_type": "code",
      "source": [
        "# Diccionario global para almacenar usuarios y contraseñas\n",
        "user_dic = {}\n",
        "user_id = 0\n",
        "# Definimos la función usuarios\n",
        "def add_users():\n",
        "    global user_id  # Usamos global para indicar que estamos modificando la variable global user_id\n",
        "    usuario = input('Ingrese su usuario: ')\n",
        "    contrasena = input('Ingrese su contraseña: ')\n",
        "\n",
        "    # Incrementamos el contador user_id antes de usarlo\n",
        "    user_id += 1\n",
        "\n",
        "    # Agregamos el usuario con su ID único al diccionario\n",
        "    user_dic[user_id] = {\"usuario\": usuario, \"contrasena\": contrasena}\n",
        "\n",
        "    print(\"Usuario Agregado Correctamente 😊\")\n",
        "\n",
        "# Definimos la función mostrar datos\n",
        "def show_data():\n",
        "  print(\"Usuarios registrados:\")\n",
        "  for user_id, datos in user_dic.items():\n",
        "    users = datos[\"users\"]\n",
        "    password = datos[\"password\"]\n",
        "\n",
        "#definimos la función guardar datos en drive\n",
        "def save_drive():\n",
        "    route = '/content/drive/MyDrive/Python/Primera_Preentrega/'\n",
        "    files = \"datos.json\"\n",
        "    with open(route + files, \"w\") as archivo:\n",
        "        json.dump(user_dic, archivo)\n",
        "        print(f\"Datos guardados en {route + files}\")"
      ],
      "metadata": {
        "id": "ZyBr_fywMGeF"
      },
      "execution_count": 2,
      "outputs": []
    },
    {
      "cell_type": "code",
      "source": [
        "def main():\n",
        "  print(\"1 - Cargar Usuarios\")\n",
        "  print(\"2 - Ver usuarios registrados\")\n",
        "  print(\"3 - Salir\")\n",
        "  while True:\n",
        "    try:\n",
        "      var_option=int(input(f\"Ingrese su opción:\"))\n",
        "      if (type(var_option) is int):\n",
        "        if var_option == 1:\n",
        "          add_users()\n",
        "          save_drive()\n",
        "          elif var_option == 2:\n",
        "            show_data()\n",
        "            elif var_option == 3:\n",
        "              print(\"Saliendo del programa.\")\n",
        "                return  # Terminar el programa\n",
        "\n",
        "        else:\n",
        "          print(\"Opción no valida\")\n",
        "    except ValueError:\n",
        "          print('Ingresaste datos no válidos.')"
      ],
      "metadata": {
        "id": "Z0WM6gY7JOA3"
      },
      "execution_count": null,
      "outputs": []
    },
    {
      "cell_type": "code",
      "source": [
        "main()"
      ],
      "metadata": {
        "colab": {
          "base_uri": "https://localhost:8080/",
          "height": 495
        },
        "id": "9hkQs7yXM9mQ",
        "outputId": "8a4c22a4-9ab7-48c4-ea4f-eee35c056d9b"
      },
      "execution_count": 8,
      "outputs": [
        {
          "output_type": "stream",
          "name": "stdout",
          "text": [
            "1 - Cargar Usuarios\n",
            "2 - Ver usuarios registrados\n",
            "3 - Salir\n",
            "Ingrese su opción:2\n",
            "Opción no valida\n",
            "Ingrese su opción:3\n",
            "Opción no valida\n",
            "Ingrese su opción:3\n",
            "Opción no valida\n"
          ]
        },
        {
          "output_type": "error",
          "ename": "KeyboardInterrupt",
          "evalue": "ignored",
          "traceback": [
            "\u001b[0;31m---------------------------------------------------------------------------\u001b[0m",
            "\u001b[0;31mKeyboardInterrupt\u001b[0m                         Traceback (most recent call last)",
            "\u001b[0;32m<ipython-input-8-263240bbee7e>\u001b[0m in \u001b[0;36m<cell line: 1>\u001b[0;34m()\u001b[0m\n\u001b[0;32m----> 1\u001b[0;31m \u001b[0mmain\u001b[0m\u001b[0;34m(\u001b[0m\u001b[0;34m)\u001b[0m\u001b[0;34m\u001b[0m\u001b[0;34m\u001b[0m\u001b[0m\n\u001b[0m",
            "\u001b[0;32m<ipython-input-6-77d64099f22b>\u001b[0m in \u001b[0;36mmain\u001b[0;34m()\u001b[0m\n\u001b[1;32m      5\u001b[0m   \u001b[0;32mwhile\u001b[0m \u001b[0;32mTrue\u001b[0m\u001b[0;34m:\u001b[0m\u001b[0;34m\u001b[0m\u001b[0;34m\u001b[0m\u001b[0m\n\u001b[1;32m      6\u001b[0m     \u001b[0;32mtry\u001b[0m\u001b[0;34m:\u001b[0m\u001b[0;34m\u001b[0m\u001b[0;34m\u001b[0m\u001b[0m\n\u001b[0;32m----> 7\u001b[0;31m       \u001b[0mvar_option\u001b[0m\u001b[0;34m=\u001b[0m\u001b[0mint\u001b[0m\u001b[0;34m(\u001b[0m\u001b[0minput\u001b[0m\u001b[0;34m(\u001b[0m\u001b[0;34mf\"Ingrese su opción:\"\u001b[0m\u001b[0;34m)\u001b[0m\u001b[0;34m)\u001b[0m\u001b[0;34m\u001b[0m\u001b[0;34m\u001b[0m\u001b[0m\n\u001b[0m\u001b[1;32m      8\u001b[0m       \u001b[0;32mif\u001b[0m \u001b[0;34m(\u001b[0m\u001b[0mtype\u001b[0m\u001b[0;34m(\u001b[0m\u001b[0mvar_option\u001b[0m\u001b[0;34m)\u001b[0m \u001b[0;32mis\u001b[0m \u001b[0mint\u001b[0m\u001b[0;34m)\u001b[0m\u001b[0;34m:\u001b[0m\u001b[0;34m\u001b[0m\u001b[0;34m\u001b[0m\u001b[0m\n\u001b[1;32m      9\u001b[0m         \u001b[0;32mif\u001b[0m \u001b[0mvar_option\u001b[0m \u001b[0;34m==\u001b[0m \u001b[0;36m1\u001b[0m\u001b[0;34m:\u001b[0m\u001b[0;34m\u001b[0m\u001b[0;34m\u001b[0m\u001b[0m\n",
            "\u001b[0;32m/usr/local/lib/python3.10/dist-packages/ipykernel/kernelbase.py\u001b[0m in \u001b[0;36mraw_input\u001b[0;34m(self, prompt)\u001b[0m\n\u001b[1;32m    849\u001b[0m                 \u001b[0;34m\"raw_input was called, but this frontend does not support input requests.\"\u001b[0m\u001b[0;34m\u001b[0m\u001b[0;34m\u001b[0m\u001b[0m\n\u001b[1;32m    850\u001b[0m             )\n\u001b[0;32m--> 851\u001b[0;31m         return self._input_request(str(prompt),\n\u001b[0m\u001b[1;32m    852\u001b[0m             \u001b[0mself\u001b[0m\u001b[0;34m.\u001b[0m\u001b[0m_parent_ident\u001b[0m\u001b[0;34m,\u001b[0m\u001b[0;34m\u001b[0m\u001b[0;34m\u001b[0m\u001b[0m\n\u001b[1;32m    853\u001b[0m             \u001b[0mself\u001b[0m\u001b[0;34m.\u001b[0m\u001b[0m_parent_header\u001b[0m\u001b[0;34m,\u001b[0m\u001b[0;34m\u001b[0m\u001b[0;34m\u001b[0m\u001b[0m\n",
            "\u001b[0;32m/usr/local/lib/python3.10/dist-packages/ipykernel/kernelbase.py\u001b[0m in \u001b[0;36m_input_request\u001b[0;34m(self, prompt, ident, parent, password)\u001b[0m\n\u001b[1;32m    893\u001b[0m             \u001b[0;32mexcept\u001b[0m \u001b[0mKeyboardInterrupt\u001b[0m\u001b[0;34m:\u001b[0m\u001b[0;34m\u001b[0m\u001b[0;34m\u001b[0m\u001b[0m\n\u001b[1;32m    894\u001b[0m                 \u001b[0;31m# re-raise KeyboardInterrupt, to truncate traceback\u001b[0m\u001b[0;34m\u001b[0m\u001b[0;34m\u001b[0m\u001b[0m\n\u001b[0;32m--> 895\u001b[0;31m                 \u001b[0;32mraise\u001b[0m \u001b[0mKeyboardInterrupt\u001b[0m\u001b[0;34m(\u001b[0m\u001b[0;34m\"Interrupted by user\"\u001b[0m\u001b[0;34m)\u001b[0m \u001b[0;32mfrom\u001b[0m \u001b[0;32mNone\u001b[0m\u001b[0;34m\u001b[0m\u001b[0;34m\u001b[0m\u001b[0m\n\u001b[0m\u001b[1;32m    896\u001b[0m             \u001b[0;32mexcept\u001b[0m \u001b[0mException\u001b[0m \u001b[0;32mas\u001b[0m \u001b[0me\u001b[0m\u001b[0;34m:\u001b[0m\u001b[0;34m\u001b[0m\u001b[0;34m\u001b[0m\u001b[0m\n\u001b[1;32m    897\u001b[0m                 \u001b[0mself\u001b[0m\u001b[0;34m.\u001b[0m\u001b[0mlog\u001b[0m\u001b[0;34m.\u001b[0m\u001b[0mwarning\u001b[0m\u001b[0;34m(\u001b[0m\u001b[0;34m\"Invalid Message:\"\u001b[0m\u001b[0;34m,\u001b[0m \u001b[0mexc_info\u001b[0m\u001b[0;34m=\u001b[0m\u001b[0;32mTrue\u001b[0m\u001b[0;34m)\u001b[0m\u001b[0;34m\u001b[0m\u001b[0;34m\u001b[0m\u001b[0m\n",
            "\u001b[0;31mKeyboardInterrupt\u001b[0m: Interrupted by user"
          ]
        }
      ]
    }
  ],
  "metadata": {
    "kernelspec": {
      "display_name": "Python 3",
      "language": "python",
      "name": "python3"
    },
    "language_info": {
      "name": "python",
      "version": "3.11.4"
    },
    "colab": {
      "provenance": [],
      "include_colab_link": true
    }
  },
  "nbformat": 4,
  "nbformat_minor": 0
}
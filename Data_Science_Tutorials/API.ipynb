{
 "cells": [
  {
   "cell_type": "markdown",
   "metadata": {},
   "source": [
    "# Estructura de archivos: Lectura"
   ]
  },
  {
   "cell_type": "markdown",
   "metadata": {},
   "source": [
    "## Lectura de Archivos desde Api"
   ]
  },
  {
   "cell_type": "code",
   "execution_count": 5,
   "metadata": {},
   "outputs": [
    {
     "ename": "ModuleNotFoundError",
     "evalue": "No module named 'pandas'",
     "output_type": "error",
     "traceback": [
      "\u001b[1;31m---------------------------------------------------------------------------\u001b[0m",
      "\u001b[1;31mModuleNotFoundError\u001b[0m                       Traceback (most recent call last)",
      "Cell \u001b[1;32mIn[5], line 1\u001b[0m\n\u001b[1;32m----> 1\u001b[0m \u001b[38;5;28;01mimport\u001b[39;00m \u001b[38;5;21;01mpandas\u001b[39;00m \u001b[38;5;28;01mas\u001b[39;00m \u001b[38;5;21;01mpd\u001b[39;00m\n\u001b[0;32m      2\u001b[0m \u001b[38;5;66;03m# Importar la biblioteca 'requests' para hacer solicitudes HTTP\u001b[39;00m\n\u001b[0;32m      3\u001b[0m \u001b[38;5;28;01mimport\u001b[39;00m \u001b[38;5;21;01mrequests\u001b[39;00m\n",
      "\u001b[1;31mModuleNotFoundError\u001b[0m: No module named 'pandas'"
     ]
    }
   ],
   "source": [
    "import pandas as pd\n",
    "# Importar la biblioteca 'requests' para hacer solicitudes HTTP\n",
    "import requests\n",
    "\n",
    "# Importar la biblioteca 'json' para trabajar con datos JSON\n",
    "import json\n",
    "\n",
    "# Definir la URL del servicio web que proporciona datos de seguimiento de COVID-19\n",
    "url = 'https://api.covidtracking.com/v1/states/daily.json'\n",
    "\n",
    "# Hacer una solicitud GET a la URL para obtener datos\n",
    "response = requests.get(url)\n",
    "\n",
    "# Imprimir la respuesta de la solicitud (esto mostrará información sobre la respuesta HTTP)\n",
    "print(response)\n",
    "\n",
    "# Verificar si la solicitud fue exitosa (código de estado HTTP 200)\n",
    "# Caso contrario debería imprimir La solicitud no fue exitosa. Código de estado HTTP:', (código de estado HTTP: 404)\n",
    "if response.status_code == 200:\n",
    "    # Parsear la respuesta JSON y almacenarla en la variable 'data'\n",
    "    data = response.json()\n",
    "\n",
    "    # Ahora puedes trabajar con los datos en el formato JSON almacenados en 'data'\n",
    "else:\n",
    "    print('La solicitud no fue exitosa. Código de estado HTTP:', response.status_code)"
   ]
  },
  {
   "cell_type": "code",
   "execution_count": 4,
   "metadata": {},
   "outputs": [
    {
     "ename": "NameError",
     "evalue": "name 'response' is not defined",
     "output_type": "error",
     "traceback": [
      "\u001b[1;31m---------------------------------------------------------------------------\u001b[0m",
      "\u001b[1;31mNameError\u001b[0m                                 Traceback (most recent call last)",
      "Cell \u001b[1;32mIn[4], line 2\u001b[0m\n\u001b[0;32m      1\u001b[0m \u001b[38;5;66;03m#Vemos datos de la API\u001b[39;00m\n\u001b[1;32m----> 2\u001b[0m \u001b[38;5;28mprint\u001b[39m(\u001b[38;5;28mlen\u001b[39m(\u001b[43mresponse\u001b[49m\u001b[38;5;241m.\u001b[39mtext))\n\u001b[0;32m      3\u001b[0m texto\u001b[38;5;241m=\u001b[39mresponse\u001b[38;5;241m.\u001b[39mtext\n",
      "\u001b[1;31mNameError\u001b[0m: name 'response' is not defined"
     ]
    }
   ],
   "source": [
    "#Vemos datos de la API\n",
    "print(len(response.text))\n",
    "texto=response.text"
   ]
  },
  {
   "cell_type": "code",
   "execution_count": null,
   "metadata": {},
   "outputs": [],
   "source": [
    "# Presentamos los datos en una tabla\n",
    "jsondata=json.loads(texto)\n",
    "df2=pd.DataFrame.from_dict(jsondata)\n",
    "df2.head(8)"
   ]
  },
  {
   "cell_type": "markdown",
   "metadata": {},
   "source": [
    "## Lectura desde Github"
   ]
  },
  {
   "cell_type": "code",
   "execution_count": null,
   "metadata": {},
   "outputs": [],
   "source": [
    "import pandas as pd\n",
    "\n",
    "# Define la URL del archivo CSV en GitHub\n",
    "csv_url = 'https://raw.githubusercontent.com/NicolasCaminos/Python/master/Data_Science_Tutorials/fifa_eda_stats.csv'\n",
    "\n",
    "try:\n",
    "    # Carga el archivo CSV en un DataFrame de pandas\n",
    "    df = pd.read_csv(csv_url)\n",
    "\n",
    "    # Ahora puedes trabajar con los datos en el DataFrame 'df'\n",
    "    print(df.head(8))  # Muestra las primeras filas del DataFrame\n",
    "\n",
    "except pd.errors.EmptyDataError:\n",
    "    print('El archivo CSV está vacío o no se pudo cargar.')\n",
    "\n",
    "except Exception as e:\n",
    "    print('Ocurrió un error al cargar el archivo CSV:', e)"
   ]
  }
 ],
 "metadata": {
  "kernelspec": {
   "display_name": "Python 3",
   "language": "python",
   "name": "python3"
  },
  "language_info": {
   "codemirror_mode": {
    "name": "ipython",
    "version": 3
   },
   "file_extension": ".py",
   "mimetype": "text/x-python",
   "name": "python",
   "nbconvert_exporter": "python",
   "pygments_lexer": "ipython3",
   "version": "3.11.7"
  }
 },
 "nbformat": 4,
 "nbformat_minor": 2
}

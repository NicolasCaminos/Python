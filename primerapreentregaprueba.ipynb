{
  "cells": [
    {
      "cell_type": "markdown",
      "metadata": {
        "colab_type": "text",
        "id": "view-in-github"
      },
      "source": [
        "<a href=\"https://colab.research.google.com/github/NicolasCaminos/Python/blob/v0.1/primerapreentregaprueba.ipynb\" target=\"_parent\"><img src=\"https://colab.research.google.com/assets/colab-badge.svg\" alt=\"Open In Colab\"/></a>"
      ]
    },
    {
      "cell_type": "markdown",
      "metadata": {
        "id": "txdU89i4As3X"
      },
      "source": [
        "# Primera Preentrega: Nicolás Caminos"
      ]
    },
    {
      "cell_type": "markdown",
      "metadata": {
        "id": "SmMpG_blA8Sn"
      },
      "source": [
        "<h2> Se debe entregar</h2>\n",
        "✔ Se debe entregar todo el programa.\n",
        "\n",
        "<h2> Sugerencias</h2>\n",
        "\n",
        "✔ El formato de registro es: Nombre de usuario y Contraseña.\n",
        "\n",
        "✔ Utilizar una función para almacenar la información y otra función para mostrar la información.\n",
        "\n",
        "✔ Utilizar un diccionario para almacenar dicha información, con el par usuario-contraseña (clave-valor).\n",
        "\n",
        "✔ Utilizar otra función para el login de usuarios, comprobando que la contraseña coincida con el usuario.\n",
        "\n",
        "<h2> Adicional</h2>\n",
        "✔ Utilizando los conceptos de la clase 8, guarde la información en un archivo de texto dentro de su Drive.\""
      ]
    },
    {
      "cell_type": "code",
      "execution_count": 1,
      "metadata": {
        "colab": {
          "base_uri": "https://localhost:8080/"
        },
        "id": "tubm0ZC3As3a",
        "outputId": "6d7e834e-e502-422a-9edb-aafa7b438d7d"
      },
      "outputs": [
        {
          "ename": "ModuleNotFoundError",
          "evalue": "No module named 'google'",
          "output_type": "error",
          "traceback": [
            "\u001b[1;31m---------------------------------------------------------------------------\u001b[0m",
            "\u001b[1;31mModuleNotFoundError\u001b[0m                       Traceback (most recent call last)",
            "\u001b[1;32mc:\\Users\\nicol\\Desktop\\Coderhouse\\Python-Clases\\primerapreentregaprueba.ipynb Cell 4\u001b[0m line \u001b[0;36m2\n\u001b[0;32m      <a href='vscode-notebook-cell:/c%3A/Users/nicol/Desktop/Coderhouse/Python-Clases/primerapreentregaprueba.ipynb#W3sZmlsZQ%3D%3D?line=0'>1</a>\u001b[0m \u001b[39mimport\u001b[39;00m \u001b[39mjson\u001b[39;00m\n\u001b[1;32m----> <a href='vscode-notebook-cell:/c%3A/Users/nicol/Desktop/Coderhouse/Python-Clases/primerapreentregaprueba.ipynb#W3sZmlsZQ%3D%3D?line=1'>2</a>\u001b[0m \u001b[39mfrom\u001b[39;00m \u001b[39mgoogle\u001b[39;00m\u001b[39m.\u001b[39;00m\u001b[39mcolab\u001b[39;00m \u001b[39mimport\u001b[39;00m drive\n\u001b[0;32m      <a href='vscode-notebook-cell:/c%3A/Users/nicol/Desktop/Coderhouse/Python-Clases/primerapreentregaprueba.ipynb#W3sZmlsZQ%3D%3D?line=2'>3</a>\u001b[0m drive\u001b[39m.\u001b[39mmount(\u001b[39m'\u001b[39m\u001b[39m/drive/\u001b[39m\u001b[39m'\u001b[39m)\n\u001b[0;32m      <a href='vscode-notebook-cell:/c%3A/Users/nicol/Desktop/Coderhouse/Python-Clases/primerapreentregaprueba.ipynb#W3sZmlsZQ%3D%3D?line=3'>4</a>\u001b[0m \u001b[39mfrom\u001b[39;00m \u001b[39mgoogle\u001b[39;00m\u001b[39m.\u001b[39;00m\u001b[39mcolab\u001b[39;00m \u001b[39mimport\u001b[39;00m drive\n",
            "\u001b[1;31mModuleNotFoundError\u001b[0m: No module named 'google'"
          ]
        }
      ],
      "source": [
        "# import json\n",
        "# from google.colab import drive\n",
        "# drive.mount('/drive/')\n",
        "# from google.colab import drive\n",
        "# drive.mount('/content/drive')\n"
      ]
    },
    {
      "cell_type": "code",
      "execution_count": 29,
      "metadata": {
        "id": "ZyBr_fywMGeF"
      },
      "outputs": [],
      "source": [
        "# Diccionario global para almacenar usuarios y contraseñas\n",
        "user_dic = {}\n",
        "user_id = 0\n",
        "\n",
        "# Definimos la función usuarios\n",
        "def add_users():\n",
        "    global user_id \n",
        "    users = input('Ingrese su usuario: ')\n",
        "    password = input('Ingrese su contraseña: ')\n",
        "    user_id += 1\n",
        "\n",
        "    user_dic[user_id] = {\"usuario\": users, \"contrasena\": password}\n",
        "\n",
        "    print(\"Usuario Agregado Correctamente 😊\" '\\n')\n",
        "\n",
        "# Definimos la función mostrar datos\n",
        "def show_data():\n",
        "    print(\"Usuarios registrados: \")\n",
        "    for user_id, datos in user_dic.items():\n",
        "     users = datos[\"usuario\"]\n",
        "     password = datos[\"contrasena\"]\n",
        "     print(f'ID: {user_id}, Usuario: {users}, Contraseña: {password}')\n",
        "\n",
        "#definimos la función guardar datos en drive\n",
        "# def save_drive():\n",
        "#     route = '/content/drive/MyDrive/Python/Primera_Preentrega/'\n",
        "#     files = \"datos.json\"\n",
        "#     with open(route + files, \"w\") as archivo:\n",
        "#         json.dump(user_dic, archivo)\n",
        "#         print(f\"Datos guardados en {route + files}\")"
      ]
    },
    {
      "cell_type": "code",
      "execution_count": 32,
      "metadata": {
        "id": "Z0WM6gY7JOA3"
      },
      "outputs": [],
      "source": [
        "def main():\n",
        "  print(\"1 - Cargar Usuarios\")\n",
        "  print(\"2 - Ver usuarios registrados\")\n",
        "  print(\"3 - Salir\")\n",
        "  print('\\n')\n",
        "  while True:\n",
        "    try:\n",
        "      var_option=int(input(f\"Ingrese su opción:\"))\n",
        "      if (type(var_option) is int):\n",
        "        if var_option == 1:\n",
        "          add_users()\n",
        "          # save_drive()\n",
        "        elif var_option == 2:\n",
        "          show_data()\n",
        "        elif var_option == 3:\n",
        "          print(\"Saliendo del programa.\" '\\n')\n",
        "          return  # Terminar el programa\n",
        "\n",
        "        else:\n",
        "          print(\"Opción no valida\" '\\n')\n",
        "    except ValueError:\n",
        "          print('Ingresaste datos no válidos.' '\\n')"
      ]
    },
    {
      "cell_type": "code",
      "execution_count": 33,
      "metadata": {
        "colab": {
          "base_uri": "https://localhost:8080/",
          "height": 495
        },
        "id": "9hkQs7yXM9mQ",
        "outputId": "8a4c22a4-9ab7-48c4-ea4f-eee35c056d9b"
      },
      "outputs": [
        {
          "name": "stdout",
          "output_type": "stream",
          "text": [
            "1 - Cargar Usuarios\n",
            "2 - Ver usuarios registrados\n",
            "3 - Salir\n",
            "\n",
            "\n",
            "Usuario Agregado Correctamente 😊\n",
            "Usuarios registrados: \n",
            "ID: 1, Usuario: fdsfsdfdsf, Contraseña: fdsfdsff\n",
            "ID: 2, Usuario: sdfsfd, Contraseña: fdsfsdfs\n",
            "ID: 3, Usuario: dsadsad, Contraseña: fwerf\n",
            "Saliendo del programa.\n",
            "\n"
          ]
        }
      ],
      "source": [
        "main()"
      ]
    }
  ],
  "metadata": {
    "colab": {
      "include_colab_link": true,
      "provenance": []
    },
    "kernelspec": {
      "display_name": "Python 3",
      "language": "python",
      "name": "python3"
    },
    "language_info": {
      "codemirror_mode": {
        "name": "ipython",
        "version": 3
      },
      "file_extension": ".py",
      "mimetype": "text/x-python",
      "name": "python",
      "nbconvert_exporter": "python",
      "pygments_lexer": "ipython3",
      "version": "3.11.4"
    }
  },
  "nbformat": 4,
  "nbformat_minor": 0
}

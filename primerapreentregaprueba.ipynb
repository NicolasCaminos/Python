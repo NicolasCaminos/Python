{
  "cells": [
    {
      "cell_type": "markdown",
      "metadata": {
        "id": "view-in-github",
        "colab_type": "text"
      },
      "source": [
        "<a href=\"https://colab.research.google.com/github/NicolasCaminos/Python/blob/v0.1/primerapreentregaprueba.ipynb\" target=\"_parent\"><img src=\"https://colab.research.google.com/assets/colab-badge.svg\" alt=\"Open In Colab\"/></a>"
      ]
    },
    {
      "cell_type": "markdown",
      "metadata": {
        "id": "txdU89i4As3X"
      },
      "source": [
        "# Primera Preentrega: Nicolás Caminos"
      ]
    },
    {
      "cell_type": "markdown",
      "metadata": {
        "id": "SmMpG_blA8Sn"
      },
      "source": [
        "<h2> Se debe entregar</h2>\n",
        "✔ Se debe entregar todo el programa.\n",
        "\n",
        "<h2> Sugerencias</h2>\n",
        "\n",
        "✔ El formato de registro es: Nombre de usuario y Contraseña.\n",
        "\n",
        "✔ Utilizar una función para almacenar la información y otra función para mostrar la información.\n",
        "\n",
        "✔ Utilizar un diccionario para almacenar dicha información, con el par usuario-contraseña (clave-valor).\n",
        "\n",
        "✔ Utilizar otra función para el login de usuarios, comprobando que la contraseña coincida con el usuario.\n",
        "\n",
        "<h2> Adicional</h2>\n",
        "✔ Utilizando los conceptos de la clase 8, guarde la información en un archivo de texto dentro de su Drive.\""
      ]
    },
    {
      "cell_type": "code",
      "execution_count": 1,
      "metadata": {
        "colab": {
          "base_uri": "https://localhost:8080/"
        },
        "id": "tubm0ZC3As3a",
        "outputId": "52122638-231f-4f74-b81d-c4cbcd39a2fb"
      },
      "outputs": [
        {
          "output_type": "stream",
          "name": "stdout",
          "text": [
            "Mounted at /drive/\n",
            "Mounted at /content/drive\n"
          ]
        }
      ],
      "source": [
        "import json\n",
        "from google.colab import drive\n",
        "drive.mount('/drive/')\n",
        "from google.colab import drive\n",
        "drive.mount('/content/drive')\n"
      ]
    },
    {
      "cell_type": "code",
      "execution_count": 39,
      "metadata": {
        "id": "ZyBr_fywMGeF"
      },
      "outputs": [],
      "source": [
        "# Diccionario global para almacenar usuarios y contraseñas\n",
        "user_dic = {}\n",
        "user_id = 0\n",
        "\n",
        "# Definimos la función usuarios\n",
        "def add_users():\n",
        "    global user_id\n",
        "    users = input('Ingrese su usuario: ')\n",
        "    password = input('Ingrese su contraseña: ')\n",
        "    user_id += 1\n",
        "\n",
        "    user_dic[user_id] = {\"usuario\": users, \"contrasena\": password}\n",
        "\n",
        "    print(\"Usuario Agregado Correctamente 😊\" '\\n')\n",
        "\n",
        "# Definimos la función mostrar datos\n",
        "def show_data():\n",
        "    print(\"Usuarios registrados: \")\n",
        "    for user_id, datos in user_dic.items():\n",
        "     users = datos[\"usuario\"]\n",
        "     password = datos[\"contrasena\"]\n",
        "     print(f'ID: {user_id}, Usuario: {users}, Contraseña: {password}')\n",
        "\n",
        "#definimos la función guardar datos en drive\n",
        "def save_drive():\n",
        "  route = '/content/drive/MyDrive/Python/Primera_Preentrega/'\n",
        "  files = \"datos.json\"\n",
        "  with open(route + files, \"w\") as archivo:\n",
        "    json.dump(user_dic, archivo)\n",
        "    print(f\"Datos guardados en {route + files}\")\n",
        "\n",
        "def login(usuario, contra):\n",
        "    for user_id, datos in user_dic.items():\n",
        "        if datos[\"usuario\"] == usuario and datos[\"contrasena\"] == contra:\n",
        "            print(\"Inicio de sesión exitoso.\")\n",
        "            break\n",
        "\n",
        "    print(\"Error de inicio de sesión. Verifica el usuario y la contraseña.\")\n"
      ]
    },
    {
      "cell_type": "code",
      "execution_count": 45,
      "metadata": {
        "id": "Z0WM6gY7JOA3"
      },
      "outputs": [],
      "source": [
        "def main():\n",
        "  print(\"1 - Cargar Usuarios\")\n",
        "  print(\"2 - Ver usuarios registrados\")\n",
        "  print(\"3- Loguin to Infinity war\")\n",
        "  print(\"4- Salir\")\n",
        "  print('\\n')\n",
        "  while True:\n",
        "    try:\n",
        "      var_option=int(input(f\"Ingrese su opción:\"))\n",
        "      if (type(var_option) is int):\n",
        "        if var_option == 1:\n",
        "          add_users()\n",
        "          # save_drive()\n",
        "        elif var_option == 2:\n",
        "          show_data()\n",
        "        elif var_option == 3:\n",
        "            usuario = input(\"Ingrese el nombre de usuario: \")\n",
        "            contrasena = input(\"Ingrese la contraseña: \")\n",
        "            login(usuario,contrasena)\n",
        "            return  # Terminar el programa\n",
        "        elif var_option == 4:\n",
        "          print(\"Saliendo del programa.\" '\\n')\n",
        "          return  # Terminar el programa\n",
        "\n",
        "        else:\n",
        "          print(\"Opción no valida\" '\\n')\n",
        "    except ValueError:\n",
        "          print('Ingresaste datos no válidos.' '\\n')"
      ]
    },
    {
      "cell_type": "code",
      "execution_count": 46,
      "metadata": {
        "colab": {
          "base_uri": "https://localhost:8080/"
        },
        "id": "9hkQs7yXM9mQ",
        "outputId": "99d55c7a-6ce5-4f74-e257-b4ad76463751"
      },
      "outputs": [
        {
          "output_type": "stream",
          "name": "stdout",
          "text": [
            "1 - Cargar Usuarios\n",
            "2 - Ver usuarios registrados\n",
            "3- Loguin to Infinity war\n",
            "4- Salir\n",
            "\n",
            "\n",
            "Ingrese su opción:1\n",
            "Ingrese su usuario: nicolas\n",
            "Ingrese su contraseña: 123456\n",
            "Usuario Agregado Correctamente 😊\n",
            "\n",
            "Ingrese su opción:2\n",
            "Usuarios registrados: \n",
            "ID: 1, Usuario: nicolas, Contraseña: 45678\n",
            "ID: 2, Usuario: nicolas, Contraseña: 1234\n",
            "ID: 3, Usuario: nicolas, Contraseña: 1234\n",
            "ID: 4, Usuario: nicolas, Contraseña: 123456\n",
            "Ingrese su opción:3\n",
            "Ingrese el nombre de usuario: nicolas 45678\n",
            "Ingrese la contraseña: fdsf\n",
            "Error de inicio de sesión. Verifica el usuario y la contraseña.\n"
          ]
        }
      ],
      "source": [
        "main()"
      ]
    },
    {
      "cell_type": "code",
      "source": [
        "main()"
      ],
      "metadata": {
        "id": "bU8oHptmqsDi",
        "outputId": "97fcbfdf-c89f-4b0b-d21d-25a2bedec7dc",
        "colab": {
          "base_uri": "https://localhost:8080/"
        }
      },
      "execution_count": 47,
      "outputs": [
        {
          "output_type": "stream",
          "name": "stdout",
          "text": [
            "1 - Cargar Usuarios\n",
            "2 - Ver usuarios registrados\n",
            "3- Loguin to Infinity war\n",
            "4- Salir\n",
            "\n",
            "\n",
            "Ingrese su opción:3\n",
            "Ingrese el nombre de usuario: nicolas\n",
            "Ingrese la contraseña: 1234\n",
            "Inicio de sesión exitoso.\n"
          ]
        }
      ]
    }
  ],
  "metadata": {
    "colab": {
      "provenance": [],
      "include_colab_link": true
    },
    "kernelspec": {
      "display_name": "Python 3",
      "language": "python",
      "name": "python3"
    },
    "language_info": {
      "codemirror_mode": {
        "name": "ipython",
        "version": 3
      },
      "file_extension": ".py",
      "mimetype": "text/x-python",
      "name": "python",
      "nbconvert_exporter": "python",
      "pygments_lexer": "ipython3",
      "version": "3.11.4"
    }
  },
  "nbformat": 4,
  "nbformat_minor": 0
}